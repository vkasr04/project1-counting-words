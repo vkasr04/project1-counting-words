{
 "cells": [
  {
   "cell_type": "markdown",
   "metadata": {},
   "source": [
    "# Project 1: Counting words in college subreddits"
   ]
  },
  {
   "cell_type": "markdown",
   "metadata": {},
   "source": [
    "Due 9/16. Reminder that you are allowed to use any amount of AI assistance or outside resources with citation"
   ]
  },
  {
   "cell_type": "markdown",
   "metadata": {},
   "source": [
    "## Part 1: word counting and bag of words"
   ]
  },
  {
   "cell_type": "code",
   "execution_count": 17,
   "metadata": {},
   "outputs": [
    {
     "name": "stdout",
     "output_type": "stream",
     "text": [
      "Requirement already satisfied: spacy in /Users/vikas/miniconda3/envs/is310/lib/python3.9/site-packages (3.7.6)\n",
      "Requirement already satisfied: spacy-legacy<3.1.0,>=3.0.11 in /Users/vikas/miniconda3/envs/is310/lib/python3.9/site-packages (from spacy) (3.0.12)\n",
      "Requirement already satisfied: spacy-loggers<2.0.0,>=1.0.0 in /Users/vikas/miniconda3/envs/is310/lib/python3.9/site-packages (from spacy) (1.0.5)\n",
      "Requirement already satisfied: murmurhash<1.1.0,>=0.28.0 in /Users/vikas/miniconda3/envs/is310/lib/python3.9/site-packages (from spacy) (1.0.10)\n",
      "Requirement already satisfied: cymem<2.1.0,>=2.0.2 in /Users/vikas/miniconda3/envs/is310/lib/python3.9/site-packages (from spacy) (2.0.8)\n",
      "Requirement already satisfied: preshed<3.1.0,>=3.0.2 in /Users/vikas/miniconda3/envs/is310/lib/python3.9/site-packages (from spacy) (3.0.9)\n",
      "Requirement already satisfied: thinc<8.3.0,>=8.2.2 in /Users/vikas/miniconda3/envs/is310/lib/python3.9/site-packages (from spacy) (8.2.5)\n",
      "Requirement already satisfied: wasabi<1.2.0,>=0.9.1 in /Users/vikas/miniconda3/envs/is310/lib/python3.9/site-packages (from spacy) (1.1.3)\n",
      "Requirement already satisfied: srsly<3.0.0,>=2.4.3 in /Users/vikas/miniconda3/envs/is310/lib/python3.9/site-packages (from spacy) (2.4.8)\n",
      "Requirement already satisfied: catalogue<2.1.0,>=2.0.6 in /Users/vikas/miniconda3/envs/is310/lib/python3.9/site-packages (from spacy) (2.0.10)\n",
      "Requirement already satisfied: weasel<0.5.0,>=0.1.0 in /Users/vikas/miniconda3/envs/is310/lib/python3.9/site-packages (from spacy) (0.4.1)\n",
      "Requirement already satisfied: typer<1.0.0,>=0.3.0 in /Users/vikas/miniconda3/envs/is310/lib/python3.9/site-packages (from spacy) (0.12.5)\n",
      "Requirement already satisfied: tqdm<5.0.0,>=4.38.0 in /Users/vikas/miniconda3/envs/is310/lib/python3.9/site-packages (from spacy) (4.66.5)\n",
      "Requirement already satisfied: requests<3.0.0,>=2.13.0 in /Users/vikas/miniconda3/envs/is310/lib/python3.9/site-packages (from spacy) (2.32.3)\n",
      "Requirement already satisfied: pydantic!=1.8,!=1.8.1,<3.0.0,>=1.7.4 in /Users/vikas/miniconda3/envs/is310/lib/python3.9/site-packages (from spacy) (2.9.2)\n",
      "Requirement already satisfied: jinja2 in /Users/vikas/miniconda3/envs/is310/lib/python3.9/site-packages (from spacy) (3.1.4)\n",
      "Requirement already satisfied: setuptools in /Users/vikas/miniconda3/envs/is310/lib/python3.9/site-packages (from spacy) (72.1.0)\n",
      "Requirement already satisfied: packaging>=20.0 in /Users/vikas/miniconda3/envs/is310/lib/python3.9/site-packages (from spacy) (24.1)\n",
      "Requirement already satisfied: langcodes<4.0.0,>=3.2.0 in /Users/vikas/miniconda3/envs/is310/lib/python3.9/site-packages (from spacy) (3.4.0)\n",
      "Requirement already satisfied: numpy>=1.19.0 in /Users/vikas/miniconda3/envs/is310/lib/python3.9/site-packages (from spacy) (1.26.4)\n",
      "Requirement already satisfied: language-data>=1.2 in /Users/vikas/miniconda3/envs/is310/lib/python3.9/site-packages (from langcodes<4.0.0,>=3.2.0->spacy) (1.2.0)\n",
      "Requirement already satisfied: annotated-types>=0.6.0 in /Users/vikas/miniconda3/envs/is310/lib/python3.9/site-packages (from pydantic!=1.8,!=1.8.1,<3.0.0,>=1.7.4->spacy) (0.7.0)\n",
      "Requirement already satisfied: pydantic-core==2.23.4 in /Users/vikas/miniconda3/envs/is310/lib/python3.9/site-packages (from pydantic!=1.8,!=1.8.1,<3.0.0,>=1.7.4->spacy) (2.23.4)\n",
      "Requirement already satisfied: typing-extensions>=4.6.1 in /Users/vikas/miniconda3/envs/is310/lib/python3.9/site-packages (from pydantic!=1.8,!=1.8.1,<3.0.0,>=1.7.4->spacy) (4.11.0)\n",
      "Requirement already satisfied: charset-normalizer<4,>=2 in /Users/vikas/miniconda3/envs/is310/lib/python3.9/site-packages (from requests<3.0.0,>=2.13.0->spacy) (3.3.2)\n",
      "Requirement already satisfied: idna<4,>=2.5 in /Users/vikas/miniconda3/envs/is310/lib/python3.9/site-packages (from requests<3.0.0,>=2.13.0->spacy) (3.7)\n",
      "Requirement already satisfied: urllib3<3,>=1.21.1 in /Users/vikas/miniconda3/envs/is310/lib/python3.9/site-packages (from requests<3.0.0,>=2.13.0->spacy) (2.2.2)\n",
      "Requirement already satisfied: certifi>=2017.4.17 in /Users/vikas/miniconda3/envs/is310/lib/python3.9/site-packages (from requests<3.0.0,>=2.13.0->spacy) (2024.8.30)\n",
      "Requirement already satisfied: blis<0.8.0,>=0.7.8 in /Users/vikas/miniconda3/envs/is310/lib/python3.9/site-packages (from thinc<8.3.0,>=8.2.2->spacy) (0.7.11)\n",
      "Requirement already satisfied: confection<1.0.0,>=0.0.1 in /Users/vikas/miniconda3/envs/is310/lib/python3.9/site-packages (from thinc<8.3.0,>=8.2.2->spacy) (0.1.5)\n",
      "Requirement already satisfied: click>=8.0.0 in /Users/vikas/miniconda3/envs/is310/lib/python3.9/site-packages (from typer<1.0.0,>=0.3.0->spacy) (8.1.7)\n",
      "Requirement already satisfied: shellingham>=1.3.0 in /Users/vikas/miniconda3/envs/is310/lib/python3.9/site-packages (from typer<1.0.0,>=0.3.0->spacy) (1.5.4)\n",
      "Requirement already satisfied: rich>=10.11.0 in /Users/vikas/miniconda3/envs/is310/lib/python3.9/site-packages (from typer<1.0.0,>=0.3.0->spacy) (13.8.1)\n",
      "Requirement already satisfied: cloudpathlib<1.0.0,>=0.7.0 in /Users/vikas/miniconda3/envs/is310/lib/python3.9/site-packages (from weasel<0.5.0,>=0.1.0->spacy) (0.19.0)\n",
      "Requirement already satisfied: smart-open<8.0.0,>=5.2.1 in /Users/vikas/miniconda3/envs/is310/lib/python3.9/site-packages (from weasel<0.5.0,>=0.1.0->spacy) (7.0.4)\n",
      "Requirement already satisfied: MarkupSafe>=2.0 in /Users/vikas/miniconda3/envs/is310/lib/python3.9/site-packages (from jinja2->spacy) (2.1.3)\n",
      "Requirement already satisfied: marisa-trie>=0.7.7 in /Users/vikas/miniconda3/envs/is310/lib/python3.9/site-packages (from language-data>=1.2->langcodes<4.0.0,>=3.2.0->spacy) (1.2.0)\n",
      "Requirement already satisfied: markdown-it-py>=2.2.0 in /Users/vikas/miniconda3/envs/is310/lib/python3.9/site-packages (from rich>=10.11.0->typer<1.0.0,>=0.3.0->spacy) (3.0.0)\n",
      "Requirement already satisfied: pygments<3.0.0,>=2.13.0 in /Users/vikas/miniconda3/envs/is310/lib/python3.9/site-packages (from rich>=10.11.0->typer<1.0.0,>=0.3.0->spacy) (2.15.1)\n",
      "Requirement already satisfied: wrapt in /Users/vikas/miniconda3/envs/is310/lib/python3.9/site-packages (from smart-open<8.0.0,>=5.2.1->weasel<0.5.0,>=0.1.0->spacy) (1.16.0)\n",
      "Requirement already satisfied: mdurl~=0.1 in /Users/vikas/miniconda3/envs/is310/lib/python3.9/site-packages (from markdown-it-py>=2.2.0->rich>=10.11.0->typer<1.0.0,>=0.3.0->spacy) (0.1.2)\n"
     ]
    }
   ],
   "source": [
    "#install spacy in the current conda environment\n",
    "!pip install spacy\n"
   ]
  },
  {
   "cell_type": "code",
   "execution_count": 18,
   "metadata": {},
   "outputs": [
    {
     "name": "stdout",
     "output_type": "stream",
     "text": [
      "Collecting en-core-web-sm==3.7.1\n",
      "  Downloading https://github.com/explosion/spacy-models/releases/download/en_core_web_sm-3.7.1/en_core_web_sm-3.7.1-py3-none-any.whl (12.8 MB)\n",
      "\u001b[2K     \u001b[90m━━━━━━━━━━━━━━━━━━━━━━━━━━━━━━━━━━━━━━━━\u001b[0m \u001b[32m12.8/12.8 MB\u001b[0m \u001b[31m23.4 MB/s\u001b[0m eta \u001b[36m0:00:00\u001b[0ma \u001b[36m0:00:01\u001b[0m\n",
      "\u001b[?25hRequirement already satisfied: spacy<3.8.0,>=3.7.2 in /Users/vikas/miniconda3/envs/is310/lib/python3.9/site-packages (from en-core-web-sm==3.7.1) (3.7.6)\n",
      "Requirement already satisfied: spacy-legacy<3.1.0,>=3.0.11 in /Users/vikas/miniconda3/envs/is310/lib/python3.9/site-packages (from spacy<3.8.0,>=3.7.2->en-core-web-sm==3.7.1) (3.0.12)\n",
      "Requirement already satisfied: spacy-loggers<2.0.0,>=1.0.0 in /Users/vikas/miniconda3/envs/is310/lib/python3.9/site-packages (from spacy<3.8.0,>=3.7.2->en-core-web-sm==3.7.1) (1.0.5)\n",
      "Requirement already satisfied: murmurhash<1.1.0,>=0.28.0 in /Users/vikas/miniconda3/envs/is310/lib/python3.9/site-packages (from spacy<3.8.0,>=3.7.2->en-core-web-sm==3.7.1) (1.0.10)\n",
      "Requirement already satisfied: cymem<2.1.0,>=2.0.2 in /Users/vikas/miniconda3/envs/is310/lib/python3.9/site-packages (from spacy<3.8.0,>=3.7.2->en-core-web-sm==3.7.1) (2.0.8)\n",
      "Requirement already satisfied: preshed<3.1.0,>=3.0.2 in /Users/vikas/miniconda3/envs/is310/lib/python3.9/site-packages (from spacy<3.8.0,>=3.7.2->en-core-web-sm==3.7.1) (3.0.9)\n",
      "Requirement already satisfied: thinc<8.3.0,>=8.2.2 in /Users/vikas/miniconda3/envs/is310/lib/python3.9/site-packages (from spacy<3.8.0,>=3.7.2->en-core-web-sm==3.7.1) (8.2.5)\n",
      "Requirement already satisfied: wasabi<1.2.0,>=0.9.1 in /Users/vikas/miniconda3/envs/is310/lib/python3.9/site-packages (from spacy<3.8.0,>=3.7.2->en-core-web-sm==3.7.1) (1.1.3)\n",
      "Requirement already satisfied: srsly<3.0.0,>=2.4.3 in /Users/vikas/miniconda3/envs/is310/lib/python3.9/site-packages (from spacy<3.8.0,>=3.7.2->en-core-web-sm==3.7.1) (2.4.8)\n",
      "Requirement already satisfied: catalogue<2.1.0,>=2.0.6 in /Users/vikas/miniconda3/envs/is310/lib/python3.9/site-packages (from spacy<3.8.0,>=3.7.2->en-core-web-sm==3.7.1) (2.0.10)\n",
      "Requirement already satisfied: weasel<0.5.0,>=0.1.0 in /Users/vikas/miniconda3/envs/is310/lib/python3.9/site-packages (from spacy<3.8.0,>=3.7.2->en-core-web-sm==3.7.1) (0.4.1)\n",
      "Requirement already satisfied: typer<1.0.0,>=0.3.0 in /Users/vikas/miniconda3/envs/is310/lib/python3.9/site-packages (from spacy<3.8.0,>=3.7.2->en-core-web-sm==3.7.1) (0.12.5)\n",
      "Requirement already satisfied: tqdm<5.0.0,>=4.38.0 in /Users/vikas/miniconda3/envs/is310/lib/python3.9/site-packages (from spacy<3.8.0,>=3.7.2->en-core-web-sm==3.7.1) (4.66.5)\n",
      "Requirement already satisfied: requests<3.0.0,>=2.13.0 in /Users/vikas/miniconda3/envs/is310/lib/python3.9/site-packages (from spacy<3.8.0,>=3.7.2->en-core-web-sm==3.7.1) (2.32.3)\n",
      "Requirement already satisfied: pydantic!=1.8,!=1.8.1,<3.0.0,>=1.7.4 in /Users/vikas/miniconda3/envs/is310/lib/python3.9/site-packages (from spacy<3.8.0,>=3.7.2->en-core-web-sm==3.7.1) (2.9.2)\n",
      "Requirement already satisfied: jinja2 in /Users/vikas/miniconda3/envs/is310/lib/python3.9/site-packages (from spacy<3.8.0,>=3.7.2->en-core-web-sm==3.7.1) (3.1.4)\n",
      "Requirement already satisfied: setuptools in /Users/vikas/miniconda3/envs/is310/lib/python3.9/site-packages (from spacy<3.8.0,>=3.7.2->en-core-web-sm==3.7.1) (72.1.0)\n",
      "Requirement already satisfied: packaging>=20.0 in /Users/vikas/miniconda3/envs/is310/lib/python3.9/site-packages (from spacy<3.8.0,>=3.7.2->en-core-web-sm==3.7.1) (24.1)\n",
      "Requirement already satisfied: langcodes<4.0.0,>=3.2.0 in /Users/vikas/miniconda3/envs/is310/lib/python3.9/site-packages (from spacy<3.8.0,>=3.7.2->en-core-web-sm==3.7.1) (3.4.0)\n",
      "Requirement already satisfied: numpy>=1.19.0 in /Users/vikas/miniconda3/envs/is310/lib/python3.9/site-packages (from spacy<3.8.0,>=3.7.2->en-core-web-sm==3.7.1) (1.26.4)\n",
      "Requirement already satisfied: language-data>=1.2 in /Users/vikas/miniconda3/envs/is310/lib/python3.9/site-packages (from langcodes<4.0.0,>=3.2.0->spacy<3.8.0,>=3.7.2->en-core-web-sm==3.7.1) (1.2.0)\n",
      "Requirement already satisfied: annotated-types>=0.6.0 in /Users/vikas/miniconda3/envs/is310/lib/python3.9/site-packages (from pydantic!=1.8,!=1.8.1,<3.0.0,>=1.7.4->spacy<3.8.0,>=3.7.2->en-core-web-sm==3.7.1) (0.7.0)\n",
      "Requirement already satisfied: pydantic-core==2.23.4 in /Users/vikas/miniconda3/envs/is310/lib/python3.9/site-packages (from pydantic!=1.8,!=1.8.1,<3.0.0,>=1.7.4->spacy<3.8.0,>=3.7.2->en-core-web-sm==3.7.1) (2.23.4)\n",
      "Requirement already satisfied: typing-extensions>=4.6.1 in /Users/vikas/miniconda3/envs/is310/lib/python3.9/site-packages (from pydantic!=1.8,!=1.8.1,<3.0.0,>=1.7.4->spacy<3.8.0,>=3.7.2->en-core-web-sm==3.7.1) (4.11.0)\n",
      "Requirement already satisfied: charset-normalizer<4,>=2 in /Users/vikas/miniconda3/envs/is310/lib/python3.9/site-packages (from requests<3.0.0,>=2.13.0->spacy<3.8.0,>=3.7.2->en-core-web-sm==3.7.1) (3.3.2)\n",
      "Requirement already satisfied: idna<4,>=2.5 in /Users/vikas/miniconda3/envs/is310/lib/python3.9/site-packages (from requests<3.0.0,>=2.13.0->spacy<3.8.0,>=3.7.2->en-core-web-sm==3.7.1) (3.7)\n",
      "Requirement already satisfied: urllib3<3,>=1.21.1 in /Users/vikas/miniconda3/envs/is310/lib/python3.9/site-packages (from requests<3.0.0,>=2.13.0->spacy<3.8.0,>=3.7.2->en-core-web-sm==3.7.1) (2.2.2)\n",
      "Requirement already satisfied: certifi>=2017.4.17 in /Users/vikas/miniconda3/envs/is310/lib/python3.9/site-packages (from requests<3.0.0,>=2.13.0->spacy<3.8.0,>=3.7.2->en-core-web-sm==3.7.1) (2024.8.30)\n",
      "Requirement already satisfied: blis<0.8.0,>=0.7.8 in /Users/vikas/miniconda3/envs/is310/lib/python3.9/site-packages (from thinc<8.3.0,>=8.2.2->spacy<3.8.0,>=3.7.2->en-core-web-sm==3.7.1) (0.7.11)\n",
      "Requirement already satisfied: confection<1.0.0,>=0.0.1 in /Users/vikas/miniconda3/envs/is310/lib/python3.9/site-packages (from thinc<8.3.0,>=8.2.2->spacy<3.8.0,>=3.7.2->en-core-web-sm==3.7.1) (0.1.5)\n",
      "Requirement already satisfied: click>=8.0.0 in /Users/vikas/miniconda3/envs/is310/lib/python3.9/site-packages (from typer<1.0.0,>=0.3.0->spacy<3.8.0,>=3.7.2->en-core-web-sm==3.7.1) (8.1.7)\n",
      "Requirement already satisfied: shellingham>=1.3.0 in /Users/vikas/miniconda3/envs/is310/lib/python3.9/site-packages (from typer<1.0.0,>=0.3.0->spacy<3.8.0,>=3.7.2->en-core-web-sm==3.7.1) (1.5.4)\n",
      "Requirement already satisfied: rich>=10.11.0 in /Users/vikas/miniconda3/envs/is310/lib/python3.9/site-packages (from typer<1.0.0,>=0.3.0->spacy<3.8.0,>=3.7.2->en-core-web-sm==3.7.1) (13.8.1)\n",
      "Requirement already satisfied: cloudpathlib<1.0.0,>=0.7.0 in /Users/vikas/miniconda3/envs/is310/lib/python3.9/site-packages (from weasel<0.5.0,>=0.1.0->spacy<3.8.0,>=3.7.2->en-core-web-sm==3.7.1) (0.19.0)\n",
      "Requirement already satisfied: smart-open<8.0.0,>=5.2.1 in /Users/vikas/miniconda3/envs/is310/lib/python3.9/site-packages (from weasel<0.5.0,>=0.1.0->spacy<3.8.0,>=3.7.2->en-core-web-sm==3.7.1) (7.0.4)\n",
      "Requirement already satisfied: MarkupSafe>=2.0 in /Users/vikas/miniconda3/envs/is310/lib/python3.9/site-packages (from jinja2->spacy<3.8.0,>=3.7.2->en-core-web-sm==3.7.1) (2.1.3)\n",
      "Requirement already satisfied: marisa-trie>=0.7.7 in /Users/vikas/miniconda3/envs/is310/lib/python3.9/site-packages (from language-data>=1.2->langcodes<4.0.0,>=3.2.0->spacy<3.8.0,>=3.7.2->en-core-web-sm==3.7.1) (1.2.0)\n",
      "Requirement already satisfied: markdown-it-py>=2.2.0 in /Users/vikas/miniconda3/envs/is310/lib/python3.9/site-packages (from rich>=10.11.0->typer<1.0.0,>=0.3.0->spacy<3.8.0,>=3.7.2->en-core-web-sm==3.7.1) (3.0.0)\n",
      "Requirement already satisfied: pygments<3.0.0,>=2.13.0 in /Users/vikas/miniconda3/envs/is310/lib/python3.9/site-packages (from rich>=10.11.0->typer<1.0.0,>=0.3.0->spacy<3.8.0,>=3.7.2->en-core-web-sm==3.7.1) (2.15.1)\n",
      "Requirement already satisfied: wrapt in /Users/vikas/miniconda3/envs/is310/lib/python3.9/site-packages (from smart-open<8.0.0,>=5.2.1->weasel<0.5.0,>=0.1.0->spacy<3.8.0,>=3.7.2->en-core-web-sm==3.7.1) (1.16.0)\n",
      "Requirement already satisfied: mdurl~=0.1 in /Users/vikas/miniconda3/envs/is310/lib/python3.9/site-packages (from markdown-it-py>=2.2.0->rich>=10.11.0->typer<1.0.0,>=0.3.0->spacy<3.8.0,>=3.7.2->en-core-web-sm==3.7.1) (0.1.2)\n",
      "\u001b[38;5;2m✔ Download and installation successful\u001b[0m\n",
      "You can now load the package via spacy.load('en_core_web_sm')\n"
     ]
    }
   ],
   "source": [
    "#download a small language model to help with cleaning tasks\n",
    "!python -m spacy download en_core_web_sm\n",
    "\n"
   ]
  },
  {
   "cell_type": "code",
   "execution_count": 19,
   "metadata": {},
   "outputs": [
    {
     "name": "stdout",
     "output_type": "stream",
     "text": [
      "Requirement already satisfied: matplotlib in /Users/vikas/miniconda3/envs/is310/lib/python3.9/site-packages (3.9.2)\n",
      "Requirement already satisfied: contourpy>=1.0.1 in /Users/vikas/miniconda3/envs/is310/lib/python3.9/site-packages (from matplotlib) (1.3.0)\n",
      "Requirement already satisfied: cycler>=0.10 in /Users/vikas/miniconda3/envs/is310/lib/python3.9/site-packages (from matplotlib) (0.12.1)\n",
      "Requirement already satisfied: fonttools>=4.22.0 in /Users/vikas/miniconda3/envs/is310/lib/python3.9/site-packages (from matplotlib) (4.54.0)\n",
      "Requirement already satisfied: kiwisolver>=1.3.1 in /Users/vikas/miniconda3/envs/is310/lib/python3.9/site-packages (from matplotlib) (1.4.7)\n",
      "Requirement already satisfied: numpy>=1.23 in /Users/vikas/miniconda3/envs/is310/lib/python3.9/site-packages (from matplotlib) (1.26.4)\n",
      "Requirement already satisfied: packaging>=20.0 in /Users/vikas/miniconda3/envs/is310/lib/python3.9/site-packages (from matplotlib) (24.1)\n",
      "Requirement already satisfied: pillow>=8 in /Users/vikas/miniconda3/envs/is310/lib/python3.9/site-packages (from matplotlib) (10.4.0)\n",
      "Requirement already satisfied: pyparsing>=2.3.1 in /Users/vikas/miniconda3/envs/is310/lib/python3.9/site-packages (from matplotlib) (3.1.4)\n",
      "Requirement already satisfied: python-dateutil>=2.7 in /Users/vikas/miniconda3/envs/is310/lib/python3.9/site-packages (from matplotlib) (2.9.0.post0)\n",
      "Requirement already satisfied: importlib-resources>=3.2.0 in /Users/vikas/miniconda3/envs/is310/lib/python3.9/site-packages (from matplotlib) (6.4.5)\n",
      "Requirement already satisfied: zipp>=3.1.0 in /Users/vikas/miniconda3/envs/is310/lib/python3.9/site-packages (from importlib-resources>=3.2.0->matplotlib) (3.17.0)\n",
      "Requirement already satisfied: six>=1.5 in /Users/vikas/miniconda3/envs/is310/lib/python3.9/site-packages (from python-dateutil>=2.7->matplotlib) (1.16.0)\n"
     ]
    }
   ],
   "source": [
    "#had issues with matplotlib\n",
    "!pip install matplotlib"
   ]
  },
  {
   "cell_type": "code",
   "execution_count": 20,
   "metadata": {},
   "outputs": [],
   "source": [
    "#import required libraries\n",
    "import pandas as pd\n",
    "from sklearn.feature_extraction.text import CountVectorizer\n",
    "import spacy\n",
    "language_model = spacy.load(\"en_core_web_sm\")\n",
    "import matplotlib.pyplot as plt\n",
    "\n",
    "import numpy as np"
   ]
  },
  {
   "cell_type": "markdown",
   "metadata": {},
   "source": [
    "### Problem 1 and example: common words in the Michigan subreddit"
   ]
  },
  {
   "cell_type": "code",
   "execution_count": 98,
   "metadata": {},
   "outputs": [],
   "source": [
    "#read the data from a csv file in the folder\n",
    "mich=pd.read_csv(\"umich.csv\")"
   ]
  },
  {
   "cell_type": "code",
   "execution_count": 99,
   "metadata": {},
   "outputs": [
    {
     "data": {
      "text/html": [
       "<div>\n",
       "<style scoped>\n",
       "    .dataframe tbody tr th:only-of-type {\n",
       "        vertical-align: middle;\n",
       "    }\n",
       "\n",
       "    .dataframe tbody tr th {\n",
       "        vertical-align: top;\n",
       "    }\n",
       "\n",
       "    .dataframe thead th {\n",
       "        text-align: right;\n",
       "    }\n",
       "</style>\n",
       "<table border=\"1\" class=\"dataframe\">\n",
       "  <thead>\n",
       "    <tr style=\"text-align: right;\">\n",
       "      <th></th>\n",
       "      <th>Unnamed: 0</th>\n",
       "      <th>date</th>\n",
       "      <th>post_votes</th>\n",
       "      <th>text</th>\n",
       "      <th>user</th>\n",
       "      <th>com_votes</th>\n",
       "    </tr>\n",
       "  </thead>\n",
       "  <tbody>\n",
       "    <tr>\n",
       "      <th>0</th>\n",
       "      <td>0</td>\n",
       "      <td>2024-09-04 15:33:20</td>\n",
       "      <td>2</td>\n",
       "      <td>Zingermans has a nice reuben, pretty pricey bu...</td>\n",
       "      <td>Suspicious-Bad703</td>\n",
       "      <td>2</td>\n",
       "    </tr>\n",
       "    <tr>\n",
       "      <th>1</th>\n",
       "      <td>1</td>\n",
       "      <td>2024-09-04 15:33:20</td>\n",
       "      <td>2</td>\n",
       "      <td>I really love Tomokun!</td>\n",
       "      <td>webstbre000</td>\n",
       "      <td>2</td>\n",
       "    </tr>\n",
       "    <tr>\n",
       "      <th>2</th>\n",
       "      <td>2</td>\n",
       "      <td>2024-09-04 15:33:20</td>\n",
       "      <td>2</td>\n",
       "      <td>The Seoul is pretty good I especially like the...</td>\n",
       "      <td>iaxlmao</td>\n",
       "      <td>1</td>\n",
       "    </tr>\n",
       "    <tr>\n",
       "      <th>3</th>\n",
       "      <td>3</td>\n",
       "      <td>2024-09-04 15:33:20</td>\n",
       "      <td>2</td>\n",
       "      <td>A lot of it depends on what type of food and w...</td>\n",
       "      <td>I-696</td>\n",
       "      <td>1</td>\n",
       "    </tr>\n",
       "    <tr>\n",
       "      <th>4</th>\n",
       "      <td>4</td>\n",
       "      <td>2024-09-04 14:32:17</td>\n",
       "      <td>1</td>\n",
       "      <td>You can book completely enclosed private study...</td>\n",
       "      <td>sneep_</td>\n",
       "      <td>2</td>\n",
       "    </tr>\n",
       "    <tr>\n",
       "      <th>...</th>\n",
       "      <td>...</td>\n",
       "      <td>...</td>\n",
       "      <td>...</td>\n",
       "      <td>...</td>\n",
       "      <td>...</td>\n",
       "      <td>...</td>\n",
       "    </tr>\n",
       "    <tr>\n",
       "      <th>8334</th>\n",
       "      <td>8334</td>\n",
       "      <td>2024-07-02 12:35:36</td>\n",
       "      <td>9</td>\n",
       "      <td>It isn’t a student org</td>\n",
       "      <td>Vibes_And_Smiles</td>\n",
       "      <td>1</td>\n",
       "    </tr>\n",
       "    <tr>\n",
       "      <th>8335</th>\n",
       "      <td>8335</td>\n",
       "      <td>2024-07-02 11:07:10</td>\n",
       "      <td>0</td>\n",
       "      <td>Life   \\nMatter   \\nLife's matter</td>\n",
       "      <td>tctu</td>\n",
       "      <td>8</td>\n",
       "    </tr>\n",
       "    <tr>\n",
       "      <th>8336</th>\n",
       "      <td>8336</td>\n",
       "      <td>2024-07-02 11:07:10</td>\n",
       "      <td>0</td>\n",
       "      <td>google</td>\n",
       "      <td>SUPERazkari</td>\n",
       "      <td>4</td>\n",
       "    </tr>\n",
       "    <tr>\n",
       "      <th>8337</th>\n",
       "      <td>8337</td>\n",
       "      <td>2024-07-02 11:07:10</td>\n",
       "      <td>0</td>\n",
       "      <td>That’s a hard question to answer for a set of ...</td>\n",
       "      <td>Own-Resident-3837</td>\n",
       "      <td>-1</td>\n",
       "    </tr>\n",
       "    <tr>\n",
       "      <th>8338</th>\n",
       "      <td>8338</td>\n",
       "      <td>2024-07-02 11:07:10</td>\n",
       "      <td>0</td>\n",
       "      <td>Not either one but instead why do people pick ...</td>\n",
       "      <td>No-Chemistry-6677</td>\n",
       "      <td>-4</td>\n",
       "    </tr>\n",
       "  </tbody>\n",
       "</table>\n",
       "<p>8339 rows × 6 columns</p>\n",
       "</div>"
      ],
      "text/plain": [
       "      Unnamed: 0                 date  post_votes  \\\n",
       "0              0  2024-09-04 15:33:20           2   \n",
       "1              1  2024-09-04 15:33:20           2   \n",
       "2              2  2024-09-04 15:33:20           2   \n",
       "3              3  2024-09-04 15:33:20           2   \n",
       "4              4  2024-09-04 14:32:17           1   \n",
       "...          ...                  ...         ...   \n",
       "8334        8334  2024-07-02 12:35:36           9   \n",
       "8335        8335  2024-07-02 11:07:10           0   \n",
       "8336        8336  2024-07-02 11:07:10           0   \n",
       "8337        8337  2024-07-02 11:07:10           0   \n",
       "8338        8338  2024-07-02 11:07:10           0   \n",
       "\n",
       "                                                   text               user  \\\n",
       "0     Zingermans has a nice reuben, pretty pricey bu...  Suspicious-Bad703   \n",
       "1                                I really love Tomokun!        webstbre000   \n",
       "2     The Seoul is pretty good I especially like the...            iaxlmao   \n",
       "3     A lot of it depends on what type of food and w...              I-696   \n",
       "4     You can book completely enclosed private study...             sneep_   \n",
       "...                                                 ...                ...   \n",
       "8334                             It isn’t a student org   Vibes_And_Smiles   \n",
       "8335                  Life   \\nMatter   \\nLife's matter               tctu   \n",
       "8336                                             google        SUPERazkari   \n",
       "8337  That’s a hard question to answer for a set of ...  Own-Resident-3837   \n",
       "8338  Not either one but instead why do people pick ...  No-Chemistry-6677   \n",
       "\n",
       "      com_votes  \n",
       "0             2  \n",
       "1             2  \n",
       "2             1  \n",
       "3             1  \n",
       "4             2  \n",
       "...         ...  \n",
       "8334          1  \n",
       "8335          8  \n",
       "8336          4  \n",
       "8337         -1  \n",
       "8338         -4  \n",
       "\n",
       "[8339 rows x 6 columns]"
      ]
     },
     "execution_count": 99,
     "metadata": {},
     "output_type": "execute_result"
    }
   ],
   "source": [
    "#jupyter will print a pretty representation of most python objects if you just put the name\n",
    "#we can see that the full text of each reddit comment is provided in the \"text\" column\n",
    "mich"
   ]
  },
  {
   "cell_type": "code",
   "execution_count": 100,
   "metadata": {},
   "outputs": [],
   "source": [
    "#this is a function that does some light cleaning, by removing newline characters, converting to lowercase, and removing punctuation\n",
    "\n",
    "def clean(text):\n",
    "    #remove newline and space characters\n",
    "    text = ' '.join(text.split())\n",
    "    #convert the text to lowercase\n",
    "    text = text.lower()\n",
    "    #remove punctuation\n",
    "    text = ''.join([char for char in text if char.isalpha() or char.isspace()])\n",
    "    return text"
   ]
  },
  {
   "cell_type": "code",
   "execution_count": 101,
   "metadata": {},
   "outputs": [],
   "source": [
    "#pandas allows us to quickly apply this cleaning function to all rows in a column\n",
    "mich['cleaned_text'] = mich['text'].apply(clean)"
   ]
  },
  {
   "cell_type": "code",
   "execution_count": 102,
   "metadata": {},
   "outputs": [
    {
     "data": {
      "text/plain": [
       "'zingermans has a nice reuben pretty pricey but the sammies are pretty big'"
      ]
     },
     "execution_count": 102,
     "metadata": {},
     "output_type": "execute_result"
    }
   ],
   "source": [
    "#we can see the first comment after cleaning vs before\n",
    "mich[\"cleaned_text\"][0]"
   ]
  },
  {
   "cell_type": "code",
   "execution_count": 103,
   "metadata": {},
   "outputs": [
    {
     "data": {
      "text/plain": [
       "'Zingermans has a nice reuben, pretty pricey but the sammies are pretty big'"
      ]
     },
     "execution_count": 103,
     "metadata": {},
     "output_type": "execute_result"
    }
   ],
   "source": [
    "mich[\"text\"][0]"
   ]
  },
  {
   "cell_type": "code",
   "execution_count": 104,
   "metadata": {},
   "outputs": [],
   "source": [
    "#create a bag of words representation with count vectorizer\n",
    "vectorizer = CountVectorizer()\n",
    "bag_of_words = vectorizer.fit_transform(mich['cleaned_text'])"
   ]
  },
  {
   "cell_type": "code",
   "execution_count": 105,
   "metadata": {},
   "outputs": [
    {
     "data": {
      "text/plain": [
       "<8339x15289 sparse matrix of type '<class 'numpy.int64'>'\n",
       "\twith 221217 stored elements in Compressed Sparse Row format>"
      ]
     },
     "execution_count": 105,
     "metadata": {},
     "output_type": "execute_result"
    }
   ],
   "source": [
    "#this is a sparse matrix, which is a more efficient way to store a matrix with many zeros\n",
    "#the matrix has 8339 rows (one for each comment) and 15289 columns (one for each unique word in the dataset)\n",
    "bag_of_words"
   ]
  },
  {
   "cell_type": "code",
   "execution_count": 106,
   "metadata": {},
   "outputs": [
    {
     "data": {
      "text/html": [
       "<div>\n",
       "<style scoped>\n",
       "    .dataframe tbody tr th:only-of-type {\n",
       "        vertical-align: middle;\n",
       "    }\n",
       "\n",
       "    .dataframe tbody tr th {\n",
       "        vertical-align: top;\n",
       "    }\n",
       "\n",
       "    .dataframe thead th {\n",
       "        text-align: right;\n",
       "    }\n",
       "</style>\n",
       "<table border=\"1\" class=\"dataframe\">\n",
       "  <thead>\n",
       "    <tr style=\"text-align: right;\">\n",
       "      <th></th>\n",
       "      <th>aa</th>\n",
       "      <th>aadl</th>\n",
       "      <th>aapd</th>\n",
       "      <th>aata</th>\n",
       "      <th>ab</th>\n",
       "      <th>abab</th>\n",
       "      <th>abandon</th>\n",
       "      <th>abandoned</th>\n",
       "      <th>abbreviation</th>\n",
       "      <th>abbreviations</th>\n",
       "      <th>...</th>\n",
       "      <th>zoned</th>\n",
       "      <th>zones</th>\n",
       "      <th>zoning</th>\n",
       "      <th>zoo</th>\n",
       "      <th>zoom</th>\n",
       "      <th>zoomer</th>\n",
       "      <th>zoomers</th>\n",
       "      <th>zuckerberg</th>\n",
       "      <th>𝓲𝓷𝓼𝓮𝓬𝓾𝓻𝓮</th>\n",
       "      <th>𝘢𝘩𝘦𝘮</th>\n",
       "    </tr>\n",
       "  </thead>\n",
       "  <tbody>\n",
       "    <tr>\n",
       "      <th>0</th>\n",
       "      <td>0</td>\n",
       "      <td>0</td>\n",
       "      <td>0</td>\n",
       "      <td>0</td>\n",
       "      <td>0</td>\n",
       "      <td>0</td>\n",
       "      <td>0</td>\n",
       "      <td>0</td>\n",
       "      <td>0</td>\n",
       "      <td>0</td>\n",
       "      <td>...</td>\n",
       "      <td>0</td>\n",
       "      <td>0</td>\n",
       "      <td>0</td>\n",
       "      <td>0</td>\n",
       "      <td>0</td>\n",
       "      <td>0</td>\n",
       "      <td>0</td>\n",
       "      <td>0</td>\n",
       "      <td>0</td>\n",
       "      <td>0</td>\n",
       "    </tr>\n",
       "    <tr>\n",
       "      <th>1</th>\n",
       "      <td>0</td>\n",
       "      <td>0</td>\n",
       "      <td>0</td>\n",
       "      <td>0</td>\n",
       "      <td>0</td>\n",
       "      <td>0</td>\n",
       "      <td>0</td>\n",
       "      <td>0</td>\n",
       "      <td>0</td>\n",
       "      <td>0</td>\n",
       "      <td>...</td>\n",
       "      <td>0</td>\n",
       "      <td>0</td>\n",
       "      <td>0</td>\n",
       "      <td>0</td>\n",
       "      <td>0</td>\n",
       "      <td>0</td>\n",
       "      <td>0</td>\n",
       "      <td>0</td>\n",
       "      <td>0</td>\n",
       "      <td>0</td>\n",
       "    </tr>\n",
       "    <tr>\n",
       "      <th>2</th>\n",
       "      <td>0</td>\n",
       "      <td>0</td>\n",
       "      <td>0</td>\n",
       "      <td>0</td>\n",
       "      <td>0</td>\n",
       "      <td>0</td>\n",
       "      <td>0</td>\n",
       "      <td>0</td>\n",
       "      <td>0</td>\n",
       "      <td>0</td>\n",
       "      <td>...</td>\n",
       "      <td>0</td>\n",
       "      <td>0</td>\n",
       "      <td>0</td>\n",
       "      <td>0</td>\n",
       "      <td>0</td>\n",
       "      <td>0</td>\n",
       "      <td>0</td>\n",
       "      <td>0</td>\n",
       "      <td>0</td>\n",
       "      <td>0</td>\n",
       "    </tr>\n",
       "    <tr>\n",
       "      <th>3</th>\n",
       "      <td>0</td>\n",
       "      <td>0</td>\n",
       "      <td>0</td>\n",
       "      <td>0</td>\n",
       "      <td>0</td>\n",
       "      <td>0</td>\n",
       "      <td>0</td>\n",
       "      <td>0</td>\n",
       "      <td>0</td>\n",
       "      <td>0</td>\n",
       "      <td>...</td>\n",
       "      <td>0</td>\n",
       "      <td>0</td>\n",
       "      <td>0</td>\n",
       "      <td>0</td>\n",
       "      <td>0</td>\n",
       "      <td>0</td>\n",
       "      <td>0</td>\n",
       "      <td>0</td>\n",
       "      <td>0</td>\n",
       "      <td>0</td>\n",
       "    </tr>\n",
       "    <tr>\n",
       "      <th>4</th>\n",
       "      <td>0</td>\n",
       "      <td>0</td>\n",
       "      <td>0</td>\n",
       "      <td>0</td>\n",
       "      <td>0</td>\n",
       "      <td>0</td>\n",
       "      <td>0</td>\n",
       "      <td>0</td>\n",
       "      <td>0</td>\n",
       "      <td>0</td>\n",
       "      <td>...</td>\n",
       "      <td>0</td>\n",
       "      <td>0</td>\n",
       "      <td>0</td>\n",
       "      <td>0</td>\n",
       "      <td>0</td>\n",
       "      <td>0</td>\n",
       "      <td>0</td>\n",
       "      <td>0</td>\n",
       "      <td>0</td>\n",
       "      <td>0</td>\n",
       "    </tr>\n",
       "    <tr>\n",
       "      <th>...</th>\n",
       "      <td>...</td>\n",
       "      <td>...</td>\n",
       "      <td>...</td>\n",
       "      <td>...</td>\n",
       "      <td>...</td>\n",
       "      <td>...</td>\n",
       "      <td>...</td>\n",
       "      <td>...</td>\n",
       "      <td>...</td>\n",
       "      <td>...</td>\n",
       "      <td>...</td>\n",
       "      <td>...</td>\n",
       "      <td>...</td>\n",
       "      <td>...</td>\n",
       "      <td>...</td>\n",
       "      <td>...</td>\n",
       "      <td>...</td>\n",
       "      <td>...</td>\n",
       "      <td>...</td>\n",
       "      <td>...</td>\n",
       "      <td>...</td>\n",
       "    </tr>\n",
       "    <tr>\n",
       "      <th>8334</th>\n",
       "      <td>0</td>\n",
       "      <td>0</td>\n",
       "      <td>0</td>\n",
       "      <td>0</td>\n",
       "      <td>0</td>\n",
       "      <td>0</td>\n",
       "      <td>0</td>\n",
       "      <td>0</td>\n",
       "      <td>0</td>\n",
       "      <td>0</td>\n",
       "      <td>...</td>\n",
       "      <td>0</td>\n",
       "      <td>0</td>\n",
       "      <td>0</td>\n",
       "      <td>0</td>\n",
       "      <td>0</td>\n",
       "      <td>0</td>\n",
       "      <td>0</td>\n",
       "      <td>0</td>\n",
       "      <td>0</td>\n",
       "      <td>0</td>\n",
       "    </tr>\n",
       "    <tr>\n",
       "      <th>8335</th>\n",
       "      <td>0</td>\n",
       "      <td>0</td>\n",
       "      <td>0</td>\n",
       "      <td>0</td>\n",
       "      <td>0</td>\n",
       "      <td>0</td>\n",
       "      <td>0</td>\n",
       "      <td>0</td>\n",
       "      <td>0</td>\n",
       "      <td>0</td>\n",
       "      <td>...</td>\n",
       "      <td>0</td>\n",
       "      <td>0</td>\n",
       "      <td>0</td>\n",
       "      <td>0</td>\n",
       "      <td>0</td>\n",
       "      <td>0</td>\n",
       "      <td>0</td>\n",
       "      <td>0</td>\n",
       "      <td>0</td>\n",
       "      <td>0</td>\n",
       "    </tr>\n",
       "    <tr>\n",
       "      <th>8336</th>\n",
       "      <td>0</td>\n",
       "      <td>0</td>\n",
       "      <td>0</td>\n",
       "      <td>0</td>\n",
       "      <td>0</td>\n",
       "      <td>0</td>\n",
       "      <td>0</td>\n",
       "      <td>0</td>\n",
       "      <td>0</td>\n",
       "      <td>0</td>\n",
       "      <td>...</td>\n",
       "      <td>0</td>\n",
       "      <td>0</td>\n",
       "      <td>0</td>\n",
       "      <td>0</td>\n",
       "      <td>0</td>\n",
       "      <td>0</td>\n",
       "      <td>0</td>\n",
       "      <td>0</td>\n",
       "      <td>0</td>\n",
       "      <td>0</td>\n",
       "    </tr>\n",
       "    <tr>\n",
       "      <th>8337</th>\n",
       "      <td>0</td>\n",
       "      <td>0</td>\n",
       "      <td>0</td>\n",
       "      <td>0</td>\n",
       "      <td>0</td>\n",
       "      <td>0</td>\n",
       "      <td>0</td>\n",
       "      <td>0</td>\n",
       "      <td>0</td>\n",
       "      <td>0</td>\n",
       "      <td>...</td>\n",
       "      <td>0</td>\n",
       "      <td>0</td>\n",
       "      <td>0</td>\n",
       "      <td>0</td>\n",
       "      <td>0</td>\n",
       "      <td>0</td>\n",
       "      <td>0</td>\n",
       "      <td>0</td>\n",
       "      <td>0</td>\n",
       "      <td>0</td>\n",
       "    </tr>\n",
       "    <tr>\n",
       "      <th>8338</th>\n",
       "      <td>0</td>\n",
       "      <td>0</td>\n",
       "      <td>0</td>\n",
       "      <td>0</td>\n",
       "      <td>0</td>\n",
       "      <td>0</td>\n",
       "      <td>0</td>\n",
       "      <td>0</td>\n",
       "      <td>0</td>\n",
       "      <td>0</td>\n",
       "      <td>...</td>\n",
       "      <td>0</td>\n",
       "      <td>0</td>\n",
       "      <td>0</td>\n",
       "      <td>0</td>\n",
       "      <td>0</td>\n",
       "      <td>0</td>\n",
       "      <td>0</td>\n",
       "      <td>0</td>\n",
       "      <td>0</td>\n",
       "      <td>0</td>\n",
       "    </tr>\n",
       "  </tbody>\n",
       "</table>\n",
       "<p>8339 rows × 15289 columns</p>\n",
       "</div>"
      ],
      "text/plain": [
       "      aa  aadl  aapd  aata  ab  abab  abandon  abandoned  abbreviation  \\\n",
       "0      0     0     0     0   0     0        0          0             0   \n",
       "1      0     0     0     0   0     0        0          0             0   \n",
       "2      0     0     0     0   0     0        0          0             0   \n",
       "3      0     0     0     0   0     0        0          0             0   \n",
       "4      0     0     0     0   0     0        0          0             0   \n",
       "...   ..   ...   ...   ...  ..   ...      ...        ...           ...   \n",
       "8334   0     0     0     0   0     0        0          0             0   \n",
       "8335   0     0     0     0   0     0        0          0             0   \n",
       "8336   0     0     0     0   0     0        0          0             0   \n",
       "8337   0     0     0     0   0     0        0          0             0   \n",
       "8338   0     0     0     0   0     0        0          0             0   \n",
       "\n",
       "      abbreviations  ...  zoned  zones  zoning  zoo  zoom  zoomer  zoomers  \\\n",
       "0                 0  ...      0      0       0    0     0       0        0   \n",
       "1                 0  ...      0      0       0    0     0       0        0   \n",
       "2                 0  ...      0      0       0    0     0       0        0   \n",
       "3                 0  ...      0      0       0    0     0       0        0   \n",
       "4                 0  ...      0      0       0    0     0       0        0   \n",
       "...             ...  ...    ...    ...     ...  ...   ...     ...      ...   \n",
       "8334              0  ...      0      0       0    0     0       0        0   \n",
       "8335              0  ...      0      0       0    0     0       0        0   \n",
       "8336              0  ...      0      0       0    0     0       0        0   \n",
       "8337              0  ...      0      0       0    0     0       0        0   \n",
       "8338              0  ...      0      0       0    0     0       0        0   \n",
       "\n",
       "      zuckerberg  𝓲𝓷𝓼𝓮𝓬𝓾𝓻𝓮  𝘢𝘩𝘦𝘮  \n",
       "0              0         0     0  \n",
       "1              0         0     0  \n",
       "2              0         0     0  \n",
       "3              0         0     0  \n",
       "4              0         0     0  \n",
       "...          ...       ...   ...  \n",
       "8334           0         0     0  \n",
       "8335           0         0     0  \n",
       "8336           0         0     0  \n",
       "8337           0         0     0  \n",
       "8338           0         0     0  \n",
       "\n",
       "[8339 rows x 15289 columns]"
      ]
     },
     "execution_count": 106,
     "metadata": {},
     "output_type": "execute_result"
    }
   ],
   "source": [
    "#create a dataframe from the sparse matrix\n",
    "#this is a more human-readable way to view the data\n",
    "bow_df = pd.DataFrame(bag_of_words.toarray(), columns=vectorizer.get_feature_names_out())\n",
    "bow_df"
   ]
  },
  {
   "cell_type": "code",
   "execution_count": 107,
   "metadata": {},
   "outputs": [
    {
     "data": {
      "text/plain": [
       "the            11306\n",
       "to              8480\n",
       "and             6921\n",
       "you             6256\n",
       "of              5028\n",
       "               ...  \n",
       "journals           1\n",
       "journeywhen        1\n",
       "jpg                1\n",
       "js                 1\n",
       "𝘢𝘩𝘦𝘮               1\n",
       "Length: 15289, dtype: int64"
      ]
     },
     "execution_count": 107,
     "metadata": {},
     "output_type": "execute_result"
    }
   ],
   "source": [
    "#dataframes have a convenient method for summing the values in each column\n",
    "#this will give us the number of times each word appears in the dataset\n",
    "word_counts = bow_df.sum()\n",
    "#we can sort the values to see the most common words\n",
    "word_counts = word_counts.sort_values(ascending=False)\n",
    "\n",
    "#notice that the top words are not very informative, as they are common words that appear in many contexts\n",
    "#and bottom words include a lot of typos and other noise\n",
    "word_counts"
   ]
  },
  {
   "cell_type": "code",
   "execution_count": 108,
   "metadata": {},
   "outputs": [
    {
     "data": {
      "image/png": "[encoded data removed]",
      "text/plain": [
       "<Figure size 2000x1000 with 1 Axes>"
      ]
     },
     "metadata": {},
     "output_type": "display_data"
    }
   ],
   "source": [
    "#we can plot the most common words\n",
    "#we will only plot the top 10 words for readability\n",
    "word_counts = word_counts.head(10)\n",
    "plt.figure(figsize=(20,10))\n",
    "plt.bar(word_counts.index, word_counts.values)\n",
    "plt.xticks(rotation=45)\n",
    "plt.show()"
   ]
  },
  {
   "cell_type": "markdown",
   "metadata": {},
   "source": [
    "#### Question 1: what do you notice about the words in this plot? Is this useful for studying the community?"
   ]
  },
  {
   "cell_type": "markdown",
   "metadata": {},
   "source": [
    "Answer here: Based on the top 10 words it looks like basically all are stop words. Essentially meaning that these words are either conjunctions or other filler words in sentences that by themselves don't give us a deeper understanding of a sentence nor do they provide any insight into what it could be talking about. These words alone would not be useful for studying because it is nearly impossible to draw any insight from these words alone. "
   ]
  },
  {
   "cell_type": "markdown",
   "metadata": {},
   "source": [
    "#### Lemmatization and stopword removal"
   ]
  },
  {
   "cell_type": "code",
   "execution_count": 109,
   "metadata": {},
   "outputs": [],
   "source": [
    "#lemmatization function from the openclassrooms reading\n",
    "def lemmatize(text):\n",
    "\n",
    "   doc = language_model(text)\n",
    "\n",
    "   tokens = [token.lemma_ for token in doc if not (token.is_stop or token.is_punct)]\n",
    "\n",
    "   return ' '.join(tokens)"
   ]
  },
  {
   "cell_type": "code",
   "execution_count": 110,
   "metadata": {},
   "outputs": [],
   "source": [
    "#we can further process the text by removing stopwords and lemmatizing\n",
    "mich['lemmatized_text'] = mich['cleaned_text'].apply(lemmatize)"
   ]
  },
  {
   "cell_type": "code",
   "execution_count": 111,
   "metadata": {},
   "outputs": [],
   "source": [
    "#count vectorizer also has parameters min_df and max_df that can be used to filter out words that are too rare or too common\n",
    "#min_df=3 means that a word must appear in at least 3 documents to be included, this will remove typos and rare words\n",
    "#max_df=0.3 means that a word must appear in at most 30% of documents to be included, this will remove corpus-specific stopwords\n",
    "\n",
    "#we are also able to include n-grams in the count vectorizer\n",
    "#n-grams are sequences of n words that appear together in the text\n",
    "#the n-gram_range parameter specifies the minimum and maximum n-gram size to include (so in this case, we are including both unigrams and bigrams)\n",
    "\n",
    "vectorizer = CountVectorizer(min_df=3, max_df=0.3, ngram_range=(1,2))\n",
    "bag_of_words = vectorizer.fit_transform(mich['lemmatized_text'])"
   ]
  },
  {
   "cell_type": "code",
   "execution_count": 112,
   "metadata": {},
   "outputs": [
    {
     "data": {
      "text/plain": [
       "<8339x8637 sparse matrix of type '<class 'numpy.int64'>'\n",
       "\twith 126833 stored elements in Compressed Sparse Row format>"
      ]
     },
     "execution_count": 112,
     "metadata": {},
     "output_type": "execute_result"
    }
   ],
   "source": [
    "#we can see that we filtered out 11000 common words and typos\n",
    "bag_of_words"
   ]
  },
  {
   "cell_type": "code",
   "execution_count": 113,
   "metadata": {},
   "outputs": [
    {
     "data": {
      "text/plain": [
       "not               2862\n",
       "student           1183\n",
       "like              1183\n",
       "people            1124\n",
       "class              988\n",
       "                  ... \n",
       "sell minnesota       3\n",
       "cred                 3\n",
       "credential           3\n",
       "sell oregon          3\n",
       "pay dollar           3\n",
       "Length: 8637, dtype: int64"
      ]
     },
     "execution_count": 113,
     "metadata": {},
     "output_type": "execute_result"
    }
   ],
   "source": [
    "#we can repeat the previous code to create a dataframe and count the words\n",
    "bow_df = pd.DataFrame(bag_of_words.toarray(), columns=vectorizer.get_feature_names_out())\n",
    "word_counts = bow_df.sum()\n",
    "word_counts = word_counts.sort_values(ascending=False)\n",
    "word_counts"
   ]
  },
  {
   "cell_type": "code",
   "execution_count": 114,
   "metadata": {},
   "outputs": [],
   "source": [
    "#we can convert this to a percentage instead of an absolute count by dividing by the total number of words\n",
    "word_counts = word_counts / word_counts.sum()"
   ]
  },
  {
   "cell_type": "code",
   "execution_count": 115,
   "metadata": {},
   "outputs": [
    {
     "data": {
      "image/png": "[encoded data removed]",
      "text/plain": [
       "<Figure size 2000x1000 with 1 Axes>"
      ]
     },
     "metadata": {},
     "output_type": "display_data"
    }
   ],
   "source": [
    "#we can plot the most common words\n",
    "#we will only plot the top 10 words for readability\n",
    "plot_list = word_counts.head(10)\n",
    "plt.figure(figsize=(20,10))\n",
    "plt.bar(plot_list.index, plot_list.values)\n",
    "plt.xticks(rotation=45)\n",
    "plt.show()"
   ]
  },
  {
   "cell_type": "code",
   "execution_count": 116,
   "metadata": {},
   "outputs": [
    {
     "data": {
      "text/plain": [
       "4.138501862325838e-05"
      ]
     },
     "execution_count": 116,
     "metadata": {},
     "output_type": "execute_result"
    }
   ],
   "source": [
    "#pandas allows us to access specific words in the series using the index\n",
    "word_counts[\"student loan\"]"
   ]
  },
  {
   "cell_type": "code",
   "execution_count": 117,
   "metadata": {},
   "outputs": [
    {
     "data": {
      "text/plain": [
       "history             0.000352\n",
       "business            0.000600\n",
       "computer science    0.000034\n",
       "cs                  0.001228\n",
       "computer            0.000262\n",
       "dtype: float64"
      ]
     },
     "execution_count": 117,
     "metadata": {},
     "output_type": "execute_result"
    }
   ],
   "source": [
    "#we can also use a list of words to compare and plot specific words\n",
    "plot_list=word_counts[[\"history\", \"business\", \"computer science\", \"cs\", \"computer\"]]\n",
    "plot_list"
   ]
  },
  {
   "cell_type": "code",
   "execution_count": 118,
   "metadata": {},
   "outputs": [
    {
     "data": {
      "image/png": "[encoded data removed]",
      "text/plain": [
       "<Figure size 2000x1000 with 1 Axes>"
      ]
     },
     "metadata": {},
     "output_type": "display_data"
    }
   ],
   "source": [
    "\n",
    "plt.figure(figsize=(20,10))\n",
    "plt.bar(plot_list.index, plot_list.values)\n",
    "plt.xticks(rotation=45)\n",
    "plt.show()"
   ]
  },
  {
   "cell_type": "markdown",
   "metadata": {},
   "source": [
    "#### Question 2:"
   ]
  },
  {
   "cell_type": "code",
   "execution_count": 119,
   "metadata": {},
   "outputs": [],
   "source": [
    "#TODO: pick 5 words that you find interesting or are curious about, and plot a bar plot of their frequency in this dataset "
   ]
  },
  {
   "cell_type": "code",
   "execution_count": 120,
   "metadata": {},
   "outputs": [
    {
     "data": {
      "text/plain": [
       "math           0.002262\n",
       "easy           0.001773\n",
       "complicated    0.000041\n",
       "hard           0.001517\n",
       "difficult      0.000635\n",
       "dtype: float64"
      ]
     },
     "execution_count": 120,
     "metadata": {},
     "output_type": "execute_result"
    }
   ],
   "source": [
    "words_of_interest = [\"math\", \"easy\",  \"complicated\", \"hard\", \"difficult\"]\n",
    "\n",
    "plot = word_counts[words_of_interest]\n",
    "\n",
    "plot"
   ]
  },
  {
   "cell_type": "code",
   "execution_count": 121,
   "metadata": {},
   "outputs": [
    {
     "data": {
      "image/png": "[encoded data removed]",
      "text/plain": [
       "<Figure size 1000x600 with 1 Axes>"
      ]
     },
     "metadata": {},
     "output_type": "display_data"
    }
   ],
   "source": [
    "plt.figure(figsize=(10,6))\n",
    "plt.bar(plot.index, plot.values)\n",
    "plt.xticks(rotation=45)\n",
    "plt.xlabel(\"Words\")\n",
    "plt.ylabel(\"Frequency\")\n",
    "plt.title(\"Frequency of Selected Words\")\n",
    "plt.show()"
   ]
  },
  {
   "cell_type": "markdown",
   "metadata": {},
   "source": [
    "### Problem 2: repeat this process with the Illinois subreddit data (in this directory as \"uiuc.csv\"). You should not have to change too much in the previous code besides the dataframe path and name. Your notebook should include the two bar graphs including and excluding stopwords. Use the same 5 words and compare their relative frequency between the two subreddits. Discuss any interesting differences you notice in a short markdown cell. "
   ]
  },
  {
   "cell_type": "code",
   "execution_count": 122,
   "metadata": {},
   "outputs": [],
   "source": [
    "uiuc=pd.read_csv(\"uiuc.csv\")\n"
   ]
  },
  {
   "cell_type": "code",
   "execution_count": 123,
   "metadata": {},
   "outputs": [
    {
     "data": {
      "text/html": [
       "<div>\n",
       "<style scoped>\n",
       "    .dataframe tbody tr th:only-of-type {\n",
       "        vertical-align: middle;\n",
       "    }\n",
       "\n",
       "    .dataframe tbody tr th {\n",
       "        vertical-align: top;\n",
       "    }\n",
       "\n",
       "    .dataframe thead th {\n",
       "        text-align: right;\n",
       "    }\n",
       "</style>\n",
       "<table border=\"1\" class=\"dataframe\">\n",
       "  <thead>\n",
       "    <tr style=\"text-align: right;\">\n",
       "      <th></th>\n",
       "      <th>Unnamed: 0</th>\n",
       "      <th>date</th>\n",
       "      <th>post_votes</th>\n",
       "      <th>text</th>\n",
       "      <th>user</th>\n",
       "      <th>com_votes</th>\n",
       "    </tr>\n",
       "  </thead>\n",
       "  <tbody>\n",
       "    <tr>\n",
       "      <th>0</th>\n",
       "      <td>0</td>\n",
       "      <td>2024-09-04 14:43:40</td>\n",
       "      <td>2</td>\n",
       "      <td>Have the same professor! And in lecture he did...</td>\n",
       "      <td>zhen3441</td>\n",
       "      <td>2</td>\n",
       "    </tr>\n",
       "    <tr>\n",
       "      <th>1</th>\n",
       "      <td>1</td>\n",
       "      <td>2024-09-04 14:43:40</td>\n",
       "      <td>2</td>\n",
       "      <td>Do you find it helpful to still go to the lect...</td>\n",
       "      <td>Kai2747</td>\n",
       "      <td>1</td>\n",
       "    </tr>\n",
       "    <tr>\n",
       "      <th>2</th>\n",
       "      <td>2</td>\n",
       "      <td>2024-09-04 12:52:08</td>\n",
       "      <td>3</td>\n",
       "      <td>Have you tried emailing University Housing to ...</td>\n",
       "      <td>TurboBKTastic</td>\n",
       "      <td>2</td>\n",
       "    </tr>\n",
       "    <tr>\n",
       "      <th>3</th>\n",
       "      <td>3</td>\n",
       "      <td>2024-09-04 12:52:08</td>\n",
       "      <td>3</td>\n",
       "      <td>Purchasing Illini Cash should get you added to...</td>\n",
       "      <td>HoosierCAB</td>\n",
       "      <td>2</td>\n",
       "    </tr>\n",
       "    <tr>\n",
       "      <th>4</th>\n",
       "      <td>4</td>\n",
       "      <td>2024-09-04 12:52:08</td>\n",
       "      <td>3</td>\n",
       "      <td>Just did, thanks for the suggestion! It hadn't...</td>\n",
       "      <td>Sector-Both</td>\n",
       "      <td>1</td>\n",
       "    </tr>\n",
       "    <tr>\n",
       "      <th>...</th>\n",
       "      <td>...</td>\n",
       "      <td>...</td>\n",
       "      <td>...</td>\n",
       "      <td>...</td>\n",
       "      <td>...</td>\n",
       "      <td>...</td>\n",
       "    </tr>\n",
       "    <tr>\n",
       "      <th>4720</th>\n",
       "      <td>4720</td>\n",
       "      <td>2024-08-21 20:28:40</td>\n",
       "      <td>1</td>\n",
       "      <td>Im interested if you're still looking</td>\n",
       "      <td>Accomplished_Fix2409</td>\n",
       "      <td>0</td>\n",
       "    </tr>\n",
       "    <tr>\n",
       "      <th>4721</th>\n",
       "      <td>4721</td>\n",
       "      <td>2024-08-21 20:26:15</td>\n",
       "      <td>7</td>\n",
       "      <td>I went to one of the taylor nights. was quite ...</td>\n",
       "      <td>student176895</td>\n",
       "      <td>4</td>\n",
       "    </tr>\n",
       "    <tr>\n",
       "      <th>4722</th>\n",
       "      <td>4722</td>\n",
       "      <td>2024-08-21 20:21:54</td>\n",
       "      <td>10</td>\n",
       "      <td>Hey, I’m so sorry to hear that’s happening. If...</td>\n",
       "      <td>OCCLUIUC</td>\n",
       "      <td>5</td>\n",
       "    </tr>\n",
       "    <tr>\n",
       "      <th>4723</th>\n",
       "      <td>4723</td>\n",
       "      <td>2024-08-21 20:21:54</td>\n",
       "      <td>10</td>\n",
       "      <td>AFAIK, the “cleaning company” that UGroup empl...</td>\n",
       "      <td>perpetuallytired29</td>\n",
       "      <td>3</td>\n",
       "    </tr>\n",
       "    <tr>\n",
       "      <th>4724</th>\n",
       "      <td>4724</td>\n",
       "      <td>2024-08-21 20:21:54</td>\n",
       "      <td>10</td>\n",
       "      <td>thank god it wasn't a half dirty towel</td>\n",
       "      <td>Traditional_Half5199</td>\n",
       "      <td>0</td>\n",
       "    </tr>\n",
       "  </tbody>\n",
       "</table>\n",
       "<p>4725 rows × 6 columns</p>\n",
       "</div>"
      ],
      "text/plain": [
       "      Unnamed: 0                 date  post_votes  \\\n",
       "0              0  2024-09-04 14:43:40           2   \n",
       "1              1  2024-09-04 14:43:40           2   \n",
       "2              2  2024-09-04 12:52:08           3   \n",
       "3              3  2024-09-04 12:52:08           3   \n",
       "4              4  2024-09-04 12:52:08           3   \n",
       "...          ...                  ...         ...   \n",
       "4720        4720  2024-08-21 20:28:40           1   \n",
       "4721        4721  2024-08-21 20:26:15           7   \n",
       "4722        4722  2024-08-21 20:21:54          10   \n",
       "4723        4723  2024-08-21 20:21:54          10   \n",
       "4724        4724  2024-08-21 20:21:54          10   \n",
       "\n",
       "                                                   text                  user  \\\n",
       "0     Have the same professor! And in lecture he did...              zhen3441   \n",
       "1     Do you find it helpful to still go to the lect...               Kai2747   \n",
       "2     Have you tried emailing University Housing to ...         TurboBKTastic   \n",
       "3     Purchasing Illini Cash should get you added to...            HoosierCAB   \n",
       "4     Just did, thanks for the suggestion! It hadn't...           Sector-Both   \n",
       "...                                                 ...                   ...   \n",
       "4720              Im interested if you're still looking  Accomplished_Fix2409   \n",
       "4721  I went to one of the taylor nights. was quite ...         student176895   \n",
       "4722  Hey, I’m so sorry to hear that’s happening. If...              OCCLUIUC   \n",
       "4723  AFAIK, the “cleaning company” that UGroup empl...    perpetuallytired29   \n",
       "4724             thank god it wasn't a half dirty towel  Traditional_Half5199   \n",
       "\n",
       "      com_votes  \n",
       "0             2  \n",
       "1             1  \n",
       "2             2  \n",
       "3             2  \n",
       "4             1  \n",
       "...         ...  \n",
       "4720          0  \n",
       "4721          4  \n",
       "4722          5  \n",
       "4723          3  \n",
       "4724          0  \n",
       "\n",
       "[4725 rows x 6 columns]"
      ]
     },
     "execution_count": 123,
     "metadata": {},
     "output_type": "execute_result"
    }
   ],
   "source": [
    "uiuc"
   ]
  },
  {
   "cell_type": "code",
   "execution_count": 124,
   "metadata": {},
   "outputs": [],
   "source": [
    "uiuc['cleaned_text'] = uiuc['text'].apply(clean)"
   ]
  },
  {
   "cell_type": "code",
   "execution_count": 125,
   "metadata": {},
   "outputs": [
    {
     "data": {
      "text/plain": [
       "'have the same professor and in lecture he did say we were gonna have to learn some of the stuff ourself i would recommend using online resources such as pauls online math notes and professor leonard on youtube personally ive been learning the material from those sources before going to lecture'"
      ]
     },
     "execution_count": 125,
     "metadata": {},
     "output_type": "execute_result"
    }
   ],
   "source": [
    "uiuc[\"cleaned_text\"][0]"
   ]
  },
  {
   "cell_type": "code",
   "execution_count": 126,
   "metadata": {},
   "outputs": [
    {
     "data": {
      "text/plain": [
       "'Have the same professor! And in lecture he did say we were gonna have to learn some of the stuff ourself\\xa0\\n\\nI would recommend using online resources such as Paul’s Online Math Notes and Professor Leonard on YouTube. Personally, I’ve been learning the material from those sources before going to lecture'"
      ]
     },
     "execution_count": 126,
     "metadata": {},
     "output_type": "execute_result"
    }
   ],
   "source": [
    "uiuc[\"text\"][0]"
   ]
  },
  {
   "cell_type": "code",
   "execution_count": 127,
   "metadata": {},
   "outputs": [
    {
     "data": {
      "text/plain": [
       "<4725x10109 sparse matrix of type '<class 'numpy.int64'>'\n",
       "\twith 98566 stored elements in Compressed Sparse Row format>"
      ]
     },
     "execution_count": 127,
     "metadata": {},
     "output_type": "execute_result"
    }
   ],
   "source": [
    "vectorizer = CountVectorizer()\n",
    "bag_of_words2 = vectorizer.fit_transform(uiuc['cleaned_text'])\n",
    "bag_of_words2\n"
   ]
  },
  {
   "cell_type": "code",
   "execution_count": 128,
   "metadata": {},
   "outputs": [
    {
     "data": {
      "text/html": [
       "<div>\n",
       "<style scoped>\n",
       "    .dataframe tbody tr th:only-of-type {\n",
       "        vertical-align: middle;\n",
       "    }\n",
       "\n",
       "    .dataframe tbody tr th {\n",
       "        vertical-align: top;\n",
       "    }\n",
       "\n",
       "    .dataframe thead th {\n",
       "        text-align: right;\n",
       "    }\n",
       "</style>\n",
       "<table border=\"1\" class=\"dataframe\">\n",
       "  <thead>\n",
       "    <tr style=\"text-align: right;\">\n",
       "      <th></th>\n",
       "      <th>aa</th>\n",
       "      <th>aaa</th>\n",
       "      <th>aaaaah</th>\n",
       "      <th>aaabb</th>\n",
       "      <th>ab</th>\n",
       "      <th>abandoned</th>\n",
       "      <th>abcc</th>\n",
       "      <th>abide</th>\n",
       "      <th>abilities</th>\n",
       "      <th>ability</th>\n",
       "      <th>...</th>\n",
       "      <th>zombie</th>\n",
       "      <th>zone</th>\n",
       "      <th>zones</th>\n",
       "      <th>zoo</th>\n",
       "      <th>zoom</th>\n",
       "      <th>zoomed</th>\n",
       "      <th>봉사를</th>\n",
       "      <th>세계로</th>\n",
       "      <th>숭실</th>\n",
       "      <th>진리와</th>\n",
       "    </tr>\n",
       "  </thead>\n",
       "  <tbody>\n",
       "    <tr>\n",
       "      <th>0</th>\n",
       "      <td>0</td>\n",
       "      <td>0</td>\n",
       "      <td>0</td>\n",
       "      <td>0</td>\n",
       "      <td>0</td>\n",
       "      <td>0</td>\n",
       "      <td>0</td>\n",
       "      <td>0</td>\n",
       "      <td>0</td>\n",
       "      <td>0</td>\n",
       "      <td>...</td>\n",
       "      <td>0</td>\n",
       "      <td>0</td>\n",
       "      <td>0</td>\n",
       "      <td>0</td>\n",
       "      <td>0</td>\n",
       "      <td>0</td>\n",
       "      <td>0</td>\n",
       "      <td>0</td>\n",
       "      <td>0</td>\n",
       "      <td>0</td>\n",
       "    </tr>\n",
       "    <tr>\n",
       "      <th>1</th>\n",
       "      <td>0</td>\n",
       "      <td>0</td>\n",
       "      <td>0</td>\n",
       "      <td>0</td>\n",
       "      <td>0</td>\n",
       "      <td>0</td>\n",
       "      <td>0</td>\n",
       "      <td>0</td>\n",
       "      <td>0</td>\n",
       "      <td>0</td>\n",
       "      <td>...</td>\n",
       "      <td>0</td>\n",
       "      <td>0</td>\n",
       "      <td>0</td>\n",
       "      <td>0</td>\n",
       "      <td>0</td>\n",
       "      <td>0</td>\n",
       "      <td>0</td>\n",
       "      <td>0</td>\n",
       "      <td>0</td>\n",
       "      <td>0</td>\n",
       "    </tr>\n",
       "    <tr>\n",
       "      <th>2</th>\n",
       "      <td>0</td>\n",
       "      <td>0</td>\n",
       "      <td>0</td>\n",
       "      <td>0</td>\n",
       "      <td>0</td>\n",
       "      <td>0</td>\n",
       "      <td>0</td>\n",
       "      <td>0</td>\n",
       "      <td>0</td>\n",
       "      <td>0</td>\n",
       "      <td>...</td>\n",
       "      <td>0</td>\n",
       "      <td>0</td>\n",
       "      <td>0</td>\n",
       "      <td>0</td>\n",
       "      <td>0</td>\n",
       "      <td>0</td>\n",
       "      <td>0</td>\n",
       "      <td>0</td>\n",
       "      <td>0</td>\n",
       "      <td>0</td>\n",
       "    </tr>\n",
       "    <tr>\n",
       "      <th>3</th>\n",
       "      <td>0</td>\n",
       "      <td>0</td>\n",
       "      <td>0</td>\n",
       "      <td>0</td>\n",
       "      <td>0</td>\n",
       "      <td>0</td>\n",
       "      <td>0</td>\n",
       "      <td>0</td>\n",
       "      <td>0</td>\n",
       "      <td>0</td>\n",
       "      <td>...</td>\n",
       "      <td>0</td>\n",
       "      <td>0</td>\n",
       "      <td>0</td>\n",
       "      <td>0</td>\n",
       "      <td>0</td>\n",
       "      <td>0</td>\n",
       "      <td>0</td>\n",
       "      <td>0</td>\n",
       "      <td>0</td>\n",
       "      <td>0</td>\n",
       "    </tr>\n",
       "    <tr>\n",
       "      <th>4</th>\n",
       "      <td>0</td>\n",
       "      <td>0</td>\n",
       "      <td>0</td>\n",
       "      <td>0</td>\n",
       "      <td>0</td>\n",
       "      <td>0</td>\n",
       "      <td>0</td>\n",
       "      <td>0</td>\n",
       "      <td>0</td>\n",
       "      <td>0</td>\n",
       "      <td>...</td>\n",
       "      <td>0</td>\n",
       "      <td>0</td>\n",
       "      <td>0</td>\n",
       "      <td>0</td>\n",
       "      <td>0</td>\n",
       "      <td>0</td>\n",
       "      <td>0</td>\n",
       "      <td>0</td>\n",
       "      <td>0</td>\n",
       "      <td>0</td>\n",
       "    </tr>\n",
       "    <tr>\n",
       "      <th>...</th>\n",
       "      <td>...</td>\n",
       "      <td>...</td>\n",
       "      <td>...</td>\n",
       "      <td>...</td>\n",
       "      <td>...</td>\n",
       "      <td>...</td>\n",
       "      <td>...</td>\n",
       "      <td>...</td>\n",
       "      <td>...</td>\n",
       "      <td>...</td>\n",
       "      <td>...</td>\n",
       "      <td>...</td>\n",
       "      <td>...</td>\n",
       "      <td>...</td>\n",
       "      <td>...</td>\n",
       "      <td>...</td>\n",
       "      <td>...</td>\n",
       "      <td>...</td>\n",
       "      <td>...</td>\n",
       "      <td>...</td>\n",
       "      <td>...</td>\n",
       "    </tr>\n",
       "    <tr>\n",
       "      <th>4720</th>\n",
       "      <td>0</td>\n",
       "      <td>0</td>\n",
       "      <td>0</td>\n",
       "      <td>0</td>\n",
       "      <td>0</td>\n",
       "      <td>0</td>\n",
       "      <td>0</td>\n",
       "      <td>0</td>\n",
       "      <td>0</td>\n",
       "      <td>0</td>\n",
       "      <td>...</td>\n",
       "      <td>0</td>\n",
       "      <td>0</td>\n",
       "      <td>0</td>\n",
       "      <td>0</td>\n",
       "      <td>0</td>\n",
       "      <td>0</td>\n",
       "      <td>0</td>\n",
       "      <td>0</td>\n",
       "      <td>0</td>\n",
       "      <td>0</td>\n",
       "    </tr>\n",
       "    <tr>\n",
       "      <th>4721</th>\n",
       "      <td>0</td>\n",
       "      <td>0</td>\n",
       "      <td>0</td>\n",
       "      <td>0</td>\n",
       "      <td>0</td>\n",
       "      <td>0</td>\n",
       "      <td>0</td>\n",
       "      <td>0</td>\n",
       "      <td>0</td>\n",
       "      <td>0</td>\n",
       "      <td>...</td>\n",
       "      <td>0</td>\n",
       "      <td>0</td>\n",
       "      <td>0</td>\n",
       "      <td>0</td>\n",
       "      <td>0</td>\n",
       "      <td>0</td>\n",
       "      <td>0</td>\n",
       "      <td>0</td>\n",
       "      <td>0</td>\n",
       "      <td>0</td>\n",
       "    </tr>\n",
       "    <tr>\n",
       "      <th>4722</th>\n",
       "      <td>0</td>\n",
       "      <td>0</td>\n",
       "      <td>0</td>\n",
       "      <td>0</td>\n",
       "      <td>0</td>\n",
       "      <td>0</td>\n",
       "      <td>0</td>\n",
       "      <td>0</td>\n",
       "      <td>0</td>\n",
       "      <td>0</td>\n",
       "      <td>...</td>\n",
       "      <td>0</td>\n",
       "      <td>0</td>\n",
       "      <td>0</td>\n",
       "      <td>0</td>\n",
       "      <td>0</td>\n",
       "      <td>0</td>\n",
       "      <td>0</td>\n",
       "      <td>0</td>\n",
       "      <td>0</td>\n",
       "      <td>0</td>\n",
       "    </tr>\n",
       "    <tr>\n",
       "      <th>4723</th>\n",
       "      <td>0</td>\n",
       "      <td>0</td>\n",
       "      <td>0</td>\n",
       "      <td>0</td>\n",
       "      <td>0</td>\n",
       "      <td>0</td>\n",
       "      <td>0</td>\n",
       "      <td>0</td>\n",
       "      <td>0</td>\n",
       "      <td>0</td>\n",
       "      <td>...</td>\n",
       "      <td>0</td>\n",
       "      <td>0</td>\n",
       "      <td>0</td>\n",
       "      <td>0</td>\n",
       "      <td>0</td>\n",
       "      <td>0</td>\n",
       "      <td>0</td>\n",
       "      <td>0</td>\n",
       "      <td>0</td>\n",
       "      <td>0</td>\n",
       "    </tr>\n",
       "    <tr>\n",
       "      <th>4724</th>\n",
       "      <td>0</td>\n",
       "      <td>0</td>\n",
       "      <td>0</td>\n",
       "      <td>0</td>\n",
       "      <td>0</td>\n",
       "      <td>0</td>\n",
       "      <td>0</td>\n",
       "      <td>0</td>\n",
       "      <td>0</td>\n",
       "      <td>0</td>\n",
       "      <td>...</td>\n",
       "      <td>0</td>\n",
       "      <td>0</td>\n",
       "      <td>0</td>\n",
       "      <td>0</td>\n",
       "      <td>0</td>\n",
       "      <td>0</td>\n",
       "      <td>0</td>\n",
       "      <td>0</td>\n",
       "      <td>0</td>\n",
       "      <td>0</td>\n",
       "    </tr>\n",
       "  </tbody>\n",
       "</table>\n",
       "<p>4725 rows × 10109 columns</p>\n",
       "</div>"
      ],
      "text/plain": [
       "      aa  aaa  aaaaah  aaabb  ab  abandoned  abcc  abide  abilities  ability  \\\n",
       "0      0    0       0      0   0          0     0      0          0        0   \n",
       "1      0    0       0      0   0          0     0      0          0        0   \n",
       "2      0    0       0      0   0          0     0      0          0        0   \n",
       "3      0    0       0      0   0          0     0      0          0        0   \n",
       "4      0    0       0      0   0          0     0      0          0        0   \n",
       "...   ..  ...     ...    ...  ..        ...   ...    ...        ...      ...   \n",
       "4720   0    0       0      0   0          0     0      0          0        0   \n",
       "4721   0    0       0      0   0          0     0      0          0        0   \n",
       "4722   0    0       0      0   0          0     0      0          0        0   \n",
       "4723   0    0       0      0   0          0     0      0          0        0   \n",
       "4724   0    0       0      0   0          0     0      0          0        0   \n",
       "\n",
       "      ...  zombie  zone  zones  zoo  zoom  zoomed  봉사를  세계로  숭실  진리와  \n",
       "0     ...       0     0      0    0     0       0    0    0   0    0  \n",
       "1     ...       0     0      0    0     0       0    0    0   0    0  \n",
       "2     ...       0     0      0    0     0       0    0    0   0    0  \n",
       "3     ...       0     0      0    0     0       0    0    0   0    0  \n",
       "4     ...       0     0      0    0     0       0    0    0   0    0  \n",
       "...   ...     ...   ...    ...  ...   ...     ...  ...  ...  ..  ...  \n",
       "4720  ...       0     0      0    0     0       0    0    0   0    0  \n",
       "4721  ...       0     0      0    0     0       0    0    0   0    0  \n",
       "4722  ...       0     0      0    0     0       0    0    0   0    0  \n",
       "4723  ...       0     0      0    0     0       0    0    0   0    0  \n",
       "4724  ...       0     0      0    0     0       0    0    0   0    0  \n",
       "\n",
       "[4725 rows x 10109 columns]"
      ]
     },
     "execution_count": 128,
     "metadata": {},
     "output_type": "execute_result"
    }
   ],
   "source": [
    "bow_df2 = pd.DataFrame(bag_of_words2.toarray(), columns=vectorizer.get_feature_names_out())\n",
    "bow_df2"
   ]
  },
  {
   "cell_type": "code",
   "execution_count": 129,
   "metadata": {},
   "outputs": [],
   "source": [
    "word_counts2 = bow_df2.sum()"
   ]
  },
  {
   "cell_type": "code",
   "execution_count": 130,
   "metadata": {},
   "outputs": [],
   "source": [
    "word_counts2 = word_counts2.sort_values(ascending=False)"
   ]
  },
  {
   "cell_type": "code",
   "execution_count": 131,
   "metadata": {},
   "outputs": [
    {
     "data": {
      "text/plain": [
       "the                                                                                                       4613\n",
       "to                                                                                                        3629\n",
       "and                                                                                                       2973\n",
       "you                                                                                                       2551\n",
       "of                                                                                                        1854\n",
       "                                                                                                          ... \n",
       "httpswwwwciacomnewsraresquirrelmemorializedonuoficampus                                                      1\n",
       "httpswwwurbanaillinoisussitesdefaultfilesattachmentslandlordtenantpdf                                        1\n",
       "httpswwwuoficreditunionorgcreditcreditcardshttpswwwuoficreditunionorgcreditcreditcards                       1\n",
       "httpswwwuniversityymcaorgwhatweofferprogramsdumprunhttpswwwuniversityymcaorgwhatweofferprogramsdumprun       1\n",
       "진리와                                                                                                          1\n",
       "Length: 10109, dtype: int64"
      ]
     },
     "execution_count": 131,
     "metadata": {},
     "output_type": "execute_result"
    }
   ],
   "source": [
    "word_counts2"
   ]
  },
  {
   "cell_type": "code",
   "execution_count": 132,
   "metadata": {},
   "outputs": [
    {
     "data": {
      "image/png": "[encoded data removed]",
      "text/plain": [
       "<Figure size 2000x1000 with 1 Axes>"
      ]
     },
     "metadata": {},
     "output_type": "display_data"
    }
   ],
   "source": [
    "word_counts2 = word_counts2.head(10)\n",
    "plt.figure(figsize=(20,10))\n",
    "plt.bar(word_counts2.index, word_counts2.values)\n",
    "plt.xticks(rotation=45)\n",
    "plt.show()"
   ]
  },
  {
   "cell_type": "code",
   "execution_count": 133,
   "metadata": {},
   "outputs": [],
   "source": [
    "uiuc['lemmatized_text'] = uiuc['cleaned_text'].apply(lemmatize)"
   ]
  },
  {
   "cell_type": "code",
   "execution_count": 134,
   "metadata": {},
   "outputs": [],
   "source": [
    "vectorizer = CountVectorizer(min_df=3, max_df=0.3, ngram_range=(1,2))\n",
    "bag_of_words2 = vectorizer.fit_transform(uiuc['lemmatized_text'])"
   ]
  },
  {
   "cell_type": "code",
   "execution_count": 135,
   "metadata": {},
   "outputs": [
    {
     "data": {
      "text/plain": [
       "<4725x3891 sparse matrix of type '<class 'numpy.int64'>'\n",
       "\twith 49429 stored elements in Compressed Sparse Row format>"
      ]
     },
     "execution_count": 135,
     "metadata": {},
     "output_type": "execute_result"
    }
   ],
   "source": [
    "bag_of_words2"
   ]
  },
  {
   "cell_type": "code",
   "execution_count": 136,
   "metadata": {},
   "outputs": [
    {
     "data": {
      "text/plain": [
       "not               1205\n",
       "like               534\n",
       "people             481\n",
       "good               388\n",
       "time               376\n",
       "                  ... \n",
       "not personally       3\n",
       "not person           3\n",
       "not park             3\n",
       "not open             3\n",
       "ab                   3\n",
       "Length: 3891, dtype: int64"
      ]
     },
     "execution_count": 136,
     "metadata": {},
     "output_type": "execute_result"
    }
   ],
   "source": [
    "bow_df2 = pd.DataFrame(bag_of_words2.toarray(), columns=vectorizer.get_feature_names_out())\n",
    "word_counts2 = bow_df2.sum()\n",
    "word_counts2 = word_counts2.sort_values(ascending=False)\n",
    "word_counts2"
   ]
  },
  {
   "cell_type": "code",
   "execution_count": 137,
   "metadata": {},
   "outputs": [],
   "source": [
    "word_counts2 = word_counts2 / word_counts2.sum()"
   ]
  },
  {
   "cell_type": "code",
   "execution_count": 138,
   "metadata": {},
   "outputs": [
    {
     "data": {
      "image/png": "[encoded data removed]",
      "text/plain": [
       "<Figure size 2000x1000 with 1 Axes>"
      ]
     },
     "metadata": {},
     "output_type": "display_data"
    }
   ],
   "source": [
    "plot_list2 = word_counts2.head(10)\n",
    "plt.figure(figsize=(20,10))\n",
    "plt.bar(plot_list2.index, plot_list2.values)\n",
    "plt.xticks(rotation=45)\n",
    "plt.show()"
   ]
  },
  {
   "cell_type": "code",
   "execution_count": 139,
   "metadata": {},
   "outputs": [
    {
     "data": {
      "text/plain": [
       "history             0.000344\n",
       "business            0.000543\n",
       "computer science    0.000054\n",
       "cs                  0.001411\n",
       "computer            0.000290\n",
       "dtype: float64"
      ]
     },
     "execution_count": 139,
     "metadata": {},
     "output_type": "execute_result"
    }
   ],
   "source": [
    "plot_list2=word_counts2[[\"history\", \"business\", \"computer science\", \"cs\", \"computer\"]]\n",
    "plot_list2"
   ]
  },
  {
   "cell_type": "code",
   "execution_count": 140,
   "metadata": {},
   "outputs": [
    {
     "data": {
      "image/png": "[encoded data removed]",
      "text/plain": [
       "<Figure size 2000x1000 with 1 Axes>"
      ]
     },
     "metadata": {},
     "output_type": "display_data"
    }
   ],
   "source": [
    "plt.figure(figsize=(20,10))\n",
    "plt.bar(plot_list2.index, plot_list2.values)\n",
    "plt.xticks(rotation=45)\n",
    "plt.show()"
   ]
  },
  {
   "cell_type": "code",
   "execution_count": 141,
   "metadata": {},
   "outputs": [
    {
     "data": {
      "text/plain": [
       "math           0.000543\n",
       "easy           0.001339\n",
       "complicated    0.000054\n",
       "hard           0.001791\n",
       "difficult      0.000470\n",
       "dtype: float64"
      ]
     },
     "execution_count": 141,
     "metadata": {},
     "output_type": "execute_result"
    }
   ],
   "source": [
    "words_of_interest2 = [\"math\", \"easy\",  \"complicated\", \"hard\", \"difficult\"]\n",
    "\n",
    "plot2 = word_counts2[words_of_interest2]\n",
    "plot2"
   ]
  },
  {
   "cell_type": "code",
   "execution_count": 142,
   "metadata": {},
   "outputs": [
    {
     "data": {
      "image/png": "[encoded data removed]",
      "text/plain": [
       "<Figure size 1000x600 with 1 Axes>"
      ]
     },
     "metadata": {},
     "output_type": "display_data"
    }
   ],
   "source": [
    "plt.figure(figsize=(10,6))\n",
    "plt.bar(plot2.index, plot2.values)\n",
    "plt.xticks(rotation=45)\n",
    "plt.xlabel(\"Words\")\n",
    "plt.ylabel(\"Frequency\")\n",
    "plt.title(\"Frequency of Selected Words\")\n",
    "plt.show()"
   ]
  },
  {
   "cell_type": "markdown",
   "metadata": {},
   "source": [
    "### Comparing the uiuc data with the mich data:"
   ]
  },
  {
   "cell_type": "markdown",
   "metadata": {},
   "source": [
    "After repeating the proccess with the uiuc data. We see some similarities and some key differences. For both datasets prior to removing the stop words we see that we get similar results. Both data sets top words are stop words and word that simply don't give us any meanng on their own. But after we handle the stop words we see the similar change. And although there are some differences in the top wordss there are some similarities. For example both data sets contain not, people and like in their top 5 most common words. In regards for the two sets of 5 words we checked frequencies for, the relative frequencies are not the same but they are similar. That is not surprising that although the datasets are for two different schools, they are likely to share very similar words because they are regarding the same general topic which is college."
   ]
  },
  {
   "cell_type": "markdown",
   "metadata": {},
   "source": [
    "### Problem 3: using the provided combined dataframe, train a logistic regression model using the sklearn Logistic Regression implementation. https://scikit-learn.org/stable/modules/generated/sklearn.linear_model.LogisticRegression.html. Create a bag of words table from the combined data, and use that along with the \"label\" column to train the classifier. Please try this out and be prepared with issues or questions next Monday. We will be discussing in class"
   ]
  },
  {
   "cell_type": "code",
   "execution_count": 185,
   "metadata": {},
   "outputs": [],
   "source": [
    "uiuc=pd.read_csv(\"uiuc.csv\")\n",
    "mich=pd.read_csv(\"umich.csv\")\n",
    "\n",
    "#sample so we have even number of samples from each dataset\n",
    "mich=mich.sample(n=4725)\n",
    "\n",
    "#assign labels based on origin subreddit of comment\n",
    "uiuc['label']=1\n",
    "mich['label']=0\n",
    "\n",
    "#you will be working with the data csv for the rest of the question\n",
    "data=pd.concat([uiuc,mich])"
   ]
  },
  {
   "cell_type": "code",
   "execution_count": 219,
   "metadata": {},
   "outputs": [],
   "source": [
    "#clean and lemmatize the data csv\n",
    "data['cleaned_text'] = data['text'].apply(clean)\n",
    "data['cleaned_text'] = data['text'].apply(lemmatize)"
   ]
  },
  {
   "cell_type": "code",
   "execution_count": 221,
   "metadata": {},
   "outputs": [
    {
     "data": {
      "text/plain": [
       "<9450x8956 sparse matrix of type '<class 'numpy.int64'>'\n",
       "\twith 128484 stored elements in Compressed Sparse Row format>"
      ]
     },
     "execution_count": 221,
     "metadata": {},
     "output_type": "execute_result"
    }
   ],
   "source": [
    "#create a bag of words representation with count vectorizer\n",
    "vectorizer = CountVectorizer(min_df=3, max_df=0.3, ngram_range=(1,2))\n",
    "bag = vectorizer.fit_transform(data['cleaned_text'])\n",
    "bag"
   ]
  },
  {
   "cell_type": "code",
   "execution_count": 222,
   "metadata": {},
   "outputs": [],
   "source": [
    "#train a logistic regression model using the bag of words features as X and the label column as y\n",
    "from sklearn.model_selection import train_test_split\n",
    "from sklearn.linear_model import LogisticRegression\n",
    "from sklearn.metrics import accuracy_score\n",
    "y = data['label']\n",
    "model = LogisticRegression(max_iter=1000)\n",
    "model.fit(bag, y)\n",
    "y_pred = model.predict(bag)"
   ]
  },
  {
   "cell_type": "code",
   "execution_count": 223,
   "metadata": {},
   "outputs": [
    {
     "data": {
      "text/plain": [
       "0.9056084656084656"
      ]
     },
     "execution_count": 223,
     "metadata": {},
     "output_type": "execute_result"
    }
   ],
   "source": [
    "#report the accuracy of the model\n",
    "accuracy = accuracy_score(y, y_pred)\n",
    "accuracy"
   ]
  },
  {
   "cell_type": "markdown",
   "metadata": {},
   "source": [
    "#### Part 2: hold out part of the dataset using sklearn train_test_split (https://scikit-learn.org/stable/modules/generated/sklearn.model_selection.train_test_split.html). Pass in your previously generated bag of words as X and the label column as y. Use only the X_train and y_train for training and hold out the X_test and y_test to score the model on unseen data."
   ]
  },
  {
   "cell_type": "code",
   "execution_count": 224,
   "metadata": {},
   "outputs": [],
   "source": [
    "# what is the accuracy of the model? Is it better or worse than previous?Why do you think it has changed? \n",
    "X_train, X_test, y_train, y_test = train_test_split(bag, y, test_size=0.3, random_state=42)\n",
    "model2 = LogisticRegression(max_iter=1000)\n",
    "model2.fit(X_train, y_train)\n",
    "y_pred = model2.predict(X_test)"
   ]
  },
  {
   "cell_type": "code",
   "execution_count": 225,
   "metadata": {},
   "outputs": [
    {
     "data": {
      "text/plain": [
       "0.7072310405643739"
      ]
     },
     "execution_count": 225,
     "metadata": {},
     "output_type": "execute_result"
    }
   ],
   "source": [
    "accuracy2 = accuracy_score(y_test, y_pred)\n",
    "accuracy2"
   ]
  },
  {
   "cell_type": "markdown",
   "metadata": {},
   "source": [
    "The differences in accuracy score are due to the fact that in the first model we dont explicitly set aside any unseen data. This is important because when we train the model, it can become overfit and simply become good at understanding specific patterns for that data but not the general patterns that would help with understanding new unseen data. So when we set aside a test set we are putting aside data the model has not seen when being trained. So the accuracy score we get from the train test split is more reliable because we can see how the model would work on data it hasn't priorly understood when being trained."
   ]
  },
  {
   "cell_type": "markdown",
   "metadata": {},
   "source": [
    "#### Part 3: Examine the top features of your model using the following code"
   ]
  },
  {
   "cell_type": "code",
   "execution_count": 226,
   "metadata": {},
   "outputs": [],
   "source": [
    "#get the coefficients of the model and plot the top 10 most positive and top 10 most negative coefficients\n",
    "#what do you notice about these words? Are they surprising or expected?"
   ]
  },
  {
   "cell_type": "code",
   "execution_count": 237,
   "metadata": {},
   "outputs": [],
   "source": [
    "coefficients = pd.DataFrame({'feature': vectorizer.get_feature_names_out(), 'coefficient': model2.coef_[0]})\n",
    "coefficients = coefficients.sort_values('coefficient', ascending=False)\n",
    "top_10_positive = coefficients.head(10)\n",
    "top_10_negative = coefficients.tail(10)\n"
   ]
  },
  {
   "cell_type": "code",
   "execution_count": 238,
   "metadata": {},
   "outputs": [
    {
     "data": {
      "text/html": [
       "<div>\n",
       "<style scoped>\n",
       "    .dataframe tbody tr th:only-of-type {\n",
       "        vertical-align: middle;\n",
       "    }\n",
       "\n",
       "    .dataframe tbody tr th {\n",
       "        vertical-align: top;\n",
       "    }\n",
       "\n",
       "    .dataframe thead th {\n",
       "        text-align: right;\n",
       "    }\n",
       "</style>\n",
       "<table border=\"1\" class=\"dataframe\">\n",
       "  <thead>\n",
       "    <tr style=\"text-align: right;\">\n",
       "      <th></th>\n",
       "      <th>feature</th>\n",
       "      <th>coefficient</th>\n",
       "    </tr>\n",
       "  </thead>\n",
       "  <tbody>\n",
       "    <tr>\n",
       "      <th>8212</th>\n",
       "      <td>uiuc</td>\n",
       "      <td>2.348074</td>\n",
       "    </tr>\n",
       "    <tr>\n",
       "      <th>3863</th>\n",
       "      <td>illinois</td>\n",
       "      <td>2.166719</td>\n",
       "    </tr>\n",
       "    <tr>\n",
       "      <th>6595</th>\n",
       "      <td>rso</td>\n",
       "      <td>1.760886</td>\n",
       "    </tr>\n",
       "    <tr>\n",
       "      <th>3405</th>\n",
       "      <td>grainger</td>\n",
       "      <td>1.725458</td>\n",
       "    </tr>\n",
       "    <tr>\n",
       "      <th>1324</th>\n",
       "      <td>champaign</td>\n",
       "      <td>1.683972</td>\n",
       "    </tr>\n",
       "    <tr>\n",
       "      <th>8330</th>\n",
       "      <td>urbana</td>\n",
       "      <td>1.659536</td>\n",
       "    </tr>\n",
       "    <tr>\n",
       "      <th>1953</th>\n",
       "      <td>danville</td>\n",
       "      <td>1.551127</td>\n",
       "    </tr>\n",
       "    <tr>\n",
       "      <th>8058</th>\n",
       "      <td>tow</td>\n",
       "      <td>1.508806</td>\n",
       "    </tr>\n",
       "    <tr>\n",
       "      <th>3860</th>\n",
       "      <td>illini</td>\n",
       "      <td>1.454835</td>\n",
       "    </tr>\n",
       "    <tr>\n",
       "      <th>8580</th>\n",
       "      <td>water</td>\n",
       "      <td>1.387167</td>\n",
       "    </tr>\n",
       "  </tbody>\n",
       "</table>\n",
       "</div>"
      ],
      "text/plain": [
       "        feature  coefficient\n",
       "8212       uiuc     2.348074\n",
       "3863   illinois     2.166719\n",
       "6595        rso     1.760886\n",
       "3405   grainger     1.725458\n",
       "1324  champaign     1.683972\n",
       "8330     urbana     1.659536\n",
       "1953   danville     1.551127\n",
       "8058        tow     1.508806\n",
       "3860     illini     1.454835\n",
       "8580      water     1.387167"
      ]
     },
     "execution_count": 238,
     "metadata": {},
     "output_type": "execute_result"
    }
   ],
   "source": [
    "#examine these words and see if they make sense. Do they differentiate UIUC from another university?\n",
    "top_10_positive"
   ]
  },
  {
   "cell_type": "code",
   "execution_count": 239,
   "metadata": {},
   "outputs": [
    {
     "data": {
      "text/html": [
       "<div>\n",
       "<style scoped>\n",
       "    .dataframe tbody tr th:only-of-type {\n",
       "        vertical-align: middle;\n",
       "    }\n",
       "\n",
       "    .dataframe tbody tr th {\n",
       "        vertical-align: top;\n",
       "    }\n",
       "\n",
       "    .dataframe thead th {\n",
       "        text-align: right;\n",
       "    }\n",
       "</style>\n",
       "<table border=\"1\" class=\"dataframe\">\n",
       "  <thead>\n",
       "    <tr style=\"text-align: right;\">\n",
       "      <th></th>\n",
       "      <th>feature</th>\n",
       "      <th>coefficient</th>\n",
       "    </tr>\n",
       "  </thead>\n",
       "  <tbody>\n",
       "    <tr>\n",
       "      <th>2435</th>\n",
       "      <td>eecs</td>\n",
       "      <td>-1.584231</td>\n",
       "    </tr>\n",
       "    <tr>\n",
       "      <th>8468</th>\n",
       "      <td>vote</td>\n",
       "      <td>-1.635962</td>\n",
       "    </tr>\n",
       "    <tr>\n",
       "      <th>805</th>\n",
       "      <td>august</td>\n",
       "      <td>-1.647166</td>\n",
       "    </tr>\n",
       "    <tr>\n",
       "      <th>8760</th>\n",
       "      <td>wolverine</td>\n",
       "      <td>-1.685618</td>\n",
       "    </tr>\n",
       "    <tr>\n",
       "      <th>3472</th>\n",
       "      <td>gsi</td>\n",
       "      <td>-1.688332</td>\n",
       "    </tr>\n",
       "    <tr>\n",
       "      <th>8316</th>\n",
       "      <td>uofm</td>\n",
       "      <td>-1.772182</td>\n",
       "    </tr>\n",
       "    <tr>\n",
       "      <th>2139</th>\n",
       "      <td>diag</td>\n",
       "      <td>-1.772555</td>\n",
       "    </tr>\n",
       "    <tr>\n",
       "      <th>3016</th>\n",
       "      <td>fresno</td>\n",
       "      <td>-2.057798</td>\n",
       "    </tr>\n",
       "    <tr>\n",
       "      <th>8223</th>\n",
       "      <td>umich</td>\n",
       "      <td>-2.500948</td>\n",
       "    </tr>\n",
       "    <tr>\n",
       "      <th>4947</th>\n",
       "      <td>michigan</td>\n",
       "      <td>-2.790238</td>\n",
       "    </tr>\n",
       "  </tbody>\n",
       "</table>\n",
       "</div>"
      ],
      "text/plain": [
       "        feature  coefficient\n",
       "2435       eecs    -1.584231\n",
       "8468       vote    -1.635962\n",
       "805      august    -1.647166\n",
       "8760  wolverine    -1.685618\n",
       "3472        gsi    -1.688332\n",
       "8316       uofm    -1.772182\n",
       "2139       diag    -1.772555\n",
       "3016     fresno    -2.057798\n",
       "8223      umich    -2.500948\n",
       "4947   michigan    -2.790238"
      ]
     },
     "execution_count": 239,
     "metadata": {},
     "output_type": "execute_result"
    }
   ],
   "source": [
    "top_10_negative"
   ]
  },
  {
   "cell_type": "markdown",
   "metadata": {},
   "source": [
    "Some of the words listed make it seem like there is a difference between UIUC and Mich. Numerous words in the top 10 positive are regarding terms related to UIUC while several of the top 10 negative are related to umich which is a interesting occurance. But there are some interesting other selections such as fresno and august in the top 10 negative that without much other context are interesting as to why they might be negative.  "
   ]
  },
  {
   "cell_type": "markdown",
   "metadata": {},
   "source": [
    "### Problem 4: Train a 10 topic topic model from the UIUC subreddit data using Gensim LDA. (https://radimrehurek.com/gensim/auto_examples/tutorials/run_lda.html) If you get here before Wednesday 9/11, don't rush to finish, but feel free to continue ahead. We will go through this in class. Print out the top words in each topic, and read through the words for each topic to decide the theme of the topic: remember this is subjective and there are no right or wrong answers. Print out a few comments with high frequencies of each topic and analyze if your topic labels were representative. "
   ]
  },
  {
   "cell_type": "code",
   "execution_count": 241,
   "metadata": {},
   "outputs": [
    {
     "name": "stdout",
     "output_type": "stream",
     "text": [
      "Collecting gensim\n",
      "  Downloading gensim-4.3.3-cp39-cp39-macosx_10_9_x86_64.whl.metadata (8.3 kB)\n",
      "Requirement already satisfied: numpy<2.0,>=1.18.5 in /Users/vikas/miniconda3/envs/is310/lib/python3.9/site-packages (from gensim) (1.26.4)\n",
      "Requirement already satisfied: scipy<1.14.0,>=1.7.0 in /Users/vikas/miniconda3/envs/is310/lib/python3.9/site-packages (from gensim) (1.12.0)\n",
      "Requirement already satisfied: smart-open>=1.8.1 in /Users/vikas/miniconda3/envs/is310/lib/python3.9/site-packages (from gensim) (7.0.4)\n",
      "Requirement already satisfied: wrapt in /Users/vikas/miniconda3/envs/is310/lib/python3.9/site-packages (from smart-open>=1.8.1->gensim) (1.16.0)\n",
      "Downloading gensim-4.3.3-cp39-cp39-macosx_10_9_x86_64.whl (24.1 MB)\n",
      "\u001b[2K   \u001b[90m━━━━━━━━━━━━━━━━━━━━━━━━━━━━━━━━━━━━━━━━\u001b[0m \u001b[32m24.1/24.1 MB\u001b[0m \u001b[31m4.2 MB/s\u001b[0m eta \u001b[36m0:00:00\u001b[0m00:01\u001b[0m00:01\u001b[0m\n",
      "\u001b[?25hInstalling collected packages: gensim\n",
      "Successfully installed gensim-4.3.3\n"
     ]
    }
   ],
   "source": [
    "!pip install gensim\n"
   ]
  },
  {
   "cell_type": "code",
   "execution_count": 246,
   "metadata": {},
   "outputs": [
    {
     "name": "stderr",
     "output_type": "stream",
     "text": [
      "[nltk_data] Downloading package stopwords to /Users/vikas/nltk_data...\n",
      "[nltk_data]   Package stopwords is already up-to-date!\n",
      "[nltk_data] Downloading package wordnet to /Users/vikas/nltk_data...\n",
      "2024-09-23 15:57:34,862 : INFO : adding document #0 to Dictionary<0 unique tokens: []>\n",
      "2024-09-23 15:57:34,946 : INFO : built Dictionary<9122 unique tokens: ['going', 'gonna', 'learn', 'learning', 'lecture']...> from 4725 documents (total 67310 corpus positions)\n",
      "2024-09-23 15:57:34,947 : INFO : Dictionary lifecycle event {'msg': \"built Dictionary<9122 unique tokens: ['going', 'gonna', 'learn', 'learning', 'lecture']...> from 4725 documents (total 67310 corpus positions)\", 'datetime': '2024-09-23T15:57:34.947312', 'gensim': '4.3.3', 'python': '3.9.19 (main, May  6 2024, 14:46:57) \\n[Clang 14.0.6 ]', 'platform': 'macOS-10.16-x86_64-i386-64bit', 'event': 'created'}\n",
      "2024-09-23 15:57:35,009 : INFO : using symmetric alpha at 0.1\n",
      "2024-09-23 15:57:35,010 : INFO : using symmetric eta at 0.1\n",
      "2024-09-23 15:57:35,012 : INFO : using serial LDA version on this node\n",
      "2024-09-23 15:57:35,022 : INFO : running online (multi-pass) LDA training, 10 topics, 15 passes over the supplied corpus of 4725 documents, updating model once every 2000 documents, evaluating perplexity every 4725 documents, iterating 400x with a convergence threshold of 0.001000\n",
      "2024-09-23 15:57:35,023 : INFO : PROGRESS: pass 0, at document #2000/4725\n",
      "2024-09-23 15:57:35,937 : INFO : merging changes from 2000 documents into a model of 4725 documents\n",
      "2024-09-23 15:57:35,945 : INFO : topic #0 (0.100): 0.010*\"get\" + 0.008*\"got\" + 0.008*\"people\" + 0.007*\"http\" + 0.006*\"someone\" + 0.006*\"spot\" + 0.006*\"time\" + 0.005*\"car\" + 0.005*\"would\" + 0.005*\"know\"\n",
      "2024-09-23 15:57:35,946 : INFO : topic #6 (0.100): 0.008*\"people\" + 0.008*\"need\" + 0.007*\"find\" + 0.007*\"get\" + 0.006*\"like\" + 0.006*\"go\" + 0.006*\"know\" + 0.005*\"time\" + 0.005*\"guy\" + 0.005*\"campus\"\n",
      "2024-09-23 15:57:35,949 : INFO : topic #3 (0.100): 0.019*\"like\" + 0.009*\"get\" + 0.008*\"one\" + 0.007*\"class\" + 0.005*\"time\" + 0.005*\"day\" + 0.005*\"http\" + 0.005*\"lot\" + 0.004*\"year\" + 0.004*\"take\"\n",
      "2024-09-23 15:57:35,951 : INFO : topic #7 (0.100): 0.011*\"would\" + 0.009*\"also\" + 0.008*\"class\" + 0.008*\"people\" + 0.007*\"take\" + 0.006*\"semester\" + 0.006*\"get\" + 0.006*\"http\" + 0.006*\"one\" + 0.006*\"year\"\n",
      "2024-09-23 15:57:35,953 : INFO : topic #8 (0.100): 0.010*\"get\" + 0.008*\"time\" + 0.008*\"think\" + 0.007*\"good\" + 0.007*\"people\" + 0.007*\"also\" + 0.006*\"like\" + 0.006*\"feel\" + 0.006*\"know\" + 0.005*\"student\"\n",
      "2024-09-23 15:57:35,954 : INFO : topic diff=8.377193, rho=1.000000\n",
      "2024-09-23 15:57:35,956 : INFO : PROGRESS: pass 0, at document #4000/4725\n",
      "2024-09-23 15:57:36,446 : INFO : merging changes from 2000 documents into a model of 4725 documents\n",
      "2024-09-23 15:57:36,450 : INFO : topic #3 (0.100): 0.020*\"like\" + 0.010*\"get\" + 0.007*\"campus\" + 0.007*\"one\" + 0.006*\"class\" + 0.006*\"http\" + 0.006*\"day\" + 0.006*\"time\" + 0.005*\"lot\" + 0.005*\"year\"\n",
      "2024-09-23 15:57:36,451 : INFO : topic #6 (0.100): 0.008*\"get\" + 0.007*\"people\" + 0.007*\"like\" + 0.007*\"need\" + 0.007*\"know\" + 0.006*\"find\" + 0.005*\"campus\" + 0.005*\"go\" + 0.005*\"hope\" + 0.005*\"guy\"\n",
      "2024-09-23 15:57:36,452 : INFO : topic #4 (0.100): 0.010*\"weight\" + 0.008*\"get\" + 0.006*\"also\" + 0.006*\"uiuc\" + 0.006*\"one\" + 0.006*\"lol\" + 0.006*\"much\" + 0.005*\"dm\" + 0.005*\"see\" + 0.005*\"people\"\n",
      "2024-09-23 15:57:36,453 : INFO : topic #1 (0.100): 0.011*\"get\" + 0.010*\"people\" + 0.007*\"also\" + 0.006*\"sure\" + 0.006*\"student\" + 0.006*\"well\" + 0.006*\"way\" + 0.005*\"really\" + 0.005*\"like\" + 0.005*\"company\"\n",
      "2024-09-23 15:57:36,454 : INFO : topic #9 (0.100): 0.011*\"get\" + 0.010*\"good\" + 0.009*\"go\" + 0.008*\"one\" + 0.007*\"back\" + 0.006*\"know\" + 0.005*\"something\" + 0.005*\"class\" + 0.005*\"tape\" + 0.005*\"people\"\n",
      "2024-09-23 15:57:36,455 : INFO : topic diff=0.441501, rho=0.707107\n",
      "2024-09-23 15:57:36,724 : INFO : -9.737 per-word bound, 853.2 perplexity estimate based on a held-out corpus of 725 documents with 11281 words\n",
      "2024-09-23 15:57:36,725 : INFO : PROGRESS: pass 0, at document #4725/4725\n",
      "2024-09-23 15:57:36,913 : INFO : merging changes from 725 documents into a model of 4725 documents\n",
      "2024-09-23 15:57:36,918 : INFO : topic #7 (0.100): 0.017*\"class\" + 0.011*\"would\" + 0.010*\"also\" + 0.010*\"illinois\" + 0.010*\"people\" + 0.009*\"year\" + 0.009*\"edu\" + 0.008*\"friend\" + 0.008*\"http\" + 0.008*\"freshman\"\n",
      "2024-09-23 15:57:36,919 : INFO : topic #0 (0.100): 0.017*\"http\" + 0.009*\"uiuc\" + 0.009*\"com\" + 0.008*\"get\" + 0.008*\"got\" + 0.008*\"www\" + 0.008*\"student\" + 0.007*\"right\" + 0.007*\"comment\" + 0.006*\"reddit\"\n",
      "2024-09-23 15:57:36,920 : INFO : topic #2 (0.100): 0.018*\"friend\" + 0.015*\"year\" + 0.013*\"people\" + 0.012*\"make\" + 0.009*\"like\" + 0.008*\"get\" + 0.007*\"new\" + 0.006*\"way\" + 0.006*\"also\" + 0.006*\"lot\"\n",
      "2024-09-23 15:57:36,921 : INFO : topic #9 (0.100): 0.011*\"good\" + 0.011*\"pipe\" + 0.010*\"get\" + 0.007*\"government\" + 0.007*\"county\" + 0.007*\"back\" + 0.007*\"know\" + 0.006*\"chinese\" + 0.006*\"go\" + 0.006*\"one\"\n",
      "2024-09-23 15:57:36,922 : INFO : topic #1 (0.100): 0.012*\"people\" + 0.010*\"get\" + 0.007*\"also\" + 0.007*\"introvert\" + 0.007*\"really\" + 0.007*\"sure\" + 0.006*\"hair\" + 0.005*\"well\" + 0.005*\"experience\" + 0.005*\"way\"\n",
      "2024-09-23 15:57:36,924 : INFO : topic diff=0.440031, rho=0.577350\n",
      "2024-09-23 15:57:36,925 : INFO : PROGRESS: pass 1, at document #2000/4725\n",
      "2024-09-23 15:57:37,326 : INFO : merging changes from 2000 documents into a model of 4725 documents\n",
      "2024-09-23 15:57:37,331 : INFO : topic #7 (0.100): 0.015*\"class\" + 0.011*\"would\" + 0.010*\"also\" + 0.009*\"people\" + 0.008*\"year\" + 0.008*\"semester\" + 0.008*\"illinois\" + 0.007*\"edu\" + 0.007*\"one\" + 0.007*\"http\"\n",
      "2024-09-23 15:57:37,332 : INFO : topic #6 (0.100): 0.014*\"water\" + 0.009*\"need\" + 0.008*\"people\" + 0.008*\"know\" + 0.007*\"get\" + 0.006*\"find\" + 0.006*\"like\" + 0.005*\"campus\" + 0.005*\"keep\" + 0.005*\"tap\"\n",
      "2024-09-23 15:57:37,334 : INFO : topic #2 (0.100): 0.014*\"friend\" + 0.013*\"year\" + 0.012*\"people\" + 0.010*\"make\" + 0.010*\"like\" + 0.008*\"get\" + 0.007*\"thing\" + 0.006*\"go\" + 0.006*\"also\" + 0.006*\"lot\"\n",
      "2024-09-23 15:57:37,335 : INFO : topic #9 (0.100): 0.010*\"get\" + 0.010*\"good\" + 0.008*\"go\" + 0.007*\"one\" + 0.006*\"know\" + 0.006*\"back\" + 0.005*\"pipe\" + 0.005*\"car\" + 0.005*\"make\" + 0.005*\"time\"\n",
      "2024-09-23 15:57:37,337 : INFO : topic #8 (0.100): 0.011*\"student\" + 0.010*\"many\" + 0.009*\"get\" + 0.008*\"people\" + 0.008*\"think\" + 0.008*\"good\" + 0.008*\"time\" + 0.007*\"try\" + 0.006*\"feel\" + 0.006*\"also\"\n",
      "2024-09-23 15:57:37,338 : INFO : topic diff=0.293851, rho=0.478776\n",
      "2024-09-23 15:57:37,340 : INFO : PROGRESS: pass 1, at document #4000/4725\n",
      "2024-09-23 15:57:37,732 : INFO : merging changes from 2000 documents into a model of 4725 documents\n",
      "2024-09-23 15:57:37,737 : INFO : topic #0 (0.100): 0.016*\"http\" + 0.009*\"com\" + 0.009*\"got\" + 0.009*\"get\" + 0.009*\"uiuc\" + 0.008*\"right\" + 0.007*\"www\" + 0.007*\"comment\" + 0.007*\"reddit\" + 0.007*\"student\"\n",
      "2024-09-23 15:57:37,738 : INFO : topic #9 (0.100): 0.011*\"good\" + 0.010*\"get\" + 0.008*\"go\" + 0.007*\"back\" + 0.006*\"one\" + 0.006*\"know\" + 0.005*\"tell\" + 0.005*\"make\" + 0.004*\"something\" + 0.004*\"car\"\n",
      "2024-09-23 15:57:37,739 : INFO : topic #7 (0.100): 0.016*\"class\" + 0.011*\"would\" + 0.010*\"also\" + 0.009*\"year\" + 0.009*\"illinois\" + 0.009*\"people\" + 0.008*\"get\" + 0.008*\"edu\" + 0.008*\"one\" + 0.007*\"http\"\n",
      "2024-09-23 15:57:37,740 : INFO : topic #1 (0.100): 0.010*\"get\" + 0.009*\"people\" + 0.007*\"sure\" + 0.007*\"really\" + 0.007*\"cleaning\" + 0.006*\"also\" + 0.006*\"company\" + 0.006*\"apartment\" + 0.006*\"well\" + 0.005*\"make\"\n",
      "2024-09-23 15:57:37,741 : INFO : topic #6 (0.100): 0.009*\"water\" + 0.008*\"know\" + 0.008*\"need\" + 0.008*\"get\" + 0.007*\"people\" + 0.007*\"like\" + 0.005*\"hope\" + 0.005*\"find\" + 0.005*\"keep\" + 0.005*\"man\"\n",
      "2024-09-23 15:57:37,742 : INFO : topic diff=0.323453, rho=0.478776\n",
      "2024-09-23 15:57:37,985 : INFO : -9.033 per-word bound, 523.7 perplexity estimate based on a held-out corpus of 725 documents with 11281 words\n",
      "2024-09-23 15:57:37,987 : INFO : PROGRESS: pass 1, at document #4725/4725\n",
      "2024-09-23 15:57:38,167 : INFO : merging changes from 725 documents into a model of 4725 documents\n",
      "2024-09-23 15:57:38,174 : INFO : topic #3 (0.100): 0.018*\"like\" + 0.012*\"get\" + 0.009*\"hour\" + 0.008*\"campus\" + 0.008*\"day\" + 0.007*\"weather\" + 0.007*\"student\" + 0.006*\"http\" + 0.006*\"time\" + 0.006*\"class\"\n",
      "2024-09-23 15:57:38,178 : INFO : topic #8 (0.100): 0.019*\"student\" + 0.014*\"many\" + 0.009*\"get\" + 0.009*\"grad\" + 0.008*\"people\" + 0.008*\"think\" + 0.008*\"try\" + 0.008*\"ra\" + 0.008*\"good\" + 0.007*\"time\"\n",
      "2024-09-23 15:57:38,179 : INFO : topic #0 (0.100): 0.024*\"http\" + 0.012*\"com\" + 0.011*\"www\" + 0.011*\"uiuc\" + 0.009*\"illinois\" + 0.008*\"get\" + 0.007*\"got\" + 0.007*\"edu\" + 0.007*\"comment\" + 0.007*\"student\"\n",
      "2024-09-23 15:57:38,180 : INFO : topic #7 (0.100): 0.020*\"class\" + 0.011*\"also\" + 0.010*\"would\" + 0.010*\"year\" + 0.010*\"illinois\" + 0.009*\"freshman\" + 0.009*\"people\" + 0.009*\"edu\" + 0.008*\"get\" + 0.008*\"semester\"\n",
      "2024-09-23 15:57:38,183 : INFO : topic #6 (0.100): 0.031*\"water\" + 0.010*\"need\" + 0.009*\"know\" + 0.009*\"tap\" + 0.007*\"get\" + 0.007*\"people\" + 0.007*\"lead\" + 0.006*\"aquifer\" + 0.006*\"keep\" + 0.006*\"safe\"\n",
      "2024-09-23 15:57:38,187 : INFO : topic diff=0.351763, rho=0.478776\n",
      "2024-09-23 15:57:38,189 : INFO : PROGRESS: pass 2, at document #2000/4725\n",
      "2024-09-23 15:57:38,549 : INFO : merging changes from 2000 documents into a model of 4725 documents\n",
      "2024-09-23 15:57:38,554 : INFO : topic #2 (0.100): 0.017*\"friend\" + 0.016*\"people\" + 0.013*\"year\" + 0.011*\"make\" + 0.010*\"like\" + 0.008*\"get\" + 0.008*\"thing\" + 0.007*\"way\" + 0.007*\"also\" + 0.007*\"go\"\n",
      "2024-09-23 15:57:38,555 : INFO : topic #1 (0.100): 0.010*\"cleaning\" + 0.009*\"get\" + 0.009*\"people\" + 0.008*\"apartment\" + 0.007*\"also\" + 0.007*\"sure\" + 0.007*\"company\" + 0.007*\"really\" + 0.006*\"fee\" + 0.005*\"make\"\n",
      "2024-09-23 15:57:38,556 : INFO : topic #7 (0.100): 0.018*\"class\" + 0.011*\"would\" + 0.011*\"also\" + 0.009*\"year\" + 0.009*\"semester\" + 0.008*\"people\" + 0.008*\"illinois\" + 0.008*\"one\" + 0.007*\"get\" + 0.007*\"freshman\"\n",
      "2024-09-23 15:57:38,557 : INFO : topic #3 (0.100): 0.019*\"like\" + 0.012*\"get\" + 0.009*\"hour\" + 0.008*\"day\" + 0.007*\"campus\" + 0.007*\"one\" + 0.006*\"class\" + 0.006*\"time\" + 0.006*\"going\" + 0.006*\"go\"\n",
      "2024-09-23 15:57:38,558 : INFO : topic #5 (0.100): 0.027*\"thank\" + 0.016*\"c\" + 0.009*\"id\" + 0.008*\"time\" + 0.007*\"student\" + 0.007*\"im\" + 0.006*\"take\" + 0.006*\"section\" + 0.006*\"answer\" + 0.006*\"like\"\n",
      "2024-09-23 15:57:38,559 : INFO : topic diff=0.255844, rho=0.431834\n",
      "2024-09-23 15:57:38,561 : INFO : PROGRESS: pass 2, at document #4000/4725\n",
      "2024-09-23 15:57:38,936 : INFO : merging changes from 2000 documents into a model of 4725 documents\n",
      "2024-09-23 15:57:38,940 : INFO : topic #2 (0.100): 0.015*\"people\" + 0.014*\"year\" + 0.013*\"friend\" + 0.011*\"make\" + 0.010*\"like\" + 0.009*\"get\" + 0.007*\"thing\" + 0.007*\"way\" + 0.007*\"lot\" + 0.007*\"also\"\n",
      "2024-09-23 15:57:38,941 : INFO : topic #1 (0.100): 0.009*\"cleaning\" + 0.009*\"get\" + 0.008*\"apartment\" + 0.007*\"people\" + 0.007*\"sure\" + 0.007*\"company\" + 0.006*\"really\" + 0.006*\"also\" + 0.006*\"pay\" + 0.005*\"well\"\n",
      "2024-09-23 15:57:38,943 : INFO : topic #0 (0.100): 0.024*\"http\" + 0.013*\"com\" + 0.011*\"www\" + 0.010*\"uiuc\" + 0.009*\"illinois\" + 0.008*\"comment\" + 0.008*\"got\" + 0.008*\"get\" + 0.008*\"reddit\" + 0.007*\"edu\"\n",
      "2024-09-23 15:57:38,944 : INFO : topic #5 (0.100): 0.028*\"thank\" + 0.021*\"c\" + 0.009*\"id\" + 0.007*\"time\" + 0.006*\"oh\" + 0.006*\"take\" + 0.006*\"right\" + 0.006*\"student\" + 0.006*\"im\" + 0.005*\"answer\"\n",
      "2024-09-23 15:57:38,945 : INFO : topic #8 (0.100): 0.016*\"student\" + 0.011*\"many\" + 0.010*\"get\" + 0.009*\"good\" + 0.008*\"think\" + 0.007*\"try\" + 0.007*\"time\" + 0.007*\"people\" + 0.006*\"deleted\" + 0.006*\"grad\"\n",
      "2024-09-23 15:57:38,946 : INFO : topic diff=0.288519, rho=0.431834\n",
      "2024-09-23 15:57:39,141 : INFO : -8.593 per-word bound, 386.3 perplexity estimate based on a held-out corpus of 725 documents with 11281 words\n",
      "2024-09-23 15:57:39,142 : INFO : PROGRESS: pass 2, at document #4725/4725\n",
      "2024-09-23 15:57:39,266 : INFO : merging changes from 725 documents into a model of 4725 documents\n",
      "2024-09-23 15:57:39,270 : INFO : topic #0 (0.100): 0.030*\"http\" + 0.015*\"com\" + 0.014*\"www\" + 0.012*\"illinois\" + 0.011*\"uiuc\" + 0.011*\"edu\" + 0.007*\"review\" + 0.007*\"reddit\" + 0.007*\"comment\" + 0.007*\"student\"\n",
      "2024-09-23 15:57:39,271 : INFO : topic #4 (0.100): 0.015*\"water\" + 0.011*\"lol\" + 0.010*\"dm\" + 0.008*\"get\" + 0.008*\"still\" + 0.008*\"drinking\" + 0.007*\"also\" + 0.007*\"one\" + 0.007*\"late\" + 0.006*\"yeah\"\n",
      "2024-09-23 15:57:39,272 : INFO : topic #9 (0.100): 0.012*\"good\" + 0.010*\"pipe\" + 0.009*\"get\" + 0.008*\"county\" + 0.007*\"bad\" + 0.007*\"government\" + 0.006*\"store\" + 0.006*\"chinese\" + 0.006*\"know\" + 0.006*\"hear\"\n",
      "2024-09-23 15:57:39,273 : INFO : topic #1 (0.100): 0.009*\"cleaning\" + 0.009*\"fee\" + 0.008*\"apartment\" + 0.008*\"people\" + 0.008*\"get\" + 0.007*\"hair\" + 0.007*\"pay\" + 0.007*\"introvert\" + 0.007*\"sure\" + 0.006*\"lease\"\n",
      "2024-09-23 15:57:39,273 : INFO : topic #2 (0.100): 0.021*\"friend\" + 0.020*\"people\" + 0.014*\"year\" + 0.013*\"make\" + 0.011*\"like\" + 0.008*\"get\" + 0.008*\"way\" + 0.007*\"thing\" + 0.007*\"lot\" + 0.007*\"also\"\n",
      "2024-09-23 15:57:39,274 : INFO : topic diff=0.293736, rho=0.431834\n",
      "2024-09-23 15:57:39,275 : INFO : PROGRESS: pass 3, at document #2000/4725\n",
      "2024-09-23 15:57:39,612 : INFO : merging changes from 2000 documents into a model of 4725 documents\n",
      "2024-09-23 15:57:39,617 : INFO : topic #8 (0.100): 0.017*\"student\" + 0.012*\"many\" + 0.009*\"get\" + 0.008*\"think\" + 0.008*\"good\" + 0.007*\"try\" + 0.007*\"time\" + 0.007*\"grad\" + 0.006*\"professor\" + 0.006*\"also\"\n",
      "2024-09-23 15:57:39,618 : INFO : topic #9 (0.100): 0.011*\"good\" + 0.009*\"get\" + 0.006*\"go\" + 0.006*\"know\" + 0.006*\"store\" + 0.006*\"pipe\" + 0.006*\"one\" + 0.006*\"county\" + 0.005*\"bad\" + 0.005*\"back\"\n",
      "2024-09-23 15:57:39,619 : INFO : topic #2 (0.100): 0.019*\"people\" + 0.017*\"friend\" + 0.013*\"year\" + 0.012*\"make\" + 0.011*\"like\" + 0.008*\"get\" + 0.008*\"thing\" + 0.007*\"way\" + 0.007*\"also\" + 0.007*\"go\"\n",
      "2024-09-23 15:57:39,620 : INFO : topic #7 (0.100): 0.020*\"class\" + 0.012*\"would\" + 0.011*\"also\" + 0.009*\"year\" + 0.009*\"semester\" + 0.008*\"one\" + 0.008*\"get\" + 0.007*\"freshman\" + 0.007*\"illinois\" + 0.007*\"take\"\n",
      "2024-09-23 15:57:39,621 : INFO : topic #3 (0.100): 0.018*\"like\" + 0.012*\"get\" + 0.010*\"hour\" + 0.009*\"day\" + 0.007*\"campus\" + 0.007*\"one\" + 0.006*\"going\" + 0.006*\"time\" + 0.006*\"go\" + 0.006*\"class\"\n",
      "2024-09-23 15:57:39,621 : INFO : topic diff=0.205338, rho=0.396448\n",
      "2024-09-23 15:57:39,622 : INFO : PROGRESS: pass 3, at document #4000/4725\n",
      "2024-09-23 15:57:40,007 : INFO : merging changes from 2000 documents into a model of 4725 documents\n",
      "2024-09-23 15:57:40,011 : INFO : topic #8 (0.100): 0.018*\"student\" + 0.011*\"many\" + 0.010*\"get\" + 0.009*\"good\" + 0.008*\"try\" + 0.007*\"think\" + 0.006*\"grad\" + 0.006*\"deleted\" + 0.006*\"time\" + 0.006*\"professor\"\n",
      "2024-09-23 15:57:40,012 : INFO : topic #9 (0.100): 0.012*\"good\" + 0.009*\"get\" + 0.006*\"go\" + 0.006*\"tell\" + 0.006*\"bad\" + 0.006*\"know\" + 0.006*\"one\" + 0.005*\"back\" + 0.005*\"county\" + 0.005*\"shop\"\n",
      "2024-09-23 15:57:40,013 : INFO : topic #3 (0.100): 0.018*\"like\" + 0.012*\"get\" + 0.009*\"hour\" + 0.008*\"day\" + 0.008*\"campus\" + 0.006*\"go\" + 0.006*\"one\" + 0.006*\"time\" + 0.006*\"student\" + 0.005*\"good\"\n",
      "2024-09-23 15:57:40,014 : INFO : topic #2 (0.100): 0.018*\"people\" + 0.014*\"friend\" + 0.014*\"year\" + 0.012*\"make\" + 0.010*\"like\" + 0.009*\"get\" + 0.007*\"thing\" + 0.007*\"way\" + 0.007*\"lot\" + 0.007*\"also\"\n",
      "2024-09-23 15:57:40,016 : INFO : topic #1 (0.100): 0.010*\"cleaning\" + 0.009*\"apartment\" + 0.008*\"get\" + 0.007*\"company\" + 0.007*\"pay\" + 0.007*\"charge\" + 0.007*\"sure\" + 0.006*\"really\" + 0.006*\"people\" + 0.006*\"fee\"\n",
      "2024-09-23 15:57:40,016 : INFO : topic diff=0.242082, rho=0.396448\n",
      "2024-09-23 15:57:40,196 : INFO : -8.249 per-word bound, 304.3 perplexity estimate based on a held-out corpus of 725 documents with 11281 words\n",
      "2024-09-23 15:57:40,197 : INFO : PROGRESS: pass 3, at document #4725/4725\n",
      "2024-09-23 15:57:40,313 : INFO : merging changes from 725 documents into a model of 4725 documents\n",
      "2024-09-23 15:57:40,318 : INFO : topic #9 (0.100): 0.012*\"good\" + 0.009*\"pipe\" + 0.009*\"get\" + 0.008*\"county\" + 0.007*\"bad\" + 0.007*\"store\" + 0.006*\"government\" + 0.006*\"chinese\" + 0.006*\"know\" + 0.006*\"hear\"\n",
      "2024-09-23 15:57:40,319 : INFO : topic #1 (0.100): 0.010*\"cleaning\" + 0.010*\"fee\" + 0.009*\"apartment\" + 0.008*\"pay\" + 0.008*\"rent\" + 0.008*\"charge\" + 0.007*\"lease\" + 0.007*\"get\" + 0.007*\"hair\" + 0.006*\"introvert\"\n",
      "2024-09-23 15:57:40,319 : INFO : topic #2 (0.100): 0.022*\"people\" + 0.020*\"friend\" + 0.014*\"year\" + 0.013*\"make\" + 0.011*\"like\" + 0.008*\"get\" + 0.008*\"way\" + 0.007*\"also\" + 0.007*\"thing\" + 0.007*\"lot\"\n",
      "2024-09-23 15:57:40,320 : INFO : topic #4 (0.100): 0.013*\"water\" + 0.012*\"lol\" + 0.010*\"dm\" + 0.009*\"still\" + 0.008*\"get\" + 0.008*\"interested\" + 0.008*\"drinking\" + 0.007*\"also\" + 0.007*\"yeah\" + 0.007*\"one\"\n",
      "2024-09-23 15:57:40,321 : INFO : topic #5 (0.100): 0.034*\"thank\" + 0.016*\"c\" + 0.013*\"id\" + 0.009*\"joke\" + 0.009*\"im\" + 0.008*\"head\" + 0.008*\"time\" + 0.007*\"went\" + 0.007*\"answer\" + 0.007*\"right\"\n",
      "2024-09-23 15:57:40,321 : INFO : topic diff=0.222879, rho=0.396448\n",
      "2024-09-23 15:57:40,323 : INFO : PROGRESS: pass 4, at document #2000/4725\n",
      "2024-09-23 15:57:40,646 : INFO : merging changes from 2000 documents into a model of 4725 documents\n",
      "2024-09-23 15:57:40,651 : INFO : topic #3 (0.100): 0.018*\"like\" + 0.013*\"get\" + 0.010*\"hour\" + 0.008*\"day\" + 0.007*\"campus\" + 0.007*\"one\" + 0.006*\"go\" + 0.006*\"bike\" + 0.006*\"time\" + 0.006*\"going\"\n",
      "2024-09-23 15:57:40,652 : INFO : topic #5 (0.100): 0.034*\"thank\" + 0.019*\"c\" + 0.010*\"id\" + 0.008*\"im\" + 0.007*\"time\" + 0.007*\"head\" + 0.007*\"answer\" + 0.007*\"engineering\" + 0.007*\"take\" + 0.006*\"joke\"\n",
      "2024-09-23 15:57:40,653 : INFO : topic #0 (0.100): 0.035*\"http\" + 0.018*\"com\" + 0.015*\"illinois\" + 0.014*\"www\" + 0.013*\"edu\" + 0.010*\"uiuc\" + 0.008*\"reddit\" + 0.008*\"comment\" + 0.006*\"parking\" + 0.006*\"get\"\n",
      "2024-09-23 15:57:40,653 : INFO : topic #2 (0.100): 0.021*\"people\" + 0.018*\"friend\" + 0.013*\"year\" + 0.012*\"make\" + 0.011*\"like\" + 0.008*\"get\" + 0.008*\"thing\" + 0.007*\"way\" + 0.007*\"also\" + 0.007*\"time\"\n",
      "2024-09-23 15:57:40,654 : INFO : topic #9 (0.100): 0.011*\"good\" + 0.009*\"get\" + 0.006*\"store\" + 0.006*\"pipe\" + 0.006*\"go\" + 0.006*\"county\" + 0.006*\"bad\" + 0.006*\"know\" + 0.006*\"one\" + 0.005*\"tell\"\n",
      "2024-09-23 15:57:40,655 : INFO : topic diff=0.163456, rho=0.368542\n",
      "2024-09-23 15:57:40,655 : INFO : PROGRESS: pass 4, at document #4000/4725\n",
      "2024-09-23 15:57:41,142 : INFO : merging changes from 2000 documents into a model of 4725 documents\n",
      "2024-09-23 15:57:41,147 : INFO : topic #3 (0.100): 0.018*\"like\" + 0.012*\"get\" + 0.009*\"hour\" + 0.008*\"day\" + 0.008*\"campus\" + 0.006*\"go\" + 0.006*\"one\" + 0.006*\"time\" + 0.006*\"student\" + 0.005*\"bike\"\n",
      "2024-09-23 15:57:41,148 : INFO : topic #4 (0.100): 0.014*\"lol\" + 0.012*\"dm\" + 0.008*\"get\" + 0.008*\"weight\" + 0.007*\"interested\" + 0.007*\"one\" + 0.007*\"back\" + 0.007*\"yeah\" + 0.007*\"still\" + 0.007*\"green\"\n",
      "2024-09-23 15:57:41,149 : INFO : topic #9 (0.100): 0.012*\"good\" + 0.009*\"get\" + 0.006*\"bad\" + 0.006*\"tell\" + 0.006*\"go\" + 0.005*\"know\" + 0.005*\"one\" + 0.005*\"county\" + 0.005*\"store\" + 0.005*\"shop\"\n",
      "2024-09-23 15:57:41,149 : INFO : topic #1 (0.100): 0.011*\"cleaning\" + 0.010*\"apartment\" + 0.008*\"charge\" + 0.008*\"pay\" + 0.007*\"get\" + 0.007*\"company\" + 0.007*\"fee\" + 0.006*\"got\" + 0.006*\"sure\" + 0.006*\"rent\"\n",
      "2024-09-23 15:57:41,150 : INFO : topic #6 (0.100): 0.017*\"water\" + 0.009*\"know\" + 0.008*\"need\" + 0.007*\"get\" + 0.006*\"man\" + 0.006*\"hope\" + 0.005*\"like\" + 0.005*\"people\" + 0.005*\"see\" + 0.005*\"bro\"\n",
      "2024-09-23 15:57:41,151 : INFO : topic diff=0.197000, rho=0.368542\n",
      "2024-09-23 15:57:41,325 : INFO : -8.095 per-word bound, 273.5 perplexity estimate based on a held-out corpus of 725 documents with 11281 words\n",
      "2024-09-23 15:57:41,326 : INFO : PROGRESS: pass 4, at document #4725/4725\n",
      "2024-09-23 15:57:41,434 : INFO : merging changes from 725 documents into a model of 4725 documents\n",
      "2024-09-23 15:57:41,438 : INFO : topic #9 (0.100): 0.012*\"good\" + 0.009*\"pipe\" + 0.008*\"county\" + 0.008*\"get\" + 0.007*\"bad\" + 0.007*\"store\" + 0.006*\"government\" + 0.006*\"tell\" + 0.006*\"chinese\" + 0.006*\"hear\"\n",
      "2024-09-23 15:57:41,439 : INFO : topic #4 (0.100): 0.013*\"lol\" + 0.011*\"dm\" + 0.010*\"water\" + 0.009*\"still\" + 0.008*\"interested\" + 0.007*\"drinking\" + 0.007*\"get\" + 0.007*\"yeah\" + 0.007*\"one\" + 0.007*\"late\"\n",
      "2024-09-23 15:57:41,440 : INFO : topic #1 (0.100): 0.010*\"fee\" + 0.010*\"cleaning\" + 0.010*\"apartment\" + 0.008*\"charge\" + 0.008*\"pay\" + 0.008*\"rent\" + 0.007*\"lease\" + 0.007*\"hair\" + 0.007*\"got\" + 0.007*\"dollar\"\n",
      "2024-09-23 15:57:41,441 : INFO : topic #0 (0.100): 0.040*\"http\" + 0.021*\"illinois\" + 0.018*\"edu\" + 0.017*\"com\" + 0.016*\"www\" + 0.011*\"uiuc\" + 0.007*\"reddit\" + 0.007*\"review\" + 0.007*\"comment\" + 0.006*\"program\"\n",
      "2024-09-23 15:57:41,442 : INFO : topic #2 (0.100): 0.023*\"people\" + 0.020*\"friend\" + 0.013*\"year\" + 0.013*\"make\" + 0.011*\"like\" + 0.008*\"get\" + 0.008*\"way\" + 0.008*\"also\" + 0.007*\"lot\" + 0.007*\"thing\"\n",
      "2024-09-23 15:57:41,442 : INFO : topic diff=0.173421, rho=0.368542\n",
      "2024-09-23 15:57:41,443 : INFO : PROGRESS: pass 5, at document #2000/4725\n",
      "2024-09-23 15:57:41,763 : INFO : merging changes from 2000 documents into a model of 4725 documents\n",
      "2024-09-23 15:57:41,768 : INFO : topic #9 (0.100): 0.011*\"good\" + 0.009*\"get\" + 0.007*\"store\" + 0.006*\"county\" + 0.006*\"pipe\" + 0.006*\"bad\" + 0.006*\"know\" + 0.006*\"go\" + 0.005*\"one\" + 0.005*\"tell\"\n",
      "2024-09-23 15:57:41,769 : INFO : topic #4 (0.100): 0.013*\"dm\" + 0.013*\"lol\" + 0.008*\"interested\" + 0.008*\"get\" + 0.007*\"yeah\" + 0.007*\"back\" + 0.007*\"also\" + 0.007*\"water\" + 0.007*\"still\" + 0.007*\"one\"\n",
      "2024-09-23 15:57:41,770 : INFO : topic #5 (0.100): 0.036*\"thank\" + 0.019*\"c\" + 0.010*\"id\" + 0.008*\"im\" + 0.007*\"head\" + 0.007*\"engineering\" + 0.007*\"answer\" + 0.007*\"time\" + 0.007*\"take\" + 0.006*\"joke\"\n",
      "2024-09-23 15:57:41,770 : INFO : topic #3 (0.100): 0.018*\"like\" + 0.013*\"get\" + 0.011*\"hour\" + 0.008*\"day\" + 0.007*\"campus\" + 0.007*\"one\" + 0.006*\"bike\" + 0.006*\"go\" + 0.006*\"time\" + 0.006*\"weather\"\n",
      "2024-09-23 15:57:41,771 : INFO : topic #7 (0.100): 0.021*\"class\" + 0.012*\"would\" + 0.011*\"also\" + 0.010*\"year\" + 0.009*\"semester\" + 0.008*\"one\" + 0.008*\"get\" + 0.007*\"time\" + 0.007*\"take\" + 0.007*\"freshman\"\n",
      "2024-09-23 15:57:41,772 : INFO : topic diff=0.136467, rho=0.345806\n",
      "2024-09-23 15:57:41,773 : INFO : PROGRESS: pass 5, at document #4000/4725\n",
      "2024-09-23 15:57:42,103 : INFO : merging changes from 2000 documents into a model of 4725 documents\n",
      "2024-09-23 15:57:42,108 : INFO : topic #4 (0.100): 0.014*\"lol\" + 0.012*\"dm\" + 0.008*\"interested\" + 0.008*\"get\" + 0.007*\"weight\" + 0.007*\"back\" + 0.007*\"one\" + 0.007*\"yeah\" + 0.007*\"still\" + 0.007*\"green\"\n",
      "2024-09-23 15:57:42,109 : INFO : topic #1 (0.100): 0.011*\"apartment\" + 0.011*\"cleaning\" + 0.008*\"charge\" + 0.008*\"pay\" + 0.008*\"company\" + 0.007*\"fee\" + 0.007*\"got\" + 0.007*\"get\" + 0.006*\"rent\" + 0.006*\"sure\"\n",
      "2024-09-23 15:57:42,110 : INFO : topic #2 (0.100): 0.021*\"people\" + 0.015*\"friend\" + 0.013*\"year\" + 0.012*\"make\" + 0.011*\"like\" + 0.009*\"get\" + 0.008*\"also\" + 0.008*\"thing\" + 0.008*\"way\" + 0.007*\"lot\"\n",
      "2024-09-23 15:57:42,110 : INFO : topic #9 (0.100): 0.012*\"good\" + 0.009*\"get\" + 0.006*\"bad\" + 0.006*\"tell\" + 0.006*\"go\" + 0.005*\"know\" + 0.005*\"one\" + 0.005*\"store\" + 0.005*\"county\" + 0.005*\"shop\"\n",
      "2024-09-23 15:57:42,111 : INFO : topic #3 (0.100): 0.018*\"like\" + 0.013*\"get\" + 0.009*\"hour\" + 0.008*\"day\" + 0.008*\"campus\" + 0.006*\"go\" + 0.006*\"one\" + 0.006*\"time\" + 0.006*\"student\" + 0.006*\"bike\"\n",
      "2024-09-23 15:57:42,112 : INFO : topic diff=0.164399, rho=0.345806\n",
      "2024-09-23 15:57:42,296 : INFO : -8.038 per-word bound, 262.9 perplexity estimate based on a held-out corpus of 725 documents with 11281 words\n",
      "2024-09-23 15:57:42,297 : INFO : PROGRESS: pass 5, at document #4725/4725\n",
      "2024-09-23 15:57:42,406 : INFO : merging changes from 725 documents into a model of 4725 documents\n",
      "2024-09-23 15:57:42,411 : INFO : topic #3 (0.100): 0.016*\"like\" + 0.013*\"get\" + 0.010*\"hour\" + 0.008*\"campus\" + 0.008*\"day\" + 0.008*\"bike\" + 0.007*\"weather\" + 0.006*\"go\" + 0.006*\"student\" + 0.006*\"time\"\n",
      "2024-09-23 15:57:42,411 : INFO : topic #7 (0.100): 0.023*\"class\" + 0.012*\"year\" + 0.012*\"would\" + 0.011*\"also\" + 0.009*\"freshman\" + 0.009*\"get\" + 0.008*\"time\" + 0.008*\"semester\" + 0.008*\"one\" + 0.007*\"housing\"\n",
      "2024-09-23 15:57:42,413 : INFO : topic #4 (0.100): 0.013*\"lol\" + 0.011*\"dm\" + 0.009*\"still\" + 0.009*\"interested\" + 0.007*\"yeah\" + 0.007*\"drinking\" + 0.007*\"one\" + 0.007*\"get\" + 0.007*\"back\" + 0.007*\"water\"\n",
      "2024-09-23 15:57:42,414 : INFO : topic #5 (0.100): 0.037*\"thank\" + 0.017*\"c\" + 0.013*\"id\" + 0.009*\"im\" + 0.009*\"joke\" + 0.008*\"head\" + 0.008*\"right\" + 0.007*\"went\" + 0.007*\"much\" + 0.007*\"answer\"\n",
      "2024-09-23 15:57:42,415 : INFO : topic #8 (0.100): 0.027*\"student\" + 0.013*\"many\" + 0.009*\"grad\" + 0.008*\"try\" + 0.008*\"get\" + 0.008*\"think\" + 0.007*\"ra\" + 0.007*\"good\" + 0.007*\"professor\" + 0.006*\"question\"\n",
      "2024-09-23 15:57:42,415 : INFO : topic diff=0.142357, rho=0.345806\n",
      "2024-09-23 15:57:42,416 : INFO : PROGRESS: pass 6, at document #2000/4725\n",
      "2024-09-23 15:57:42,749 : INFO : merging changes from 2000 documents into a model of 4725 documents\n",
      "2024-09-23 15:57:42,754 : INFO : topic #8 (0.100): 0.022*\"student\" + 0.011*\"many\" + 0.008*\"get\" + 0.008*\"grad\" + 0.008*\"think\" + 0.008*\"good\" + 0.008*\"try\" + 0.007*\"professor\" + 0.006*\"question\" + 0.006*\"deleted\"\n",
      "2024-09-23 15:57:42,755 : INFO : topic #5 (0.100): 0.037*\"thank\" + 0.019*\"c\" + 0.011*\"id\" + 0.008*\"im\" + 0.008*\"head\" + 0.007*\"engineering\" + 0.007*\"answer\" + 0.007*\"right\" + 0.007*\"much\" + 0.007*\"joke\"\n",
      "2024-09-23 15:57:42,756 : INFO : topic #7 (0.100): 0.022*\"class\" + 0.012*\"would\" + 0.011*\"year\" + 0.011*\"also\" + 0.009*\"semester\" + 0.008*\"get\" + 0.008*\"one\" + 0.008*\"time\" + 0.008*\"take\" + 0.007*\"freshman\"\n",
      "2024-09-23 15:57:42,756 : INFO : topic #6 (0.100): 0.028*\"water\" + 0.009*\"need\" + 0.009*\"know\" + 0.007*\"safe\" + 0.007*\"get\" + 0.006*\"see\" + 0.005*\"people\" + 0.005*\"lead\" + 0.005*\"keep\" + 0.005*\"man\"\n",
      "2024-09-23 15:57:42,757 : INFO : topic #9 (0.100): 0.011*\"good\" + 0.009*\"get\" + 0.007*\"store\" + 0.006*\"county\" + 0.006*\"pipe\" + 0.006*\"bad\" + 0.005*\"one\" + 0.005*\"go\" + 0.005*\"know\" + 0.005*\"tell\"\n",
      "2024-09-23 15:57:42,758 : INFO : topic diff=0.119259, rho=0.326817\n",
      "2024-09-23 15:57:42,759 : INFO : PROGRESS: pass 6, at document #4000/4725\n",
      "2024-09-23 15:57:43,063 : INFO : merging changes from 2000 documents into a model of 4725 documents\n",
      "2024-09-23 15:57:43,068 : INFO : topic #1 (0.100): 0.012*\"apartment\" + 0.011*\"cleaning\" + 0.009*\"charge\" + 0.008*\"pay\" + 0.008*\"fee\" + 0.008*\"company\" + 0.007*\"got\" + 0.007*\"rent\" + 0.007*\"get\" + 0.006*\"dollar\"\n",
      "2024-09-23 15:57:43,069 : INFO : topic #7 (0.100): 0.021*\"class\" + 0.012*\"would\" + 0.011*\"year\" + 0.010*\"also\" + 0.009*\"get\" + 0.008*\"one\" + 0.008*\"time\" + 0.008*\"semester\" + 0.007*\"take\" + 0.007*\"freshman\"\n",
      "2024-09-23 15:57:43,070 : INFO : topic #0 (0.100): 0.044*\"http\" + 0.024*\"illinois\" + 0.020*\"edu\" + 0.019*\"com\" + 0.015*\"www\" + 0.012*\"uiuc\" + 0.008*\"reddit\" + 0.008*\"comment\" + 0.006*\"student\" + 0.005*\"right\"\n",
      "2024-09-23 15:57:43,071 : INFO : topic #9 (0.100): 0.012*\"good\" + 0.008*\"get\" + 0.006*\"bad\" + 0.006*\"tell\" + 0.006*\"store\" + 0.005*\"go\" + 0.005*\"county\" + 0.005*\"one\" + 0.005*\"know\" + 0.005*\"shop\"\n",
      "2024-09-23 15:57:43,072 : INFO : topic #2 (0.100): 0.021*\"people\" + 0.015*\"friend\" + 0.013*\"year\" + 0.013*\"make\" + 0.011*\"like\" + 0.009*\"get\" + 0.008*\"also\" + 0.008*\"thing\" + 0.008*\"way\" + 0.007*\"lot\"\n",
      "2024-09-23 15:57:43,073 : INFO : topic diff=0.141364, rho=0.326817\n",
      "2024-09-23 15:57:43,261 : INFO : -8.015 per-word bound, 258.7 perplexity estimate based on a held-out corpus of 725 documents with 11281 words\n",
      "2024-09-23 15:57:43,262 : INFO : PROGRESS: pass 6, at document #4725/4725\n",
      "2024-09-23 15:57:43,374 : INFO : merging changes from 725 documents into a model of 4725 documents\n",
      "2024-09-23 15:57:43,379 : INFO : topic #9 (0.100): 0.012*\"good\" + 0.009*\"pipe\" + 0.008*\"county\" + 0.008*\"get\" + 0.008*\"store\" + 0.007*\"bad\" + 0.006*\"government\" + 0.006*\"tell\" + 0.006*\"hear\" + 0.006*\"chinese\"\n",
      "2024-09-23 15:57:43,380 : INFO : topic #1 (0.100): 0.012*\"apartment\" + 0.011*\"fee\" + 0.011*\"cleaning\" + 0.009*\"charge\" + 0.009*\"pay\" + 0.008*\"rent\" + 0.007*\"got\" + 0.007*\"lease\" + 0.007*\"hair\" + 0.007*\"still\"\n",
      "2024-09-23 15:57:43,381 : INFO : topic #0 (0.100): 0.046*\"http\" + 0.027*\"illinois\" + 0.023*\"edu\" + 0.018*\"com\" + 0.017*\"www\" + 0.011*\"uiuc\" + 0.007*\"reddit\" + 0.007*\"comment\" + 0.007*\"review\" + 0.007*\"program\"\n",
      "2024-09-23 15:57:43,382 : INFO : topic #4 (0.100): 0.013*\"lol\" + 0.011*\"dm\" + 0.010*\"still\" + 0.009*\"interested\" + 0.008*\"yeah\" + 0.007*\"one\" + 0.007*\"drinking\" + 0.007*\"back\" + 0.007*\"late\" + 0.007*\"get\"\n",
      "2024-09-23 15:57:43,383 : INFO : topic #7 (0.100): 0.024*\"class\" + 0.012*\"year\" + 0.012*\"would\" + 0.010*\"also\" + 0.009*\"time\" + 0.009*\"get\" + 0.009*\"freshman\" + 0.009*\"semester\" + 0.008*\"one\" + 0.007*\"first\"\n",
      "2024-09-23 15:57:43,383 : INFO : topic diff=0.123483, rho=0.326817\n",
      "2024-09-23 15:57:43,384 : INFO : PROGRESS: pass 7, at document #2000/4725\n",
      "2024-09-23 15:57:43,694 : INFO : merging changes from 2000 documents into a model of 4725 documents\n",
      "2024-09-23 15:57:43,699 : INFO : topic #6 (0.100): 0.030*\"water\" + 0.009*\"know\" + 0.009*\"need\" + 0.007*\"safe\" + 0.007*\"get\" + 0.006*\"see\" + 0.005*\"lead\" + 0.005*\"man\" + 0.005*\"people\" + 0.005*\"keep\"\n",
      "2024-09-23 15:57:43,700 : INFO : topic #8 (0.100): 0.023*\"student\" + 0.011*\"many\" + 0.008*\"get\" + 0.008*\"grad\" + 0.008*\"good\" + 0.008*\"try\" + 0.008*\"think\" + 0.007*\"professor\" + 0.007*\"question\" + 0.006*\"say\"\n",
      "2024-09-23 15:57:43,701 : INFO : topic #0 (0.100): 0.046*\"http\" + 0.025*\"illinois\" + 0.020*\"com\" + 0.020*\"edu\" + 0.016*\"www\" + 0.011*\"uiuc\" + 0.008*\"reddit\" + 0.007*\"comment\" + 0.007*\"program\" + 0.006*\"org\"\n",
      "2024-09-23 15:57:43,701 : INFO : topic #4 (0.100): 0.014*\"dm\" + 0.013*\"lol\" + 0.009*\"interested\" + 0.008*\"still\" + 0.008*\"yeah\" + 0.008*\"back\" + 0.007*\"get\" + 0.007*\"one\" + 0.007*\"also\" + 0.007*\"green\"\n",
      "2024-09-23 15:57:43,702 : INFO : topic #9 (0.100): 0.011*\"good\" + 0.008*\"get\" + 0.008*\"store\" + 0.006*\"county\" + 0.006*\"pipe\" + 0.006*\"bad\" + 0.005*\"one\" + 0.005*\"go\" + 0.005*\"tell\" + 0.005*\"know\"\n",
      "2024-09-23 15:57:43,703 : INFO : topic diff=0.106826, rho=0.310647\n",
      "2024-09-23 15:57:43,704 : INFO : PROGRESS: pass 7, at document #4000/4725\n",
      "2024-09-23 15:57:44,008 : INFO : merging changes from 2000 documents into a model of 4725 documents\n",
      "2024-09-23 15:57:44,013 : INFO : topic #2 (0.100): 0.022*\"people\" + 0.015*\"friend\" + 0.013*\"make\" + 0.012*\"year\" + 0.011*\"like\" + 0.009*\"get\" + 0.008*\"also\" + 0.008*\"thing\" + 0.008*\"way\" + 0.008*\"time\"\n",
      "2024-09-23 15:57:44,014 : INFO : topic #0 (0.100): 0.046*\"http\" + 0.027*\"illinois\" + 0.021*\"edu\" + 0.020*\"com\" + 0.015*\"www\" + 0.012*\"uiuc\" + 0.008*\"reddit\" + 0.008*\"comment\" + 0.006*\"student\" + 0.005*\"review\"\n",
      "2024-09-23 15:57:44,015 : INFO : topic #7 (0.100): 0.022*\"class\" + 0.012*\"year\" + 0.012*\"would\" + 0.010*\"also\" + 0.009*\"get\" + 0.008*\"one\" + 0.008*\"time\" + 0.008*\"take\" + 0.008*\"semester\" + 0.007*\"freshman\"\n",
      "2024-09-23 15:57:44,016 : INFO : topic #1 (0.100): 0.013*\"apartment\" + 0.011*\"cleaning\" + 0.009*\"charge\" + 0.009*\"fee\" + 0.008*\"pay\" + 0.008*\"company\" + 0.008*\"got\" + 0.007*\"rent\" + 0.006*\"get\" + 0.006*\"lease\"\n",
      "2024-09-23 15:57:44,018 : INFO : topic #8 (0.100): 0.023*\"student\" + 0.011*\"many\" + 0.009*\"good\" + 0.008*\"get\" + 0.008*\"try\" + 0.007*\"grad\" + 0.007*\"think\" + 0.006*\"professor\" + 0.006*\"deleted\" + 0.006*\"course\"\n",
      "2024-09-23 15:57:44,018 : INFO : topic diff=0.124050, rho=0.310647\n",
      "2024-09-23 15:57:44,226 : INFO : -8.003 per-word bound, 256.5 perplexity estimate based on a held-out corpus of 725 documents with 11281 words\n",
      "2024-09-23 15:57:44,227 : INFO : PROGRESS: pass 7, at document #4725/4725\n",
      "2024-09-23 15:57:44,347 : INFO : merging changes from 725 documents into a model of 4725 documents\n",
      "2024-09-23 15:57:44,352 : INFO : topic #1 (0.100): 0.013*\"apartment\" + 0.012*\"fee\" + 0.011*\"cleaning\" + 0.009*\"charge\" + 0.009*\"pay\" + 0.008*\"rent\" + 0.008*\"got\" + 0.007*\"lease\" + 0.007*\"still\" + 0.007*\"hair\"\n",
      "2024-09-23 15:57:44,353 : INFO : topic #9 (0.100): 0.012*\"good\" + 0.009*\"pipe\" + 0.008*\"store\" + 0.008*\"county\" + 0.008*\"get\" + 0.007*\"bad\" + 0.006*\"government\" + 0.006*\"tell\" + 0.006*\"hear\" + 0.006*\"chinese\"\n",
      "2024-09-23 15:57:44,354 : INFO : topic #2 (0.100): 0.024*\"people\" + 0.019*\"friend\" + 0.014*\"make\" + 0.013*\"year\" + 0.011*\"like\" + 0.009*\"get\" + 0.008*\"also\" + 0.008*\"way\" + 0.008*\"time\" + 0.008*\"thing\"\n",
      "2024-09-23 15:57:44,355 : INFO : topic #6 (0.100): 0.042*\"water\" + 0.010*\"safe\" + 0.009*\"know\" + 0.009*\"need\" + 0.007*\"get\" + 0.007*\"tap\" + 0.006*\"lead\" + 0.006*\"see\" + 0.006*\"aquifer\" + 0.005*\"told\"\n",
      "2024-09-23 15:57:44,356 : INFO : topic #8 (0.100): 0.028*\"student\" + 0.012*\"many\" + 0.010*\"grad\" + 0.008*\"try\" + 0.008*\"get\" + 0.007*\"think\" + 0.007*\"good\" + 0.007*\"ra\" + 0.007*\"professor\" + 0.007*\"question\"\n",
      "2024-09-23 15:57:44,356 : INFO : topic diff=0.109706, rho=0.310647\n",
      "2024-09-23 15:57:44,358 : INFO : PROGRESS: pass 8, at document #2000/4725\n",
      "2024-09-23 15:57:44,655 : INFO : merging changes from 2000 documents into a model of 4725 documents\n",
      "2024-09-23 15:57:44,659 : INFO : topic #2 (0.100): 0.023*\"people\" + 0.017*\"friend\" + 0.013*\"make\" + 0.012*\"year\" + 0.011*\"like\" + 0.009*\"get\" + 0.008*\"also\" + 0.008*\"thing\" + 0.008*\"time\" + 0.008*\"way\"\n",
      "2024-09-23 15:57:44,660 : INFO : topic #4 (0.100): 0.014*\"dm\" + 0.014*\"lol\" + 0.009*\"interested\" + 0.008*\"still\" + 0.008*\"yeah\" + 0.008*\"back\" + 0.007*\"one\" + 0.007*\"get\" + 0.007*\"also\" + 0.007*\"green\"\n",
      "2024-09-23 15:57:44,660 : INFO : topic #3 (0.100): 0.017*\"like\" + 0.013*\"get\" + 0.011*\"hour\" + 0.008*\"day\" + 0.008*\"campus\" + 0.007*\"bike\" + 0.006*\"one\" + 0.006*\"go\" + 0.006*\"weather\" + 0.006*\"time\"\n",
      "2024-09-23 15:57:44,661 : INFO : topic #9 (0.100): 0.011*\"good\" + 0.008*\"get\" + 0.008*\"store\" + 0.006*\"county\" + 0.006*\"pipe\" + 0.006*\"bad\" + 0.005*\"one\" + 0.005*\"tell\" + 0.005*\"go\" + 0.005*\"know\"\n",
      "2024-09-23 15:57:44,662 : INFO : topic #6 (0.100): 0.031*\"water\" + 0.009*\"know\" + 0.009*\"need\" + 0.008*\"safe\" + 0.007*\"get\" + 0.006*\"see\" + 0.005*\"lead\" + 0.005*\"man\" + 0.005*\"champaign\" + 0.005*\"tap\"\n",
      "2024-09-23 15:57:44,663 : INFO : topic diff=0.096951, rho=0.296663\n",
      "2024-09-23 15:57:44,663 : INFO : PROGRESS: pass 8, at document #4000/4725\n",
      "2024-09-23 15:57:44,967 : INFO : merging changes from 2000 documents into a model of 4725 documents\n",
      "2024-09-23 15:57:44,971 : INFO : topic #9 (0.100): 0.012*\"good\" + 0.008*\"get\" + 0.007*\"store\" + 0.006*\"bad\" + 0.006*\"tell\" + 0.005*\"county\" + 0.005*\"one\" + 0.005*\"go\" + 0.005*\"know\" + 0.005*\"pipe\"\n",
      "2024-09-23 15:57:44,972 : INFO : topic #5 (0.100): 0.038*\"thank\" + 0.021*\"c\" + 0.010*\"id\" + 0.008*\"im\" + 0.008*\"right\" + 0.007*\"head\" + 0.007*\"much\" + 0.006*\"joke\" + 0.006*\"take\" + 0.006*\"engineering\"\n",
      "2024-09-23 15:57:44,973 : INFO : topic #7 (0.100): 0.022*\"class\" + 0.012*\"year\" + 0.012*\"would\" + 0.010*\"also\" + 0.009*\"get\" + 0.008*\"time\" + 0.008*\"one\" + 0.008*\"take\" + 0.008*\"semester\" + 0.007*\"freshman\"\n",
      "2024-09-23 15:57:44,975 : INFO : topic #2 (0.100): 0.022*\"people\" + 0.015*\"friend\" + 0.013*\"make\" + 0.012*\"year\" + 0.011*\"like\" + 0.009*\"get\" + 0.008*\"also\" + 0.008*\"thing\" + 0.008*\"way\" + 0.008*\"time\"\n",
      "2024-09-23 15:57:44,975 : INFO : topic #0 (0.100): 0.048*\"http\" + 0.028*\"illinois\" + 0.022*\"edu\" + 0.020*\"com\" + 0.015*\"www\" + 0.012*\"uiuc\" + 0.008*\"reddit\" + 0.008*\"comment\" + 0.006*\"student\" + 0.005*\"review\"\n",
      "2024-09-23 15:57:44,976 : INFO : topic diff=0.110737, rho=0.296663\n",
      "2024-09-23 15:57:45,152 : INFO : -7.993 per-word bound, 254.8 perplexity estimate based on a held-out corpus of 725 documents with 11281 words\n",
      "2024-09-23 15:57:45,153 : INFO : PROGRESS: pass 8, at document #4725/4725\n",
      "2024-09-23 15:57:45,257 : INFO : merging changes from 725 documents into a model of 4725 documents\n",
      "2024-09-23 15:57:45,262 : INFO : topic #5 (0.100): 0.040*\"thank\" + 0.017*\"c\" + 0.013*\"id\" + 0.010*\"im\" + 0.009*\"joke\" + 0.008*\"head\" + 0.008*\"right\" + 0.007*\"went\" + 0.007*\"much\" + 0.007*\"answer\"\n",
      "2024-09-23 15:57:45,263 : INFO : topic #1 (0.100): 0.013*\"apartment\" + 0.013*\"fee\" + 0.012*\"cleaning\" + 0.009*\"charge\" + 0.009*\"pay\" + 0.008*\"rent\" + 0.008*\"got\" + 0.007*\"still\" + 0.007*\"lease\" + 0.007*\"hair\"\n",
      "2024-09-23 15:57:45,264 : INFO : topic #7 (0.100): 0.024*\"class\" + 0.012*\"year\" + 0.012*\"would\" + 0.010*\"also\" + 0.009*\"time\" + 0.009*\"get\" + 0.009*\"semester\" + 0.008*\"freshman\" + 0.008*\"one\" + 0.008*\"take\"\n",
      "2024-09-23 15:57:45,264 : INFO : topic #9 (0.100): 0.012*\"good\" + 0.009*\"store\" + 0.008*\"pipe\" + 0.008*\"county\" + 0.008*\"get\" + 0.007*\"bad\" + 0.006*\"government\" + 0.006*\"tell\" + 0.006*\"hear\" + 0.005*\"chinese\"\n",
      "2024-09-23 15:57:45,265 : INFO : topic #2 (0.100): 0.024*\"people\" + 0.019*\"friend\" + 0.014*\"make\" + 0.012*\"year\" + 0.011*\"like\" + 0.009*\"get\" + 0.008*\"also\" + 0.008*\"way\" + 0.008*\"time\" + 0.008*\"thing\"\n",
      "2024-09-23 15:57:45,266 : INFO : topic diff=0.100265, rho=0.296663\n",
      "2024-09-23 15:57:45,267 : INFO : PROGRESS: pass 9, at document #2000/4725\n",
      "2024-09-23 15:57:45,572 : INFO : merging changes from 2000 documents into a model of 4725 documents\n",
      "2024-09-23 15:57:45,576 : INFO : topic #5 (0.100): 0.040*\"thank\" + 0.019*\"c\" + 0.011*\"id\" + 0.009*\"im\" + 0.007*\"head\" + 0.007*\"right\" + 0.007*\"answer\" + 0.007*\"engineering\" + 0.007*\"much\" + 0.007*\"joke\"\n",
      "2024-09-23 15:57:45,577 : INFO : topic #3 (0.100): 0.017*\"like\" + 0.014*\"get\" + 0.011*\"hour\" + 0.008*\"day\" + 0.008*\"campus\" + 0.007*\"bike\" + 0.006*\"one\" + 0.006*\"go\" + 0.006*\"weather\" + 0.006*\"time\"\n",
      "2024-09-23 15:57:45,578 : INFO : topic #8 (0.100): 0.024*\"student\" + 0.011*\"many\" + 0.008*\"grad\" + 0.008*\"get\" + 0.008*\"good\" + 0.007*\"think\" + 0.007*\"try\" + 0.007*\"professor\" + 0.007*\"question\" + 0.006*\"say\"\n",
      "2024-09-23 15:57:45,578 : INFO : topic #2 (0.100): 0.024*\"people\" + 0.017*\"friend\" + 0.013*\"make\" + 0.012*\"year\" + 0.011*\"like\" + 0.009*\"get\" + 0.009*\"also\" + 0.008*\"thing\" + 0.008*\"time\" + 0.008*\"way\"\n",
      "2024-09-23 15:57:45,579 : INFO : topic #1 (0.100): 0.015*\"apartment\" + 0.013*\"cleaning\" + 0.012*\"fee\" + 0.009*\"charge\" + 0.008*\"company\" + 0.008*\"pay\" + 0.007*\"rent\" + 0.007*\"got\" + 0.006*\"get\" + 0.006*\"dollar\"\n",
      "2024-09-23 15:57:45,580 : INFO : topic diff=0.089674, rho=0.284411\n",
      "2024-09-23 15:57:45,581 : INFO : PROGRESS: pass 9, at document #4000/4725\n",
      "2024-09-23 15:57:45,875 : INFO : merging changes from 2000 documents into a model of 4725 documents\n",
      "2024-09-23 15:57:45,880 : INFO : topic #1 (0.100): 0.014*\"apartment\" + 0.012*\"cleaning\" + 0.010*\"fee\" + 0.009*\"charge\" + 0.008*\"pay\" + 0.008*\"company\" + 0.008*\"got\" + 0.007*\"rent\" + 0.006*\"get\" + 0.006*\"lease\"\n",
      "2024-09-23 15:57:45,881 : INFO : topic #3 (0.100): 0.017*\"like\" + 0.013*\"get\" + 0.010*\"hour\" + 0.009*\"campus\" + 0.008*\"day\" + 0.007*\"bike\" + 0.007*\"go\" + 0.006*\"one\" + 0.006*\"time\" + 0.006*\"student\"\n",
      "2024-09-23 15:57:45,881 : INFO : topic #8 (0.100): 0.025*\"student\" + 0.010*\"many\" + 0.009*\"good\" + 0.008*\"get\" + 0.008*\"grad\" + 0.008*\"try\" + 0.007*\"think\" + 0.006*\"course\" + 0.006*\"professor\" + 0.006*\"deleted\"\n",
      "2024-09-23 15:57:45,882 : INFO : topic #2 (0.100): 0.022*\"people\" + 0.015*\"friend\" + 0.013*\"make\" + 0.012*\"year\" + 0.011*\"like\" + 0.009*\"get\" + 0.008*\"also\" + 0.008*\"thing\" + 0.008*\"time\" + 0.008*\"way\"\n",
      "2024-09-23 15:57:45,883 : INFO : topic #9 (0.100): 0.012*\"good\" + 0.008*\"get\" + 0.007*\"store\" + 0.006*\"bad\" + 0.006*\"tell\" + 0.006*\"county\" + 0.005*\"one\" + 0.005*\"know\" + 0.005*\"go\" + 0.005*\"pipe\"\n",
      "2024-09-23 15:57:45,884 : INFO : topic diff=0.100377, rho=0.284411\n",
      "2024-09-23 15:57:46,053 : INFO : -7.985 per-word bound, 253.4 perplexity estimate based on a held-out corpus of 725 documents with 11281 words\n",
      "2024-09-23 15:57:46,054 : INFO : PROGRESS: pass 9, at document #4725/4725\n",
      "2024-09-23 15:57:46,302 : INFO : merging changes from 725 documents into a model of 4725 documents\n",
      "2024-09-23 15:57:46,310 : INFO : topic #6 (0.100): 0.042*\"water\" + 0.010*\"safe\" + 0.009*\"know\" + 0.009*\"need\" + 0.007*\"get\" + 0.006*\"tap\" + 0.006*\"lead\" + 0.006*\"see\" + 0.006*\"champaign\" + 0.006*\"aquifer\"\n",
      "2024-09-23 15:57:46,311 : INFO : topic #4 (0.100): 0.013*\"lol\" + 0.013*\"dm\" + 0.011*\"still\" + 0.010*\"interested\" + 0.008*\"yeah\" + 0.008*\"back\" + 0.007*\"one\" + 0.007*\"drinking\" + 0.007*\"late\" + 0.007*\"im\"\n",
      "2024-09-23 15:57:46,313 : INFO : topic #8 (0.100): 0.029*\"student\" + 0.012*\"many\" + 0.010*\"grad\" + 0.008*\"try\" + 0.007*\"good\" + 0.007*\"get\" + 0.007*\"ra\" + 0.007*\"think\" + 0.007*\"question\" + 0.007*\"professor\"\n",
      "2024-09-23 15:57:46,315 : INFO : topic #1 (0.100): 0.014*\"apartment\" + 0.013*\"fee\" + 0.012*\"cleaning\" + 0.009*\"charge\" + 0.009*\"pay\" + 0.008*\"rent\" + 0.008*\"got\" + 0.007*\"still\" + 0.007*\"lease\" + 0.007*\"company\"\n",
      "2024-09-23 15:57:46,316 : INFO : topic #0 (0.100): 0.050*\"http\" + 0.030*\"illinois\" + 0.025*\"edu\" + 0.019*\"com\" + 0.017*\"www\" + 0.012*\"uiuc\" + 0.007*\"reddit\" + 0.007*\"comment\" + 0.007*\"org\" + 0.007*\"review\"\n",
      "2024-09-23 15:57:46,317 : INFO : topic diff=0.092618, rho=0.284411\n",
      "2024-09-23 15:57:46,319 : INFO : PROGRESS: pass 10, at document #2000/4725\n",
      "2024-09-23 15:57:46,613 : INFO : merging changes from 2000 documents into a model of 4725 documents\n",
      "2024-09-23 15:57:46,618 : INFO : topic #2 (0.100): 0.024*\"people\" + 0.017*\"friend\" + 0.013*\"make\" + 0.012*\"year\" + 0.011*\"like\" + 0.009*\"get\" + 0.009*\"also\" + 0.008*\"time\" + 0.008*\"thing\" + 0.008*\"way\"\n",
      "2024-09-23 15:57:46,619 : INFO : topic #9 (0.100): 0.011*\"good\" + 0.009*\"store\" + 0.008*\"get\" + 0.006*\"county\" + 0.006*\"bad\" + 0.006*\"pipe\" + 0.005*\"one\" + 0.005*\"tell\" + 0.005*\"know\" + 0.005*\"go\"\n",
      "2024-09-23 15:57:46,620 : INFO : topic #4 (0.100): 0.015*\"dm\" + 0.014*\"lol\" + 0.010*\"interested\" + 0.009*\"still\" + 0.008*\"yeah\" + 0.008*\"back\" + 0.007*\"one\" + 0.007*\"get\" + 0.007*\"green\" + 0.007*\"also\"\n",
      "2024-09-23 15:57:46,621 : INFO : topic #7 (0.100): 0.023*\"class\" + 0.012*\"would\" + 0.012*\"year\" + 0.010*\"also\" + 0.009*\"time\" + 0.009*\"semester\" + 0.009*\"take\" + 0.009*\"get\" + 0.008*\"one\" + 0.008*\"first\"\n",
      "2024-09-23 15:57:46,622 : INFO : topic #6 (0.100): 0.033*\"water\" + 0.009*\"know\" + 0.009*\"need\" + 0.008*\"safe\" + 0.007*\"get\" + 0.006*\"see\" + 0.005*\"champaign\" + 0.005*\"lead\" + 0.005*\"man\" + 0.005*\"told\"\n",
      "2024-09-23 15:57:46,622 : INFO : topic diff=0.083677, rho=0.273562\n",
      "2024-09-23 15:57:46,624 : INFO : PROGRESS: pass 10, at document #4000/4725\n",
      "2024-09-23 15:57:46,914 : INFO : merging changes from 2000 documents into a model of 4725 documents\n",
      "2024-09-23 15:57:46,918 : INFO : topic #2 (0.100): 0.023*\"people\" + 0.015*\"friend\" + 0.013*\"make\" + 0.012*\"year\" + 0.011*\"like\" + 0.009*\"get\" + 0.009*\"also\" + 0.008*\"thing\" + 0.008*\"time\" + 0.008*\"way\"\n",
      "2024-09-23 15:57:46,919 : INFO : topic #5 (0.100): 0.039*\"thank\" + 0.020*\"c\" + 0.010*\"id\" + 0.008*\"im\" + 0.008*\"right\" + 0.007*\"much\" + 0.006*\"head\" + 0.006*\"joke\" + 0.006*\"answer\" + 0.006*\"engineering\"\n",
      "2024-09-23 15:57:46,920 : INFO : topic #9 (0.100): 0.012*\"good\" + 0.008*\"get\" + 0.007*\"store\" + 0.006*\"bad\" + 0.006*\"tell\" + 0.006*\"county\" + 0.005*\"one\" + 0.005*\"know\" + 0.005*\"go\" + 0.005*\"pipe\"\n",
      "2024-09-23 15:57:46,921 : INFO : topic #7 (0.100): 0.022*\"class\" + 0.012*\"year\" + 0.012*\"would\" + 0.010*\"also\" + 0.010*\"get\" + 0.009*\"time\" + 0.009*\"take\" + 0.008*\"one\" + 0.008*\"semester\" + 0.007*\"first\"\n",
      "2024-09-23 15:57:46,922 : INFO : topic #4 (0.100): 0.014*\"lol\" + 0.013*\"dm\" + 0.009*\"interested\" + 0.009*\"still\" + 0.008*\"yeah\" + 0.008*\"back\" + 0.008*\"one\" + 0.007*\"weight\" + 0.007*\"green\" + 0.006*\"get\"\n",
      "2024-09-23 15:57:46,922 : INFO : topic diff=0.092746, rho=0.273562\n",
      "2024-09-23 15:57:47,084 : INFO : -7.980 per-word bound, 252.4 perplexity estimate based on a held-out corpus of 725 documents with 11281 words\n",
      "2024-09-23 15:57:47,085 : INFO : PROGRESS: pass 10, at document #4725/4725\n",
      "2024-09-23 15:57:47,194 : INFO : merging changes from 725 documents into a model of 4725 documents\n",
      "2024-09-23 15:57:47,199 : INFO : topic #5 (0.100): 0.041*\"thank\" + 0.017*\"c\" + 0.013*\"id\" + 0.010*\"im\" + 0.009*\"joke\" + 0.008*\"right\" + 0.008*\"head\" + 0.007*\"went\" + 0.007*\"much\" + 0.007*\"answer\"\n",
      "2024-09-23 15:57:47,201 : INFO : topic #0 (0.100): 0.051*\"http\" + 0.031*\"illinois\" + 0.025*\"edu\" + 0.019*\"com\" + 0.017*\"www\" + 0.012*\"uiuc\" + 0.007*\"reddit\" + 0.007*\"org\" + 0.007*\"comment\" + 0.007*\"program\"\n",
      "2024-09-23 15:57:47,202 : INFO : topic #3 (0.100): 0.016*\"like\" + 0.013*\"get\" + 0.010*\"hour\" + 0.009*\"campus\" + 0.008*\"day\" + 0.008*\"bike\" + 0.007*\"weather\" + 0.006*\"go\" + 0.006*\"student\" + 0.006*\"one\"\n",
      "2024-09-23 15:57:47,203 : INFO : topic #9 (0.100): 0.012*\"good\" + 0.009*\"store\" + 0.008*\"pipe\" + 0.008*\"county\" + 0.008*\"get\" + 0.007*\"bad\" + 0.006*\"government\" + 0.006*\"tell\" + 0.005*\"hear\" + 0.005*\"chinese\"\n",
      "2024-09-23 15:57:47,205 : INFO : topic #7 (0.100): 0.025*\"class\" + 0.013*\"year\" + 0.012*\"would\" + 0.010*\"time\" + 0.010*\"also\" + 0.009*\"get\" + 0.009*\"semester\" + 0.008*\"take\" + 0.008*\"one\" + 0.008*\"first\"\n",
      "2024-09-23 15:57:47,206 : INFO : topic diff=0.086275, rho=0.273562\n",
      "2024-09-23 15:57:47,206 : INFO : PROGRESS: pass 11, at document #2000/4725\n",
      "2024-09-23 15:57:47,503 : INFO : merging changes from 2000 documents into a model of 4725 documents\n",
      "2024-09-23 15:57:47,508 : INFO : topic #6 (0.100): 0.033*\"water\" + 0.009*\"know\" + 0.009*\"need\" + 0.008*\"safe\" + 0.007*\"get\" + 0.006*\"see\" + 0.006*\"champaign\" + 0.005*\"lead\" + 0.005*\"man\" + 0.005*\"told\"\n",
      "2024-09-23 15:57:47,509 : INFO : topic #2 (0.100): 0.024*\"people\" + 0.017*\"friend\" + 0.013*\"make\" + 0.012*\"year\" + 0.011*\"like\" + 0.009*\"get\" + 0.009*\"also\" + 0.008*\"time\" + 0.008*\"thing\" + 0.008*\"way\"\n",
      "2024-09-23 15:57:47,510 : INFO : topic #5 (0.100): 0.041*\"thank\" + 0.019*\"c\" + 0.011*\"id\" + 0.010*\"im\" + 0.007*\"right\" + 0.007*\"head\" + 0.007*\"answer\" + 0.007*\"engineering\" + 0.007*\"much\" + 0.007*\"joke\"\n",
      "2024-09-23 15:57:47,511 : INFO : topic #7 (0.100): 0.023*\"class\" + 0.012*\"would\" + 0.012*\"year\" + 0.010*\"also\" + 0.010*\"time\" + 0.009*\"semester\" + 0.009*\"take\" + 0.009*\"get\" + 0.008*\"one\" + 0.008*\"first\"\n",
      "2024-09-23 15:57:47,512 : INFO : topic #3 (0.100): 0.017*\"like\" + 0.014*\"get\" + 0.011*\"hour\" + 0.008*\"day\" + 0.008*\"campus\" + 0.007*\"bike\" + 0.006*\"one\" + 0.006*\"go\" + 0.006*\"weather\" + 0.006*\"time\"\n",
      "2024-09-23 15:57:47,513 : INFO : topic diff=0.079062, rho=0.263867\n",
      "2024-09-23 15:57:47,513 : INFO : PROGRESS: pass 11, at document #4000/4725\n",
      "2024-09-23 15:57:47,822 : INFO : merging changes from 2000 documents into a model of 4725 documents\n",
      "2024-09-23 15:57:47,827 : INFO : topic #2 (0.100): 0.023*\"people\" + 0.015*\"friend\" + 0.013*\"make\" + 0.012*\"year\" + 0.011*\"like\" + 0.010*\"get\" + 0.009*\"also\" + 0.008*\"time\" + 0.008*\"thing\" + 0.008*\"way\"\n",
      "2024-09-23 15:57:47,827 : INFO : topic #6 (0.100): 0.026*\"water\" + 0.009*\"know\" + 0.008*\"need\" + 0.007*\"get\" + 0.007*\"safe\" + 0.006*\"man\" + 0.006*\"told\" + 0.005*\"see\" + 0.005*\"champaign\" + 0.005*\"like\"\n",
      "2024-09-23 15:57:47,828 : INFO : topic #7 (0.100): 0.023*\"class\" + 0.012*\"year\" + 0.012*\"would\" + 0.010*\"get\" + 0.010*\"also\" + 0.009*\"time\" + 0.009*\"take\" + 0.008*\"one\" + 0.008*\"semester\" + 0.007*\"first\"\n",
      "2024-09-23 15:57:47,829 : INFO : topic #9 (0.100): 0.012*\"good\" + 0.008*\"get\" + 0.007*\"store\" + 0.006*\"bad\" + 0.006*\"county\" + 0.006*\"tell\" + 0.005*\"one\" + 0.005*\"know\" + 0.005*\"go\" + 0.005*\"pipe\"\n",
      "2024-09-23 15:57:47,829 : INFO : topic #1 (0.100): 0.015*\"apartment\" + 0.012*\"cleaning\" + 0.010*\"fee\" + 0.009*\"charge\" + 0.009*\"pay\" + 0.009*\"company\" + 0.008*\"got\" + 0.007*\"rent\" + 0.006*\"still\" + 0.006*\"lease\"\n",
      "2024-09-23 15:57:47,830 : INFO : topic diff=0.086322, rho=0.263867\n",
      "2024-09-23 15:57:48,008 : INFO : -7.974 per-word bound, 251.5 perplexity estimate based on a held-out corpus of 725 documents with 11281 words\n",
      "2024-09-23 15:57:48,009 : INFO : PROGRESS: pass 11, at document #4725/4725\n",
      "2024-09-23 15:57:48,115 : INFO : merging changes from 725 documents into a model of 4725 documents\n",
      "2024-09-23 15:57:48,121 : INFO : topic #7 (0.100): 0.025*\"class\" + 0.013*\"year\" + 0.012*\"would\" + 0.010*\"time\" + 0.010*\"also\" + 0.010*\"get\" + 0.009*\"semester\" + 0.008*\"take\" + 0.008*\"one\" + 0.008*\"first\"\n",
      "2024-09-23 15:57:48,122 : INFO : topic #0 (0.100): 0.051*\"http\" + 0.031*\"illinois\" + 0.025*\"edu\" + 0.020*\"com\" + 0.017*\"www\" + 0.012*\"uiuc\" + 0.007*\"org\" + 0.007*\"reddit\" + 0.007*\"comment\" + 0.007*\"program\"\n",
      "2024-09-23 15:57:48,123 : INFO : topic #8 (0.100): 0.029*\"student\" + 0.011*\"many\" + 0.010*\"grad\" + 0.008*\"good\" + 0.007*\"try\" + 0.007*\"question\" + 0.007*\"think\" + 0.007*\"ra\" + 0.007*\"get\" + 0.007*\"professor\"\n",
      "2024-09-23 15:57:48,124 : INFO : topic #3 (0.100): 0.016*\"like\" + 0.013*\"get\" + 0.010*\"hour\" + 0.009*\"campus\" + 0.008*\"bike\" + 0.008*\"day\" + 0.007*\"weather\" + 0.006*\"go\" + 0.006*\"one\" + 0.006*\"student\"\n",
      "2024-09-23 15:57:48,125 : INFO : topic #1 (0.100): 0.014*\"apartment\" + 0.013*\"fee\" + 0.012*\"cleaning\" + 0.010*\"charge\" + 0.009*\"pay\" + 0.008*\"rent\" + 0.008*\"got\" + 0.007*\"still\" + 0.007*\"company\" + 0.007*\"lease\"\n",
      "2024-09-23 15:57:48,126 : INFO : topic diff=0.081230, rho=0.263867\n",
      "2024-09-23 15:57:48,127 : INFO : PROGRESS: pass 12, at document #2000/4725\n",
      "2024-09-23 15:57:48,434 : INFO : merging changes from 2000 documents into a model of 4725 documents\n",
      "2024-09-23 15:57:48,439 : INFO : topic #1 (0.100): 0.015*\"apartment\" + 0.013*\"cleaning\" + 0.013*\"fee\" + 0.010*\"charge\" + 0.009*\"company\" + 0.008*\"pay\" + 0.008*\"got\" + 0.008*\"rent\" + 0.006*\"still\" + 0.006*\"lease\"\n",
      "2024-09-23 15:57:48,440 : INFO : topic #6 (0.100): 0.033*\"water\" + 0.009*\"know\" + 0.009*\"need\" + 0.008*\"safe\" + 0.007*\"get\" + 0.006*\"see\" + 0.006*\"champaign\" + 0.005*\"lead\" + 0.005*\"told\" + 0.005*\"man\"\n",
      "2024-09-23 15:57:48,441 : INFO : topic #5 (0.100): 0.041*\"thank\" + 0.019*\"c\" + 0.011*\"id\" + 0.010*\"im\" + 0.007*\"right\" + 0.007*\"head\" + 0.007*\"answer\" + 0.007*\"engineering\" + 0.007*\"much\" + 0.007*\"joke\"\n",
      "2024-09-23 15:57:48,442 : INFO : topic #2 (0.100): 0.024*\"people\" + 0.017*\"friend\" + 0.013*\"make\" + 0.012*\"year\" + 0.012*\"like\" + 0.009*\"get\" + 0.009*\"also\" + 0.008*\"time\" + 0.008*\"thing\" + 0.008*\"way\"\n",
      "2024-09-23 15:57:48,442 : INFO : topic #7 (0.100): 0.024*\"class\" + 0.012*\"would\" + 0.012*\"year\" + 0.010*\"also\" + 0.010*\"time\" + 0.009*\"semester\" + 0.009*\"take\" + 0.009*\"get\" + 0.008*\"one\" + 0.008*\"first\"\n",
      "2024-09-23 15:57:48,443 : INFO : topic diff=0.074965, rho=0.255134\n",
      "2024-09-23 15:57:48,444 : INFO : PROGRESS: pass 12, at document #4000/4725\n",
      "2024-09-23 15:57:48,739 : INFO : merging changes from 2000 documents into a model of 4725 documents\n",
      "2024-09-23 15:57:48,744 : INFO : topic #3 (0.100): 0.017*\"like\" + 0.013*\"get\" + 0.010*\"hour\" + 0.009*\"campus\" + 0.008*\"day\" + 0.007*\"bike\" + 0.006*\"go\" + 0.006*\"one\" + 0.006*\"student\" + 0.006*\"time\"\n",
      "2024-09-23 15:57:48,745 : INFO : topic #5 (0.100): 0.039*\"thank\" + 0.020*\"c\" + 0.010*\"id\" + 0.009*\"im\" + 0.008*\"right\" + 0.007*\"much\" + 0.006*\"head\" + 0.006*\"joke\" + 0.006*\"answer\" + 0.006*\"engineering\"\n",
      "2024-09-23 15:57:48,745 : INFO : topic #8 (0.100): 0.026*\"student\" + 0.010*\"many\" + 0.009*\"good\" + 0.008*\"grad\" + 0.008*\"try\" + 0.007*\"get\" + 0.007*\"think\" + 0.006*\"question\" + 0.006*\"course\" + 0.006*\"deleted\"\n",
      "2024-09-23 15:57:48,746 : INFO : topic #1 (0.100): 0.015*\"apartment\" + 0.012*\"cleaning\" + 0.010*\"fee\" + 0.009*\"charge\" + 0.009*\"company\" + 0.009*\"pay\" + 0.008*\"got\" + 0.007*\"rent\" + 0.006*\"still\" + 0.006*\"lease\"\n",
      "2024-09-23 15:57:48,747 : INFO : topic #0 (0.100): 0.050*\"http\" + 0.031*\"illinois\" + 0.024*\"edu\" + 0.020*\"com\" + 0.016*\"www\" + 0.012*\"uiuc\" + 0.008*\"comment\" + 0.008*\"reddit\" + 0.006*\"org\" + 0.006*\"student\"\n",
      "2024-09-23 15:57:48,747 : INFO : topic diff=0.081455, rho=0.255134\n",
      "2024-09-23 15:57:48,908 : INFO : -7.970 per-word bound, 250.8 perplexity estimate based on a held-out corpus of 725 documents with 11281 words\n",
      "2024-09-23 15:57:48,909 : INFO : PROGRESS: pass 12, at document #4725/4725\n",
      "2024-09-23 15:57:49,011 : INFO : merging changes from 725 documents into a model of 4725 documents\n",
      "2024-09-23 15:57:49,015 : INFO : topic #1 (0.100): 0.014*\"apartment\" + 0.013*\"fee\" + 0.012*\"cleaning\" + 0.010*\"charge\" + 0.009*\"pay\" + 0.008*\"got\" + 0.008*\"rent\" + 0.007*\"still\" + 0.007*\"company\" + 0.007*\"lease\"\n",
      "2024-09-23 15:57:49,016 : INFO : topic #3 (0.100): 0.016*\"like\" + 0.013*\"get\" + 0.011*\"hour\" + 0.009*\"campus\" + 0.009*\"bike\" + 0.008*\"day\" + 0.007*\"weather\" + 0.006*\"go\" + 0.006*\"one\" + 0.006*\"student\"\n",
      "2024-09-23 15:57:49,017 : INFO : topic #0 (0.100): 0.052*\"http\" + 0.032*\"illinois\" + 0.025*\"edu\" + 0.020*\"com\" + 0.017*\"www\" + 0.012*\"uiuc\" + 0.008*\"org\" + 0.007*\"reddit\" + 0.007*\"comment\" + 0.007*\"program\"\n",
      "2024-09-23 15:57:49,018 : INFO : topic #7 (0.100): 0.025*\"class\" + 0.013*\"year\" + 0.012*\"would\" + 0.010*\"time\" + 0.010*\"get\" + 0.010*\"also\" + 0.009*\"semester\" + 0.008*\"take\" + 0.008*\"one\" + 0.008*\"first\"\n",
      "2024-09-23 15:57:49,019 : INFO : topic #8 (0.100): 0.029*\"student\" + 0.011*\"many\" + 0.010*\"grad\" + 0.008*\"good\" + 0.007*\"try\" + 0.007*\"question\" + 0.007*\"think\" + 0.007*\"ra\" + 0.007*\"get\" + 0.007*\"professor\"\n",
      "2024-09-23 15:57:49,020 : INFO : topic diff=0.076772, rho=0.255134\n",
      "2024-09-23 15:57:49,020 : INFO : PROGRESS: pass 13, at document #2000/4725\n",
      "2024-09-23 15:57:49,315 : INFO : merging changes from 2000 documents into a model of 4725 documents\n",
      "2024-09-23 15:57:49,320 : INFO : topic #8 (0.100): 0.026*\"student\" + 0.011*\"many\" + 0.008*\"grad\" + 0.008*\"good\" + 0.008*\"question\" + 0.007*\"try\" + 0.007*\"think\" + 0.007*\"get\" + 0.007*\"professor\" + 0.006*\"deleted\"\n",
      "2024-09-23 15:57:49,321 : INFO : topic #9 (0.100): 0.011*\"good\" + 0.009*\"store\" + 0.008*\"get\" + 0.007*\"county\" + 0.006*\"bad\" + 0.006*\"pipe\" + 0.005*\"one\" + 0.005*\"tell\" + 0.005*\"know\" + 0.005*\"go\"\n",
      "2024-09-23 15:57:49,322 : INFO : topic #6 (0.100): 0.033*\"water\" + 0.009*\"know\" + 0.009*\"need\" + 0.008*\"safe\" + 0.007*\"get\" + 0.006*\"champaign\" + 0.006*\"see\" + 0.005*\"told\" + 0.005*\"lead\" + 0.005*\"man\"\n",
      "2024-09-23 15:57:49,322 : INFO : topic #2 (0.100): 0.024*\"people\" + 0.017*\"friend\" + 0.013*\"make\" + 0.012*\"year\" + 0.012*\"like\" + 0.010*\"get\" + 0.009*\"also\" + 0.009*\"time\" + 0.008*\"thing\" + 0.008*\"way\"\n",
      "2024-09-23 15:57:49,323 : INFO : topic #5 (0.100): 0.041*\"thank\" + 0.019*\"c\" + 0.011*\"id\" + 0.010*\"im\" + 0.008*\"right\" + 0.007*\"head\" + 0.007*\"answer\" + 0.007*\"much\" + 0.007*\"engineering\" + 0.007*\"joke\"\n",
      "2024-09-23 15:57:49,323 : INFO : topic diff=0.071347, rho=0.247215\n",
      "2024-09-23 15:57:49,324 : INFO : PROGRESS: pass 13, at document #4000/4725\n",
      "2024-09-23 15:57:49,610 : INFO : merging changes from 2000 documents into a model of 4725 documents\n",
      "2024-09-23 15:57:49,615 : INFO : topic #6 (0.100): 0.027*\"water\" + 0.009*\"know\" + 0.008*\"need\" + 0.007*\"safe\" + 0.007*\"get\" + 0.006*\"man\" + 0.006*\"told\" + 0.005*\"see\" + 0.005*\"champaign\" + 0.005*\"like\"\n",
      "2024-09-23 15:57:49,616 : INFO : topic #8 (0.100): 0.026*\"student\" + 0.010*\"many\" + 0.009*\"good\" + 0.008*\"grad\" + 0.007*\"try\" + 0.007*\"get\" + 0.007*\"think\" + 0.006*\"question\" + 0.006*\"deleted\" + 0.006*\"course\"\n",
      "2024-09-23 15:57:49,617 : INFO : topic #2 (0.100): 0.023*\"people\" + 0.015*\"friend\" + 0.013*\"make\" + 0.012*\"year\" + 0.011*\"like\" + 0.010*\"get\" + 0.009*\"also\" + 0.008*\"time\" + 0.008*\"thing\" + 0.008*\"way\"\n",
      "2024-09-23 15:57:49,618 : INFO : topic #0 (0.100): 0.051*\"http\" + 0.031*\"illinois\" + 0.024*\"edu\" + 0.020*\"com\" + 0.016*\"www\" + 0.012*\"uiuc\" + 0.008*\"comment\" + 0.008*\"reddit\" + 0.006*\"org\" + 0.006*\"student\"\n",
      "2024-09-23 15:57:49,619 : INFO : topic #5 (0.100): 0.039*\"thank\" + 0.020*\"c\" + 0.010*\"id\" + 0.009*\"im\" + 0.008*\"right\" + 0.007*\"much\" + 0.006*\"head\" + 0.006*\"joke\" + 0.006*\"answer\" + 0.006*\"engineering\"\n",
      "2024-09-23 15:57:49,619 : INFO : topic diff=0.076271, rho=0.247215\n",
      "2024-09-23 15:57:49,886 : INFO : -7.967 per-word bound, 250.2 perplexity estimate based on a held-out corpus of 725 documents with 11281 words\n",
      "2024-09-23 15:57:49,889 : INFO : PROGRESS: pass 13, at document #4725/4725\n",
      "2024-09-23 15:57:50,004 : INFO : merging changes from 725 documents into a model of 4725 documents\n",
      "2024-09-23 15:57:50,009 : INFO : topic #0 (0.100): 0.052*\"http\" + 0.032*\"illinois\" + 0.025*\"edu\" + 0.020*\"com\" + 0.017*\"www\" + 0.012*\"uiuc\" + 0.008*\"org\" + 0.007*\"reddit\" + 0.007*\"comment\" + 0.007*\"program\"\n",
      "2024-09-23 15:57:50,012 : INFO : topic #9 (0.100): 0.012*\"good\" + 0.009*\"store\" + 0.008*\"pipe\" + 0.008*\"county\" + 0.008*\"get\" + 0.007*\"bad\" + 0.006*\"government\" + 0.006*\"tell\" + 0.005*\"hear\" + 0.005*\"chinese\"\n",
      "2024-09-23 15:57:50,013 : INFO : topic #4 (0.100): 0.014*\"dm\" + 0.013*\"lol\" + 0.012*\"still\" + 0.010*\"interested\" + 0.009*\"yeah\" + 0.007*\"back\" + 0.007*\"one\" + 0.007*\"drinking\" + 0.007*\"im\" + 0.007*\"late\"\n",
      "2024-09-23 15:57:50,014 : INFO : topic #6 (0.100): 0.042*\"water\" + 0.010*\"safe\" + 0.009*\"know\" + 0.009*\"need\" + 0.007*\"get\" + 0.006*\"champaign\" + 0.006*\"tap\" + 0.006*\"lead\" + 0.006*\"see\" + 0.006*\"told\"\n",
      "2024-09-23 15:57:50,015 : INFO : topic #8 (0.100): 0.029*\"student\" + 0.011*\"many\" + 0.010*\"grad\" + 0.008*\"good\" + 0.007*\"try\" + 0.007*\"question\" + 0.007*\"think\" + 0.007*\"ra\" + 0.007*\"get\" + 0.007*\"professor\"\n",
      "2024-09-23 15:57:50,016 : INFO : topic diff=0.072721, rho=0.247215\n",
      "2024-09-23 15:57:50,017 : INFO : PROGRESS: pass 14, at document #2000/4725\n",
      "2024-09-23 15:57:50,318 : INFO : merging changes from 2000 documents into a model of 4725 documents\n",
      "2024-09-23 15:57:50,322 : INFO : topic #0 (0.100): 0.052*\"http\" + 0.031*\"illinois\" + 0.023*\"edu\" + 0.021*\"com\" + 0.016*\"www\" + 0.012*\"uiuc\" + 0.008*\"comment\" + 0.008*\"reddit\" + 0.008*\"org\" + 0.007*\"program\"\n",
      "2024-09-23 15:57:50,323 : INFO : topic #8 (0.100): 0.026*\"student\" + 0.011*\"many\" + 0.008*\"grad\" + 0.008*\"good\" + 0.008*\"question\" + 0.007*\"try\" + 0.007*\"think\" + 0.007*\"get\" + 0.007*\"professor\" + 0.006*\"deleted\"\n",
      "2024-09-23 15:57:50,324 : INFO : topic #2 (0.100): 0.024*\"people\" + 0.017*\"friend\" + 0.013*\"make\" + 0.012*\"like\" + 0.012*\"year\" + 0.010*\"get\" + 0.009*\"time\" + 0.009*\"also\" + 0.008*\"thing\" + 0.008*\"go\"\n",
      "2024-09-23 15:57:50,325 : INFO : topic #7 (0.100): 0.024*\"class\" + 0.013*\"would\" + 0.012*\"year\" + 0.010*\"time\" + 0.010*\"also\" + 0.009*\"semester\" + 0.009*\"take\" + 0.009*\"get\" + 0.008*\"one\" + 0.008*\"first\"\n",
      "2024-09-23 15:57:50,325 : INFO : topic #1 (0.100): 0.015*\"apartment\" + 0.013*\"cleaning\" + 0.013*\"fee\" + 0.010*\"charge\" + 0.009*\"company\" + 0.008*\"pay\" + 0.008*\"got\" + 0.008*\"rent\" + 0.006*\"still\" + 0.006*\"move\"\n",
      "2024-09-23 15:57:50,326 : INFO : topic diff=0.068154, rho=0.239990\n",
      "2024-09-23 15:57:50,327 : INFO : PROGRESS: pass 14, at document #4000/4725\n",
      "2024-09-23 15:57:50,614 : INFO : merging changes from 2000 documents into a model of 4725 documents\n",
      "2024-09-23 15:57:50,618 : INFO : topic #2 (0.100): 0.023*\"people\" + 0.015*\"friend\" + 0.013*\"make\" + 0.012*\"year\" + 0.012*\"like\" + 0.010*\"get\" + 0.009*\"also\" + 0.009*\"time\" + 0.008*\"thing\" + 0.008*\"go\"\n",
      "2024-09-23 15:57:50,619 : INFO : topic #1 (0.100): 0.015*\"apartment\" + 0.012*\"cleaning\" + 0.011*\"fee\" + 0.009*\"charge\" + 0.009*\"company\" + 0.009*\"pay\" + 0.008*\"got\" + 0.007*\"rent\" + 0.006*\"move\" + 0.006*\"still\"\n",
      "2024-09-23 15:57:50,620 : INFO : topic #6 (0.100): 0.027*\"water\" + 0.009*\"know\" + 0.008*\"need\" + 0.007*\"safe\" + 0.007*\"get\" + 0.006*\"man\" + 0.006*\"told\" + 0.005*\"champaign\" + 0.005*\"see\" + 0.005*\"like\"\n",
      "2024-09-23 15:57:50,621 : INFO : topic #8 (0.100): 0.026*\"student\" + 0.010*\"many\" + 0.009*\"good\" + 0.008*\"grad\" + 0.007*\"try\" + 0.007*\"get\" + 0.007*\"think\" + 0.007*\"question\" + 0.006*\"deleted\" + 0.006*\"course\"\n",
      "2024-09-23 15:57:50,622 : INFO : topic #0 (0.100): 0.051*\"http\" + 0.031*\"illinois\" + 0.024*\"edu\" + 0.020*\"com\" + 0.016*\"www\" + 0.012*\"uiuc\" + 0.008*\"comment\" + 0.008*\"reddit\" + 0.007*\"org\" + 0.006*\"student\"\n",
      "2024-09-23 15:57:50,622 : INFO : topic diff=0.070970, rho=0.239990\n",
      "2024-09-23 15:57:50,784 : INFO : -7.964 per-word bound, 249.7 perplexity estimate based on a held-out corpus of 725 documents with 11281 words\n",
      "2024-09-23 15:57:50,785 : INFO : PROGRESS: pass 14, at document #4725/4725\n",
      "2024-09-23 15:57:50,888 : INFO : merging changes from 725 documents into a model of 4725 documents\n",
      "2024-09-23 15:57:50,893 : INFO : topic #7 (0.100): 0.025*\"class\" + 0.013*\"year\" + 0.012*\"would\" + 0.010*\"time\" + 0.010*\"get\" + 0.010*\"also\" + 0.009*\"semester\" + 0.009*\"take\" + 0.008*\"one\" + 0.008*\"first\"\n",
      "2024-09-23 15:57:50,894 : INFO : topic #6 (0.100): 0.042*\"water\" + 0.010*\"safe\" + 0.009*\"know\" + 0.009*\"need\" + 0.007*\"get\" + 0.006*\"champaign\" + 0.006*\"tap\" + 0.006*\"lead\" + 0.006*\"see\" + 0.006*\"told\"\n",
      "2024-09-23 15:57:50,895 : INFO : topic #3 (0.100): 0.016*\"like\" + 0.013*\"get\" + 0.011*\"hour\" + 0.009*\"bike\" + 0.009*\"campus\" + 0.008*\"day\" + 0.007*\"weather\" + 0.006*\"go\" + 0.006*\"one\" + 0.006*\"student\"\n",
      "2024-09-23 15:57:50,895 : INFO : topic #2 (0.100): 0.025*\"people\" + 0.019*\"friend\" + 0.014*\"make\" + 0.012*\"year\" + 0.012*\"like\" + 0.010*\"get\" + 0.009*\"also\" + 0.009*\"time\" + 0.008*\"thing\" + 0.008*\"way\"\n",
      "2024-09-23 15:57:50,897 : INFO : topic #8 (0.100): 0.029*\"student\" + 0.011*\"many\" + 0.010*\"grad\" + 0.008*\"good\" + 0.007*\"try\" + 0.007*\"question\" + 0.007*\"think\" + 0.007*\"ra\" + 0.007*\"get\" + 0.007*\"campus\"\n",
      "2024-09-23 15:57:50,897 : INFO : topic diff=0.069445, rho=0.239990\n",
      "2024-09-23 15:57:50,898 : INFO : LdaModel lifecycle event {'msg': 'trained LdaModel<num_terms=9122, num_topics=10, decay=0.5, chunksize=2000> in 15.88s', 'datetime': '2024-09-23T15:57:50.898389', 'gensim': '4.3.3', 'python': '3.9.19 (main, May  6 2024, 14:46:57) \\n[Clang 14.0.6 ]', 'platform': 'macOS-10.16-x86_64-i386-64bit', 'event': 'created'}\n",
      "2024-09-23 15:57:50,899 : INFO : topic #0 (0.100): 0.052*\"http\" + 0.032*\"illinois\" + 0.025*\"edu\" + 0.020*\"com\" + 0.017*\"www\" + 0.012*\"uiuc\" + 0.008*\"org\" + 0.007*\"reddit\" + 0.007*\"comment\" + 0.007*\"program\"\n",
      "2024-09-23 15:57:50,900 : INFO : topic #1 (0.100): 0.015*\"apartment\" + 0.013*\"fee\" + 0.012*\"cleaning\" + 0.010*\"charge\" + 0.009*\"pay\" + 0.008*\"got\" + 0.008*\"rent\" + 0.007*\"still\" + 0.007*\"company\" + 0.007*\"lease\"\n",
      "2024-09-23 15:57:50,901 : INFO : topic #2 (0.100): 0.025*\"people\" + 0.019*\"friend\" + 0.014*\"make\" + 0.012*\"year\" + 0.012*\"like\" + 0.010*\"get\" + 0.009*\"also\" + 0.009*\"time\" + 0.008*\"thing\" + 0.008*\"way\"\n",
      "2024-09-23 15:57:50,902 : INFO : topic #3 (0.100): 0.016*\"like\" + 0.013*\"get\" + 0.011*\"hour\" + 0.009*\"bike\" + 0.009*\"campus\" + 0.008*\"day\" + 0.007*\"weather\" + 0.006*\"go\" + 0.006*\"one\" + 0.006*\"student\"\n",
      "2024-09-23 15:57:50,902 : INFO : topic #4 (0.100): 0.014*\"dm\" + 0.013*\"lol\" + 0.012*\"still\" + 0.010*\"interested\" + 0.009*\"yeah\" + 0.007*\"back\" + 0.007*\"one\" + 0.007*\"drinking\" + 0.007*\"im\" + 0.007*\"late\"\n",
      "2024-09-23 15:57:50,903 : INFO : topic #5 (0.100): 0.041*\"thank\" + 0.017*\"c\" + 0.013*\"id\" + 0.010*\"im\" + 0.008*\"joke\" + 0.008*\"right\" + 0.008*\"head\" + 0.007*\"went\" + 0.007*\"much\" + 0.007*\"answer\"\n",
      "2024-09-23 15:57:50,904 : INFO : topic #6 (0.100): 0.042*\"water\" + 0.010*\"safe\" + 0.009*\"know\" + 0.009*\"need\" + 0.007*\"get\" + 0.006*\"champaign\" + 0.006*\"tap\" + 0.006*\"lead\" + 0.006*\"see\" + 0.006*\"told\"\n",
      "2024-09-23 15:57:50,905 : INFO : topic #7 (0.100): 0.025*\"class\" + 0.013*\"year\" + 0.012*\"would\" + 0.010*\"time\" + 0.010*\"get\" + 0.010*\"also\" + 0.009*\"semester\" + 0.009*\"take\" + 0.008*\"one\" + 0.008*\"first\"\n",
      "2024-09-23 15:57:50,905 : INFO : topic #8 (0.100): 0.029*\"student\" + 0.011*\"many\" + 0.010*\"grad\" + 0.008*\"good\" + 0.007*\"try\" + 0.007*\"question\" + 0.007*\"think\" + 0.007*\"ra\" + 0.007*\"get\" + 0.007*\"campus\"\n",
      "2024-09-23 15:57:50,906 : INFO : topic #9 (0.100): 0.011*\"good\" + 0.009*\"store\" + 0.008*\"pipe\" + 0.008*\"county\" + 0.008*\"get\" + 0.007*\"bad\" + 0.006*\"tell\" + 0.006*\"government\" + 0.005*\"hear\" + 0.005*\"chinese\"\n"
     ]
    },
    {
     "name": "stdout",
     "output_type": "stream",
     "text": [
      "Topic 0: 0.052*\"http\" + 0.032*\"illinois\" + 0.025*\"edu\" + 0.020*\"com\" + 0.017*\"www\" + 0.012*\"uiuc\" + 0.008*\"org\" + 0.007*\"reddit\" + 0.007*\"comment\" + 0.007*\"program\"\n",
      "Topic 1: 0.015*\"apartment\" + 0.013*\"fee\" + 0.012*\"cleaning\" + 0.010*\"charge\" + 0.009*\"pay\" + 0.008*\"got\" + 0.008*\"rent\" + 0.007*\"still\" + 0.007*\"company\" + 0.007*\"lease\"\n",
      "Topic 2: 0.025*\"people\" + 0.019*\"friend\" + 0.014*\"make\" + 0.012*\"year\" + 0.012*\"like\" + 0.010*\"get\" + 0.009*\"also\" + 0.009*\"time\" + 0.008*\"thing\" + 0.008*\"way\"\n",
      "Topic 3: 0.016*\"like\" + 0.013*\"get\" + 0.011*\"hour\" + 0.009*\"bike\" + 0.009*\"campus\" + 0.008*\"day\" + 0.007*\"weather\" + 0.006*\"go\" + 0.006*\"one\" + 0.006*\"student\"\n",
      "Topic 4: 0.014*\"dm\" + 0.013*\"lol\" + 0.012*\"still\" + 0.010*\"interested\" + 0.009*\"yeah\" + 0.007*\"back\" + 0.007*\"one\" + 0.007*\"drinking\" + 0.007*\"im\" + 0.007*\"late\"\n",
      "Topic 5: 0.041*\"thank\" + 0.017*\"c\" + 0.013*\"id\" + 0.010*\"im\" + 0.008*\"joke\" + 0.008*\"right\" + 0.008*\"head\" + 0.007*\"went\" + 0.007*\"much\" + 0.007*\"answer\"\n",
      "Topic 6: 0.042*\"water\" + 0.010*\"safe\" + 0.009*\"know\" + 0.009*\"need\" + 0.007*\"get\" + 0.006*\"champaign\" + 0.006*\"tap\" + 0.006*\"lead\" + 0.006*\"see\" + 0.006*\"told\"\n",
      "Topic 7: 0.025*\"class\" + 0.013*\"year\" + 0.012*\"would\" + 0.010*\"time\" + 0.010*\"get\" + 0.010*\"also\" + 0.009*\"semester\" + 0.009*\"take\" + 0.008*\"one\" + 0.008*\"first\"\n",
      "Topic 8: 0.029*\"student\" + 0.011*\"many\" + 0.010*\"grad\" + 0.008*\"good\" + 0.007*\"try\" + 0.007*\"question\" + 0.007*\"think\" + 0.007*\"ra\" + 0.007*\"get\" + 0.007*\"campus\"\n",
      "Topic 9: 0.011*\"good\" + 0.009*\"store\" + 0.008*\"pipe\" + 0.008*\"county\" + 0.008*\"get\" + 0.007*\"bad\" + 0.006*\"tell\" + 0.006*\"government\" + 0.005*\"hear\" + 0.005*\"chinese\"\n",
      "\n",
      "--- Topic 0 ---\n",
      "8                     On the bright side, no shadow ban\n",
      "12    I did , now I’am living in luxury penthouse in...\n",
      "14                                                  😂🤣😂\n",
      "Name: text, dtype: object\n",
      "\n",
      "--- Topic 1 ---\n",
      "11    One advantage of Perplexity over some other Ge...\n",
      "34                       Ayo what happened at Grainger?\n",
      "38                              Wtaf is wrong with you?\n",
      "Name: text, dtype: object\n",
      "\n",
      "--- Topic 2 ---\n",
      "26                  what are the activities in the club\n",
      "31    Mass mail when the weather is slightly warm an...\n",
      "35    They never send info about someone who has tha...\n",
      "Name: text, dtype: object\n",
      "\n",
      "--- Topic 3 ---\n",
      "0    Have the same professor! And in lecture he did...\n",
      "3    Purchasing Illini Cash should get you added to...\n",
      "9                                             bookstor\n",
      "Name: text, dtype: object\n",
      "\n",
      "--- Topic 4 ---\n",
      "28                             How'd you come back tho?\n",
      "74    Yeah I recognize that and won't hold anything ...\n",
      "75                               Yeah I mean the admin.\n",
      "Name: text, dtype: object\n",
      "\n",
      "--- Topic 5 ---\n",
      "19                                              Teleport\n",
      "36     Hey man, the humanities buildies dont have the...\n",
      "106    For biochemistry yes, provided your essay is g...\n",
      "Name: text, dtype: object\n",
      "\n",
      "--- Topic 6 ---\n",
      "30                                                 Pm’d\n",
      "37    Someone fell down the stairs and ambulance and...\n",
      "48    There are cameras everywhere on campus. Report...\n",
      "Name: text, dtype: object\n",
      "\n",
      "--- Topic 7 ---\n",
      "1    Do you find it helpful to still go to the lect...\n",
      "2    Have you tried emailing University Housing to ...\n",
      "5    Is there a lower limit for that? I have some I...\n",
      "Name: text, dtype: object\n",
      "\n",
      "--- Topic 8 ---\n",
      "25    Do you have questions after reading about the ...\n",
      "46       dawg i'm in college so i don't have to do that\n",
      "80                           Colbert Park Hill in Savoy\n",
      "Name: text, dtype: object\n",
      "\n",
      "--- Topic 9 ---\n",
      "4     Just did, thanks for the suggestion! It hadn't...\n",
      "17                                            Practice.\n",
      "43    ain't no way bro made an edgy joke and got but...\n",
      "Name: text, dtype: object\n"
     ]
    }
   ],
   "source": [
    "import pandas as pd\n",
    "import re\n",
    "import nltk\n",
    "from nltk.tokenize import RegexpTokenizer\n",
    "from nltk.corpus import stopwords\n",
    "from nltk.stem.wordnet import WordNetLemmatizer\n",
    "from gensim import corpora\n",
    "from gensim.models import LdaModel\n",
    "import gensim\n",
    "import logging\n",
    "nltk.download('stopwords')\n",
    "nltk.download('wordnet')\n",
    "\n",
    "logging.basicConfig(format='%(asctime)s : %(levelname)s : %(message)s', level=logging.INFO)\n",
    "\n",
    "\n",
    "uiuc = pd.read_csv('uiuc.csv')\n",
    "\n",
    "stop_words = set(stopwords.words('english'))\n",
    "tokenizer = RegexpTokenizer(r'\\w+')\n",
    "lemmatizer = WordNetLemmatizer()\n",
    "\n",
    "def preprocess(text):\n",
    "    text = text.lower() \n",
    "    tokens = tokenizer.tokenize(text)  \n",
    "    tokens = [lemmatizer.lemmatize(token) for token in tokens if token not in stop_words and len(token) > 1] \n",
    "    return tokens\n",
    "\n",
    "\n",
    "uiuc['processed'] = uiuc['text'].apply(preprocess)\n",
    "\n",
    "\n",
    "dictionary = corpora.Dictionary(uiuc['processed'])\n",
    "corpus = [dictionary.doc2bow(text) for text in uiuc['processed']]\n",
    "\n",
    "\n",
    "num_topics = 10 \n",
    "lda_model = LdaModel(corpus=corpus, id2word=dictionary, num_topics=num_topics, passes=15, iterations=400, random_state=42)\n",
    "\n",
    "\n",
    "topics = lda_model.print_topics(num_words=10)\n",
    "for topic_id, topic_words in topics:\n",
    "    print(f\"Topic {topic_id}: {topic_words}\")\n",
    "\n",
    "\n",
    "uiuc['dominant_topic'] = [max(lda_model[doc], key=lambda x: x[1])[0] for doc in corpus]\n",
    "\n",
    "for topic_num in range(num_topics):\n",
    "    print(f\"\\n--- Topic {topic_num} ---\")\n",
    "    print(uiuc[uiuc['dominant_topic'] == topic_num]['text'].head(3)) \n",
    "\n"
   ]
  },
  {
   "cell_type": "markdown",
   "metadata": {},
   "source": [
    "Based on the topics above if we look at the first three for example we can indentify rough themes for each topic. For topic 0 considering the emojis and the phrases like \"on the bright side\" it might be that these are more light hearted and/or funny phrases. Topic 1's phrases seem to carry the context of questions and like surprised/shocked reactions. And if we look at a Topic like #5 the phrases seem like they are related to academics like science."
   ]
  },
  {
   "cell_type": "markdown",
   "metadata": {},
   "source": [
    "### AI Help Reference:"
   ]
  },
  {
   "cell_type": "markdown",
   "metadata": {},
   "source": [
    "Only used chatgpt and the listed links as external resources. For the most part the code I used was from the notebook itself. At some parts my code wasn't working or since I'm using jupyter notebook without the is310 enviornment I ran into some issues with uninstalled packages. So I used chatgpt to help me figure out which packages to install in addition. I also ran into some errors with the code so I used chatGPT to debug. And lastly for the final question code because I hadn't really worked with Topic models as I had with Logistic Regression I had to use the external reference link provided and a lot of chatGPT coding help to complete that section of the code."
   ]
  }
 ],
 "metadata": {
  "kernelspec": {
   "display_name": "Python 3 (ipykernel)",
   "language": "python",
   "name": "python3"
  },
  "language_info": {
   "codemirror_mode": {
    "name": "ipython",
    "version": 3
   },
   "file_extension": ".py",
   "mimetype": "text/x-python",
   "name": "python",
   "nbconvert_exporter": "python",
   "pygments_lexer": "ipython3",
   "version": "3.11.4"
  }
 },
 "nbformat": 4,
 "nbformat_minor": 4
}
